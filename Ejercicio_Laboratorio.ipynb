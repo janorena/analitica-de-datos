{
  "nbformat": 4,
  "nbformat_minor": 0,
  "metadata": {
    "colab": {
      "name": "Ejercicio Laboratorio",
      "provenance": [],
      "collapsed_sections": [],
      "authorship_tag": "ABX9TyMfU8j3IgpZJKorspDufx1f",
      "include_colab_link": true
    },
    "kernelspec": {
      "name": "python3",
      "display_name": "Python 3"
    }
  },
  "cells": [
    {
      "cell_type": "markdown",
      "metadata": {
        "id": "view-in-github",
        "colab_type": "text"
      },
      "source": [
        "<a href=\"https://colab.research.google.com/github/janorena/analitica-de-datos/blob/master/Ejercicio_Laboratorio.ipynb\" target=\"_parent\"><img src=\"https://colab.research.google.com/assets/colab-badge.svg\" alt=\"Open In Colab\"/></a>"
      ]
    },
    {
      "cell_type": "markdown",
      "metadata": {
        "id": "Gs1d8EX8Z5wB"
      },
      "source": [
        "# Jorge Andrés Noreña García - 816543"
      ]
    },
    {
      "cell_type": "markdown",
      "metadata": {
        "id": "payNTAxmaBTw"
      },
      "source": [
        "Consultar el funcionamiento (modelo matemático, función de costo y optimización) de los siguientes algoritmos seg´un su implementación en el paquete Scikit-Learn de Python:\n",
        "* sklearn.linear model.LinearRegression\n",
        "* sklearn.linear model.Ridge\n",
        "* sklearn.linear model.Lasso\n",
        "* sklearn.linear model.ElasticNet\n",
        "* sklearn.kernel ridge.KernelRidge (describa los modelos no lineales disponibles).\n"
      ]
    },
    {
      "cell_type": "markdown",
      "metadata": {
        "id": "QfutsF3NYjrl"
      },
      "source": [
        "# 1) sklearn.linear model.LinearRegression"
      ]
    },
    {
      "cell_type": "markdown",
      "metadata": {
        "id": "cijK4Ls4Z5AS"
      },
      "source": [
        "Regresión lineal por mínimos cuadrados ordinarios.\n",
        "LinearRegression se ajusta a un modelo lineal con coeficientes: $$ w = (w1,…, wp)$$ para minimizar la suma residual de cuadrados entre los objetivos observados en el conjunto de datos y los objetivos predichos por la aproximación lineal.\n",
        "\n",
        "Antes de explicar el método de los mínimos cuadrados para resolver regresiones lineales, tenemos que expandir la notación. Debemos tener en cuenta que normalmente, tendremos muchas variables.\n",
        "Con una variable, la ecuación para la regresión lineal es:\n",
        "\n",
        "$$y=wx+b$$\n",
        "\n",
        "Por conveniencia, vamos a reescribir la ecuación anterior:\n",
        "\n",
        "$$y = b + wx$$\n",
        "\n",
        "Cuando tengamos un dato con N variables, llamaremos al dato X. También tenemos que expandir los parámetros W para que cada parámetro vaya con una variable:\n",
        "\n",
        "$$X = [x_0, x_1, x_2, ..., x_N]$$\n",
        "\n",
        "$$W = [w_0, w_1, w_2, ..., w_N]$$\n",
        "\n",
        "Si hacemos que\n",
        "\n",
        "$$x_0 = 1, w_0 = b$$\n",
        "\n",
        "nos queda una expresión equivalente a la original. Podemos ver que:\n",
        "\n",
        "$$y = b + wx = w_0 x_0 + w_1 x_1$$\n",
        " \n",
        "Para el caso general, la ecuación lineal quedaría:\n",
        "\n",
        "$$y = WX$$\n",
        "\n",
        "usando el producto matricial. Si tienes la multiplicación de matrices un poco oxidada, la versión intuitiva sería:\n",
        "\n",
        "$$y = w_0 x_0 + w_1 x_1 + w_2 x_2 + ... + w_N x_N$$\n",
        "\n",
        "LinearRegressiontomará en su fitmétodo las matrices X, y y almacenará los coeficientesdel modelo lineal en su coef_miembro:"
      ]
    },
    {
      "cell_type": "code",
      "metadata": {
        "id": "3HC7h5sJdjFI",
        "outputId": "036b8fc6-ea33-4f3f-afb9-ce738aec2e0b",
        "colab": {
          "base_uri": "https://localhost:8080/",
          "height": 592
        }
      },
      "source": [
        "import matplotlib.pyplot as plt\n",
        "import numpy as np\n",
        "from sklearn import datasets, linear_model\n",
        "from sklearn.metrics import mean_squared_error, r2_score\n",
        "diabetes_X, diabetes_y = datasets.load_diabetes(return_X_y=True)\n",
        "diabetes_X = diabetes_X[:, np.newaxis, 2]\n",
        "diabetes_X_train = diabetes_X[:-20]\n",
        "diabetes_X_test = diabetes_X[-20:]\n",
        "diabetes_y_train = diabetes_y[:-20]\n",
        "diabetes_y_test = diabetes_y[-20:]\n",
        "regr = linear_model.LinearRegression()\n",
        "regr.fit(diabetes_X_train, diabetes_y_train)\n",
        "diabetes_y_pred = regr.predict(diabetes_X_test)\n",
        "print('Coefficients: \\n', regr.coef_)\n",
        "print('Mean squared error: %.2f'\n",
        "      % mean_squared_error(diabetes_y_test, diabetes_y_pred))\n",
        "print('Coefficient of determination: %.2f'\n",
        "      % r2_score(diabetes_y_test, diabetes_y_pred))\n",
        "plt.scatter(diabetes_X_test, diabetes_y_test,  color='black')\n",
        "plt.plot(diabetes_X_test, diabetes_y_pred, color='red', linewidth=3)\n",
        "plt.xticks(())\n",
        "plt.yticks(())\n",
        "plt.show()"
      ],
      "execution_count": null,
      "outputs": [
        {
          "output_type": "stream",
          "text": [
            "Coefficients: \n",
            " [938.23786125]\n",
            "Mean squared error: 2548.07\n",
            "Coefficient of determination: 0.47\n"
          ],
          "name": "stdout"
        },
        {
          "output_type": "display_data",
          "data": {
            "image/png": "[encoded data removed]",
            "text/plain": [
              "<Figure size 1152x648 with 1 Axes>"
            ]
          },
          "metadata": {
            "tags": []
          }
        }
      ]
    },
    {
      "cell_type": "markdown",
      "metadata": {
        "id": "clHNy7pshu2O"
      },
      "source": [
        "# 2) sklearn.linear model.Ridge"
      ]
    },
    {
      "cell_type": "markdown",
      "metadata": {
        "id": "AOQD2AYsh-Et"
      },
      "source": [
        "Ridge regression es similar al ajuste por mínimos cuadrados en cuanto que ambos tratan de minimizar el Residual Sum of Squares (RSS). La diferencia reside en que ridge regression incorpora un término llamado shrinkage penalty que fuerza a que los coeficientes de los predictores tiendan a cero. El efecto de esta penalización está controlada por el parámetro λ. Cuando λ=0 la penalización es nula y los resultados son equivalentes a los obtenidos por mínimos cuadrados, cuando λ=∞ todos los coeficientes son cero, lo que equivale al modelo sin ningún predictor (modelo nulo).\n",
        "\n",
        "$$∑i=1n(yi−β0−∑j=1pβjxij)2+λ∑j=1pβ2j=RSS+λ∑j=1pβ2j$$\n",
        "\n",
        "La principal ventaja del ajuste por ridge regression frente al ajuste por mínimos cuadrados es la reducción de varianza. Por lo general, en situaciones en las que la relación entre la variable respuesta y los predictores es aproximadamente lineal, las estimaciones por mínimos cuadrados tienen poco bias pero aún pueden sufrir alta varianza (pequeños cambios en los datos de entrenamiento tienen mucho impacto en el modelo resultante). Este problema se acentúa conforme el número de predictores introducido en el modelo se aproxima al número de observaciones de entrenamiento, llegando al punto en que, si p>n, no es posible ajustar por mínimos cuadrados. Empleando un valor adecuado de λ, identificado mediante cross-validation, el método de ridge regression es capaz de reducir varianza sin apenas aumentar el bias, consiguiendo así un menor error total.\n",
        "\n",
        "La limitación del método de ajuste por ridge regression en comparación a los métodos de subset selection es que el modelo final va a incluir todos los predictores. Esto es así porque, si bien la penalización empleada fuerza a que los coeficientes tiendan a cero, nunca llegan a ser exactamente cero (solo si λ=∞). Este método consigue minimizar la influencia sobre el modelo de los predictores menos relacionados con la variable respuesta, pero en el modelo final van a seguir apareciendo. Aunque esto no supone un problema para la precisión del modelo, sí lo es para su interpretación.\n",
        "\n",
        "La Regresión Rigde, también denominada regresión contraída o Tikhonov regularization, regulariza el modelo resultante imponiendo una penalización al tamaño de los coeficientes de la relación lineal entre las características predictivas y la variable objetivo. En este caso, los coeficientes calculados minimizan la suma de los cuadrados de los residuos penalizada al añadir el cuadrado de la norma L2 del vector formado por los coeficientes:\n",
        "\n",
        "$${ RSS }_{ ridge }=\\sum _{ i=1 }^{ n }{ { ({ y }_{ i }-f{ ({ x }_{ i }) }) }^{ 2 } } +\\lambda \\sum _{ j=1 }^{ p }{ { \\beta  }_{ j }^{ 2 } } $$\n",
        "\n",
        "RSS Ridge\n",
        "...donde λ es un parámetro que controla el grado de penalización: cuanto mayor éste, los coeficientes serán menores resultando más robustos a la colinealidad. Cuando α es igual a cero, Ridge es equivalente a la regresión lineal.\n",
        "\n",
        "La norma L2 es equivalente a la distancia Euclidea del vector al centro de coordenadas, por lo que la penalización es proporcional a los cuadrados de los coeficientes. Por poner un ejemplo sencillo, si el vector de coordenadas es (2, 3) -supongamos que estamos trabajando solo con dos características predictivas-, la \"norma 2\" (L2) de este vector sería la distancia del punto (2, 3) a (0, 0), es decir, la raíz cuadrada de 22 + 32: 3.16 aproximadamente. La penalización sería el cuadrado de este valor: 10 (resultante de sumar los cuadrados de los coeficientes).\n",
        "\n",
        "Nótese que el término de regularización solo se añade a la función de coste durante el entrenamiento: la evaluación del rendimiento del modelo se realiza considerando solo la función de coste sin regularizar."
      ]
    },
    {
      "cell_type": "code",
      "metadata": {
        "id": "Ys7GvrbglelP"
      },
      "source": [
        "from sklearn.datasets import make_regression\n",
        "from matplotlib import pyplot as plt\n",
        "import numpy as np\n",
        "from sklearn.linear_model import Ridge\n"
      ],
      "execution_count": null,
      "outputs": []
    },
    {
      "cell_type": "code",
      "metadata": {
        "id": "skPmi7p3le1e"
      },
      "source": [
        "X, y, coefficients = make_regression(\n",
        "    n_samples=50,\n",
        "    n_features=1,\n",
        "    n_informative=1,\n",
        "    n_targets=1,\n",
        "    noise=5,\n",
        "    coef=True,\n",
        "    random_state=1\n",
        ")"
      ],
      "execution_count": null,
      "outputs": []
    },
    {
      "cell_type": "code",
      "metadata": {
        "id": "0IX_CLF_lerJ"
      },
      "source": [
        "alpha = 1"
      ],
      "execution_count": null,
      "outputs": []
    },
    {
      "cell_type": "code",
      "metadata": {
        "id": "R64xd3Y0lecA"
      },
      "source": [
        "n, m = X.shape\n",
        "I = np.identity(m)"
      ],
      "execution_count": null,
      "outputs": []
    },
    {
      "cell_type": "code",
      "metadata": {
        "id": "F9VGJwZQlpBf"
      },
      "source": [
        "w = np.dot(np.dot(np.linalg.inv(np.dot(X.T, X) + alpha * I), X.T), y)"
      ],
      "execution_count": null,
      "outputs": []
    },
    {
      "cell_type": "code",
      "metadata": {
        "id": "Q0BLAyIelpFH",
        "outputId": "42884ba6-04a4-459c-af2c-1280bfb5a34a",
        "colab": {
          "base_uri": "https://localhost:8080/",
          "height": 34
        }
      },
      "source": [
        "w"
      ],
      "execution_count": null,
      "outputs": [
        {
          "output_type": "execute_result",
          "data": {
            "text/plain": [
              "array([87.37153533])"
            ]
          },
          "metadata": {
            "tags": []
          },
          "execution_count": 27
        }
      ]
    },
    {
      "cell_type": "code",
      "metadata": {
        "id": "u-uKnCZ_lo3d",
        "outputId": "4abc29ce-c1ee-49f8-a6e1-c9d8a9ae02e6",
        "colab": {
          "base_uri": "https://localhost:8080/",
          "height": 34
        }
      },
      "source": [
        "coefficients"
      ],
      "execution_count": null,
      "outputs": [
        {
          "output_type": "execute_result",
          "data": {
            "text/plain": [
              "array(90.34019153)"
            ]
          },
          "metadata": {
            "tags": []
          },
          "execution_count": 28
        }
      ]
    },
    {
      "cell_type": "code",
      "metadata": {
        "id": "ZMfkQE2slttT",
        "outputId": "e6833f2a-f39f-47e7-83c0-7c4cc62f35cb",
        "colab": {
          "base_uri": "https://localhost:8080/",
          "height": 554
        }
      },
      "source": [
        "plt.scatter(X, y)\n",
        "plt.plot(X, w*X, c='black')"
      ],
      "execution_count": null,
      "outputs": [
        {
          "output_type": "execute_result",
          "data": {
            "text/plain": [
              "[<matplotlib.lines.Line2D at 0x7fed521777f0>]"
            ]
          },
          "metadata": {
            "tags": []
          },
          "execution_count": 30
        },
        {
          "output_type": "display_data",
          "data": {
            "image/png": "[encoded data removed]",
            "text/plain": [
              "<Figure size 1152x648 with 1 Axes>"
            ]
          },
          "metadata": {
            "tags": []
          }
        }
      ]
    },
    {
      "cell_type": "markdown",
      "metadata": {
        "id": "Zzaztrn5mD1O"
      },
      "source": [
        "# 3) sklearn.linear model.Lasso"
      ]
    },
    {
      "cell_type": "markdown",
      "metadata": {
        "id": "9EMTERhFmKXP"
      },
      "source": [
        "Lasso -del inglés Least Absolute Shrinkage and Selection Operator- es un modelo lineal que penaliza el vector de coeficientes añadiendo su norma L1 (basada en la distancia Manhattan) a la función de coste:\n",
        "\n",
        "$${ RSS }_{ lasso }=\\sum _{ i=1 }^{ n }{ { ({ y }_{ i }-f{ ({ x }_{ i }) }) }^{ 2 } } +\\lambda \\sum _{ j=1 }^{ p }{ { |\\beta  }_{ j }| } $$\n",
        "\n",
        "Lasso tiende a generar \"coeficientes dispersos\": vectores de coeficientes en los que la mayoría de ellos toman el valor cero. Esto quiere decir que el modelo va a ignorar algunas de las características predictivas, lo que puede ser considerado un tipo de selección automática de características. El incluir menos características supone un modelo más sencillo de interpretar que puede poner de manifiesto las características más importantes del conjunto de datos. En el caso de que exista cierta correlación entre las características predictivas, Lasso tenderá a escoger una de ellas al azar.\n",
        "\n",
        "Esto significa que, aunque Ridge es una buena opción por defecto, si sospechamos que la distribución de los datos viene determinada por un subconjunto de las características predictivas, Lasso podría devolver mejores resultados."
      ]
    },
    {
      "cell_type": "code",
      "metadata": {
        "id": "w6FdX86Pm8nM"
      },
      "source": [
        "import pandas as pd\n",
        "import numpy as np\n",
        "from sklearn.linear_model import Lasso, LinearRegression\n",
        "from sklearn.model_selection import cross_val_score\n",
        "import matplotlib.pyplot as plt\n",
        "%matplotlib inline"
      ],
      "execution_count": null,
      "outputs": []
    },
    {
      "cell_type": "code",
      "metadata": {
        "id": "8c5FBCTKnOIY",
        "outputId": "e4d53384-29db-48d5-8730-c56c5808dd8d",
        "colab": {
          "base_uri": "https://localhost:8080/",
          "height": 265
        }
      },
      "source": [
        "# Dummy Data used for linear regression\n",
        "a = 10\n",
        "b = 4\n",
        "n = 100\n",
        "sigma = 3\n",
        "e1 = sigma * np.random.randn(n) \n",
        "x1 = np.linspace(-1, 1, num=n)\n",
        "y1 = a * x1 + b + e1\n",
        "\n",
        "# Create outliers to see the robustness of lasso regression\n",
        "n2 = 20\n",
        "e2 = sigma * 10 * np.random.randn(n2) \n",
        "x2 = np.random.random_sample(size=n2)\n",
        "y2 = a * x2 + b + e2\n",
        "\n",
        "# Add two data\n",
        "x = np.concatenate([x1, x2])\n",
        "y = np.concatenate([y1, y2])\n",
        "plt.plot(x, y, '.', label='observed y');\n",
        "plt.plot(x, a * x + b, 'b', label='true y');\n",
        "plt.legend();"
      ],
      "execution_count": null,
      "outputs": [
        {
          "output_type": "display_data",
          "data": {
            "image/png": "[encoded data removed]",
            "text/plain": [
              "<Figure size 432x288 with 1 Axes>"
            ]
          },
          "metadata": {
            "tags": [],
            "needs_background": "light"
          }
        }
      ]
    },
    {
      "cell_type": "markdown",
      "metadata": {
        "id": "ydyzlU_-nbA2"
      },
      "source": [
        "# 4) sklearn.linear model.ElasticNet"
      ]
    },
    {
      "cell_type": "markdown",
      "metadata": {
        "id": "5ufJCzOvnyIW"
      },
      "source": [
        "Elastic Net es un modelo de regresión lineal que normaliza el vector de coeficientes con las normas L1 y L2. Esto permite generar un modelo en el que solo algunos de los coeficientes sean no nulos, manteniendo las propiedades de regularización de Ridge. La función de coste es equivalente a:\n",
        "\n",
        "$${ RSS }_{ elasticnet }=\\sum _{ i=1 }^{ n }{ { ({ y }_{ i }-f{ ({ x }_{ i }) }) }^{ 2 } } +\\alpha \\left( \\lambda \\sum _{ j=1 }^{ p }{ { { \\beta  } }^{ 2 } } +(1-\\lambda )\\sum _{ j=1 }^{ p }{ { |\\beta  }_{ j }| }  \\right) $$\n",
        "\n",
        "El parámetro λ regula el peso dado a la regularización impuesta por Ridge y por Lasso. Desde este punto de vista Elastic Net es un superconjunto de ambos modelos.\n",
        "\n",
        "En el caso de que exista cierta colinealidad entre varias características predictivas, Elastic Net tenderá a escoger una o todas (aun con coeficientes menores) en función de cómo haya sido parametrizado.\n",
        "\n"
      ]
    },
    {
      "cell_type": "code",
      "metadata": {
        "id": "4Vh6EtqAnan_",
        "outputId": "e31021cb-9f39-4b3c-e39e-930b5a639e63",
        "colab": {
          "base_uri": "https://localhost:8080/",
          "height": 452
        }
      },
      "source": [
        "from sklearn.datasets import load_boston\n",
        "from sklearn.linear_model import ElasticNet,ElasticNetCV\n",
        "from sklearn.metrics import mean_squared_error\n",
        "from sklearn.model_selection import train_test_split\n",
        "import matplotlib.pyplot as plt\n",
        "import numpy as np\n",
        "\n",
        "boston = load_boston()\n",
        "x, y = boston.data, boston.target\n",
        "xtrain, xtest, ytrain, ytest = train_test_split(x, y, test_size=0.15)\n",
        "\n",
        "alphas = [0.0001, 0.001, 0.01, 0.1, 0.3, 0.5, 0.7, 1]\n",
        "\n",
        "for a in alphas:\n",
        "    model = ElasticNet(alpha=a).fit(x,y)   \n",
        "    score = model.score(x, y)\n",
        "    pred_y = model.predict(x)\n",
        "    mse = mean_squared_error(y, pred_y)   \n",
        "    print(\"Alpha:{0:.4f}, R2:{1:.2f}, MSE:{2:.2f}, RMSE:{3:.2f}\"\n",
        "       .format(a, score, mse, np.sqrt(mse)))\n",
        "\n",
        "# --- ElasticNetCV ----\n",
        "elastic_cv=ElasticNetCV(alphas=alphas, cv=5)\n",
        "model = elastic_cv.fit(xtrain, ytrain)\n",
        "print(model.alpha_)\n",
        "print(model.intercept_)\n",
        "\n",
        "ypred = model.predict(xtest)\n",
        "score = model.score(xtest, ytest)\n",
        "mse = mean_squared_error(ytest, ypred)\n",
        "print(\"R2:{0:.3f}, MSE:{1:.2f}, RMSE:{2:.2f}\"\n",
        "      .format(score, mse, np.sqrt(mse)))\n",
        "\n",
        "x_ax = range(len(xtest))\n",
        "plt.scatter(x_ax, ytest, s=5, color=\"blue\", label=\"original\")\n",
        "plt.plot(x_ax, ypred, lw=0.8, color=\"red\", label=\"predicted\")\n",
        "plt.legend()\n",
        "plt.show()"
      ],
      "execution_count": null,
      "outputs": [
        {
          "output_type": "stream",
          "text": [
            "Alpha:0.0001, R2:0.74, MSE:21.90, RMSE:4.68\n",
            "Alpha:0.0010, R2:0.74, MSE:21.92, RMSE:4.68\n",
            "Alpha:0.0100, R2:0.74, MSE:22.32, RMSE:4.72\n",
            "Alpha:0.1000, R2:0.73, MSE:23.16, RMSE:4.81\n",
            "Alpha:0.3000, R2:0.71, MSE:24.08, RMSE:4.91\n",
            "Alpha:0.5000, R2:0.71, MSE:24.85, RMSE:4.99\n",
            "Alpha:0.7000, R2:0.70, MSE:25.55, RMSE:5.05\n",
            "Alpha:1.0000, R2:0.69, MSE:26.50, RMSE:5.15\n",
            "0.001\n",
            "31.057462241688135\n",
            "R2:0.692, MSE:31.97, RMSE:5.65\n"
          ],
          "name": "stdout"
        },
        {
          "output_type": "display_data",
          "data": {
            "image/png": "[encoded data removed]",
            "text/plain": [
              "<Figure size 432x288 with 1 Axes>"
            ]
          },
          "metadata": {
            "tags": [],
            "needs_background": "light"
          }
        }
      ]
    },
    {
      "cell_type": "markdown",
      "metadata": {
        "id": "rt_aK2MKwGvn"
      },
      "source": [
        "# 5) sklearn.kernel ridge.KernelRidge"
      ]
    },
    {
      "cell_type": "markdown",
      "metadata": {
        "id": "ZQFd0F9CuedD"
      },
      "source": [
        "Tal y como se ha comentado, los vectores correspondientes al bloque de entrenamiento son mapeados a un espacio de mayor dimensionalidad por una cierta función, y este mapeo es responsabilidad de lo que denominamos kernel. Un kernel viene determinado por una matriz cuadrada de dimensión igual al número de muestras siendo analizadas, y el contenido de esta matriz es la resultante de aplicar la función de mapeo al conjunto de entrenamiento.\n",
        "\n",
        "Scikit-learn ofrece 4 kernels básicos. En las siguientes fórmulas xi y xj representan los valores de la matriz de coeficientes del conjunto de entrenamiento, XT la transpuesta de X, ‖X‖ representa la norma L2 de X, y el punto (.) representa el producto de dos matrices.\n",
        "\n",
        "### Linear\n",
        "La función aplicada es:\n",
        "$$\n",
        "K\\left(x_{i}, x_{j}\\right)=x_{i}^{T} \\cdot x_{j}\n",
        "$$\n",
        "### Polynomial\n",
        "En el kernel polinómico la función aplicada es:\n",
        "$$\n",
        "K\\left(x_{i}, x_{j}\\right)=\\left(\\gamma x_{i}^{T} \\cdot X_{j}+r\\right)^{d}\n",
        "$$\n",
        "donde γ viene dada por el parámetro gamma de la función SVC, r por coef0 y d por el parámetro degree.\n",
        "\n",
        "Radial Basis Function\n",
        "La función aplicada es:\n",
        "$$\n",
        "K\\left(x_{i}, x_{j}\\right)=e^{-\\gamma\\left\\|x_{i} x_{j}\\right\\|^{2}}\n",
        "$$\n",
        "‖Xi-Xj‖ representa una matriz cuadrada con la distancia euclídea entre cada par de puntos de X. Esta matriz puede conseguirse con la función sklearn.metrics.pairwise.euclidean_distances. Al igual que en el caso del kernel polinómico, γ viene dado por el parámetro gamma de SVC.\n",
        "\n",
        "### Sigmoid\n",
        "En este último caso la función aplicada es:\n",
        "$$\n",
        "K\\left(x_{i}, x_{j}\\right)=\\tanh \\left(\\gamma x_{i}^{T} \\cdot x_{j}+r\\right)\n",
        "$$\n",
        "donde γ y r vienen dados por los parámetros gamma y coef0, respectivamente."
      ]
    },
    {
      "cell_type": "code",
      "metadata": {
        "id": "1OhbTeYFvOeq",
        "outputId": "37297af5-e0c5-42e3-c5c4-d5ee9789f013",
        "colab": {
          "base_uri": "https://localhost:8080/",
          "height": 397
        }
      },
      "source": [
        "import time\n",
        "\n",
        "import numpy as np\n",
        "\n",
        "from sklearn.svm import SVR\n",
        "from sklearn.model_selection import GridSearchCV\n",
        "from sklearn.model_selection import learning_curve\n",
        "from sklearn.kernel_ridge import KernelRidge\n",
        "import matplotlib.pyplot as plt\n",
        "\n",
        "rng = np.random.RandomState(0)\n",
        "\n",
        "# Generate sample data\n",
        "X = 5 * rng.rand(10000, 1)\n",
        "y = np.sin(X).ravel()\n",
        "\n",
        "# Add noise to targets\n",
        "y[::5] += 3 * (0.5 - rng.rand(X.shape[0] // 5))\n",
        "\n",
        "X_plot = np.linspace(0, 5, 100000)[:, None]\n",
        "\n",
        "# Fit regression model\n",
        "train_size = 100\n",
        "svr = GridSearchCV(SVR(kernel='rbf', gamma=0.1),\n",
        "                   param_grid={\"C\": [1e0, 1e1, 1e2, 1e3],\n",
        "                               \"gamma\": np.logspace(-2, 2, 5)})\n",
        "\n",
        "kr = GridSearchCV(KernelRidge(kernel='rbf', gamma=0.1),\n",
        "                  param_grid={\"alpha\": [1e0, 0.1, 1e-2, 1e-3],\n",
        "                              \"gamma\": np.logspace(-2, 2, 5)})\n",
        "\n",
        "t0 = time.time()\n",
        "svr.fit(X[:train_size], y[:train_size])\n",
        "svr_fit = time.time() - t0\n",
        "print(\"SVR complexity and bandwidth selected and model fitted in %.3f s\"\n",
        "      % svr_fit)\n",
        "\n",
        "t0 = time.time()\n",
        "kr.fit(X[:train_size], y[:train_size])\n",
        "kr_fit = time.time() - t0\n",
        "print(\"KRR complexity and bandwidth selected and model fitted in %.3f s\"\n",
        "      % kr_fit)\n",
        "\n",
        "sv_ratio = svr.best_estimator_.support_.shape[0] / train_size\n",
        "print(\"Support vector ratio: %.3f\" % sv_ratio)\n",
        "\n",
        "t0 = time.time()\n",
        "y_svr = svr.predict(X_plot)\n",
        "svr_predict = time.time() - t0\n",
        "print(\"SVR prediction for %d inputs in %.3f s\"\n",
        "      % (X_plot.shape[0], svr_predict))\n",
        "\n",
        "t0 = time.time()\n",
        "y_kr = kr.predict(X_plot)\n",
        "kr_predict = time.time() - t0\n",
        "print(\"KRR prediction for %d inputs in %.3f s\"\n",
        "      % (X_plot.shape[0], kr_predict))\n",
        "\n",
        "sv_ind = svr.best_estimator_.support_\n",
        "plt.scatter(X[sv_ind], y[sv_ind], c='r', s=50, label='SVR support vectors',\n",
        "            zorder=2, edgecolors=(0, 0, 0))\n",
        "plt.scatter(X[:100], y[:100], c='k', label='data', zorder=1,\n",
        "            edgecolors=(0, 0, 0))\n",
        "plt.plot(X_plot, y_svr, c='r',\n",
        "         label='SVR (fit: %.3fs, predict: %.3fs)' % (svr_fit, svr_predict))\n",
        "plt.plot(X_plot, y_kr, c='g',\n",
        "         label='KRR (fit: %.3fs, predict: %.3fs)' % (kr_fit, kr_predict))\n",
        "plt.xlabel('data')\n",
        "plt.ylabel('target')\n",
        "plt.title('SVR versus Kernel')\n",
        "plt.legend()\n"
      ],
      "execution_count": 1,
      "outputs": [
        {
          "output_type": "stream",
          "text": [
            "SVR complexity and bandwidth selected and model fitted in 0.770 s\n",
            "KRR complexity and bandwidth selected and model fitted in 0.405 s\n",
            "Support vector ratio: 0.320\n",
            "SVR prediction for 100000 inputs in 0.135 s\n",
            "KRR prediction for 100000 inputs in 0.319 s\n"
          ],
          "name": "stdout"
        },
        {
          "output_type": "execute_result",
          "data": {
            "text/plain": [
              "<matplotlib.legend.Legend at 0x7f96b3b1d6a0>"
            ]
          },
          "metadata": {
            "tags": []
          },
          "execution_count": 1
        },
        {
          "output_type": "display_data",
          "data": {
            "image/png": "[encoded data removed]",
            "text/plain": [
              "<Figure size 432x288 with 1 Axes>"
            ]
          },
          "metadata": {
            "tags": [],
            "needs_background": "light"
          }
        }
      ]
    },
    {
      "cell_type": "markdown",
      "metadata": {
        "id": "RGOeMgqhw7cS"
      },
      "source": [
        "# El ejercicio 2 de laboratorio fue realizado en la base de datos el cual se envia de forma independiente."
      ]
    }
  ]
}