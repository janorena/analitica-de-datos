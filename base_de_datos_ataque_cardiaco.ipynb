{
  "nbformat": 4,
  "nbformat_minor": 0,
  "metadata": {
    "colab": {
      "name": "base_de_datos_ataque_cardiaco",
      "provenance": [],
      "collapsed_sections": [],
      "toc_visible": true,
      "authorship_tag": "ABX9TyNwil3qKZR5wiYHMZfHlPW2",
      "include_colab_link": true
    },
    "kernelspec": {
      "name": "python3",
      "display_name": "Python 3"
    }
  },
  "cells": [
    {
      "cell_type": "markdown",
      "metadata": {
        "id": "view-in-github",
        "colab_type": "text"
      },
      "source": [
        "<a href=\"https://colab.research.google.com/github/janorena/analitica-de-datos/blob/master/base_de_datos_ataque_cardiaco.ipynb\" target=\"_parent\"><img src=\"https://colab.research.google.com/assets/colab-badge.svg\" alt=\"Open In Colab\"/></a>"
      ]
    },
    {
      "cell_type": "code",
      "metadata": {
        "id": "gO0Wlfs16H-I",
        "outputId": "6f2cdc39-a7f3-44ac-d358-24f324a812a1",
        "colab": {
          "base_uri": "https://localhost:8080/",
          "height": 513
        }
      },
      "source": [
        "#cargar datos desde drive acceso libre\n",
        "FILEID = \"1K73mni1gZXVctsNPGEGI00TAYdYZ5sb9\"\n",
        "!wget --load-cookies /tmp/cookies.txt \"https://docs.google.com/uc?export=download&confirm=$(wget --quiet --save-cookies /tmp/cookies.txt --keep-session-cookies --no-check-certificate 'https://docs.google.com/uc?export=download&id='$FILEID -O- | sed -rn 's/.*confirm=([0-9A-Za-z_]+).*/\\1\\n/p')&id=\"$FILEID -O codigos.zip && rm -rf /tmp/cookies.txt\n",
        "!unzip codigos.zip\n",
        "!dir"
      ],
      "execution_count": null,
      "outputs": [
        {
          "output_type": "stream",
          "text": [
            "--2020-10-14 22:55:51--  https://docs.google.com/uc?export=download&confirm=&id=1K73mni1gZXVctsNPGEGI00TAYdYZ5sb9\n",
            "Resolving docs.google.com (docs.google.com)... 74.125.23.139, 74.125.23.138, 74.125.23.101, ...\n",
            "Connecting to docs.google.com (docs.google.com)|74.125.23.139|:443... connected.\n",
            "HTTP request sent, awaiting response... 302 Moved Temporarily\n",
            "Location: https://doc-08-5k-docs.googleusercontent.com/docs/securesc/ihfop3hgbu32imipih7co323shc7v3v1/nsgckujhpcrd3hulbl69i5l4p0t4d95k/1602716100000/12793268178827524168/06543784593310215734Z/1K73mni1gZXVctsNPGEGI00TAYdYZ5sb9?e=download [following]\n",
            "--2020-10-14 22:55:52--  https://doc-08-5k-docs.googleusercontent.com/docs/securesc/ihfop3hgbu32imipih7co323shc7v3v1/nsgckujhpcrd3hulbl69i5l4p0t4d95k/1602716100000/12793268178827524168/06543784593310215734Z/1K73mni1gZXVctsNPGEGI00TAYdYZ5sb9?e=download\n",
            "Resolving doc-08-5k-docs.googleusercontent.com (doc-08-5k-docs.googleusercontent.com)... 64.233.189.132, 2404:6800:4008:c07::84\n",
            "Connecting to doc-08-5k-docs.googleusercontent.com (doc-08-5k-docs.googleusercontent.com)|64.233.189.132|:443... connected.\n",
            "HTTP request sent, awaiting response... 302 Found\n",
            "Location: https://docs.google.com/nonceSigner?nonce=pkme0d87a851g&continue=https://doc-08-5k-docs.googleusercontent.com/docs/securesc/ihfop3hgbu32imipih7co323shc7v3v1/nsgckujhpcrd3hulbl69i5l4p0t4d95k/1602716100000/12793268178827524168/06543784593310215734Z/1K73mni1gZXVctsNPGEGI00TAYdYZ5sb9?e%3Ddownload&hash=uppnlc16vl6t7uo52ardve6g5fuq29if [following]\n",
            "--2020-10-14 22:55:52--  https://docs.google.com/nonceSigner?nonce=pkme0d87a851g&continue=https://doc-08-5k-docs.googleusercontent.com/docs/securesc/ihfop3hgbu32imipih7co323shc7v3v1/nsgckujhpcrd3hulbl69i5l4p0t4d95k/1602716100000/12793268178827524168/06543784593310215734Z/1K73mni1gZXVctsNPGEGI00TAYdYZ5sb9?e%3Ddownload&hash=uppnlc16vl6t7uo52ardve6g5fuq29if\n",
            "Connecting to docs.google.com (docs.google.com)|74.125.23.139|:443... connected.\n",
            "HTTP request sent, awaiting response... 302 Found\n",
            "Location: https://doc-08-5k-docs.googleusercontent.com/docs/securesc/ihfop3hgbu32imipih7co323shc7v3v1/nsgckujhpcrd3hulbl69i5l4p0t4d95k/1602716100000/12793268178827524168/06543784593310215734Z/1K73mni1gZXVctsNPGEGI00TAYdYZ5sb9?e=download&nonce=pkme0d87a851g&user=06543784593310215734Z&hash=4is0rsgt8jhmhav00bfo1lq2d3t2jfv3 [following]\n",
            "--2020-10-14 22:55:52--  https://doc-08-5k-docs.googleusercontent.com/docs/securesc/ihfop3hgbu32imipih7co323shc7v3v1/nsgckujhpcrd3hulbl69i5l4p0t4d95k/1602716100000/12793268178827524168/06543784593310215734Z/1K73mni1gZXVctsNPGEGI00TAYdYZ5sb9?e=download&nonce=pkme0d87a851g&user=06543784593310215734Z&hash=4is0rsgt8jhmhav00bfo1lq2d3t2jfv3\n",
            "Connecting to doc-08-5k-docs.googleusercontent.com (doc-08-5k-docs.googleusercontent.com)|64.233.189.132|:443... connected.\n",
            "HTTP request sent, awaiting response... 200 OK\n",
            "Length: 4067 (4.0K) [application/x-zip-compressed]\n",
            "Saving to: ‘codigos.zip’\n",
            "\n",
            "codigos.zip         100%[===================>]   3.97K  --.-KB/s    in 0s      \n",
            "\n",
            "2020-10-14 22:55:52 (44.7 MB/s) - ‘codigos.zip’ saved [4067/4067]\n",
            "\n",
            "Archive:  codigos.zip\n",
            "replace heart_failure_clinical_records_dataset.csv? [y]es, [n]o, [A]ll, [N]one, [r]ename: A\n",
            "  inflating: heart_failure_clinical_records_dataset.csv  \n",
            "codigos.zip  heart_failure_clinical_records_dataset.csv  results  sample_data\n"
          ],
          "name": "stdout"
        }
      ]
    },
    {
      "cell_type": "code",
      "metadata": {
        "id": "COn9P40o6K0G",
        "outputId": "4b29224d-5bf3-4c7a-cd0d-6a5984c9b5a0",
        "colab": {
          "base_uri": "https://localhost:8080/",
          "height": 551
        }
      },
      "source": [
        "#Paso 1: Lectura\n",
        "import pandas as pd\n",
        "import numpy as np\n",
        "import matplotlib.pyplot as plt\n",
        "import warnings\n",
        "warnings.filterwarnings(\"ignore\")\n",
        "\n",
        "import plotly.figure_factory as ff\n",
        "import plotly.express as px\n",
        "import plotly.graph_objs as go\n",
        "\n",
        "from sklearn.impute import SimpleImputer \n",
        "from sklearn.model_selection import train_test_split, GridSearchCV,cross_val_score, cross_val_predict\n",
        "from sklearn.metrics import mean_absolute_error\n",
        "from sklearn.pipeline import Pipeline\n",
        "\n",
        "\n",
        "#crear carpeta con resultados\n",
        "import os\n",
        "try:\n",
        "  os.mkdir('results')\n",
        "except:\n",
        "  print(\"Carpeta results ya existe\")\n",
        "\n",
        "\n",
        "\n",
        "import pandas as pd\n",
        "%matplotlib inline\n",
        "csv_path = 'heart_failure_clinical_records_dataset.csv'\n",
        "\n",
        "Xdata = pd.read_csv(csv_path)\n",
        "\n",
        "col_drop = ['time' ]\n",
        "Xdata.drop(columns = col_drop, inplace = True)\n",
        "Xdata.head(15)"
      ],
      "execution_count": null,
      "outputs": [
        {
          "output_type": "stream",
          "text": [
            "Carpeta results ya existe\n"
          ],
          "name": "stdout"
        },
        {
          "output_type": "execute_result",
          "data": {
            "text/html": [
              "<div>\n",
              "<style scoped>\n",
              "    .dataframe tbody tr th:only-of-type {\n",
              "        vertical-align: middle;\n",
              "    }\n",
              "\n",
              "    .dataframe tbody tr th {\n",
              "        vertical-align: top;\n",
              "    }\n",
              "\n",
              "    .dataframe thead th {\n",
              "        text-align: right;\n",
              "    }\n",
              "</style>\n",
              "<table border=\"1\" class=\"dataframe\">\n",
              "  <thead>\n",
              "    <tr style=\"text-align: right;\">\n",
              "      <th></th>\n",
              "      <th>age</th>\n",
              "      <th>anaemia</th>\n",
              "      <th>creatinine_phosphokinase</th>\n",
              "      <th>diabetes</th>\n",
              "      <th>ejection_fraction</th>\n",
              "      <th>high_blood_pressure</th>\n",
              "      <th>platelets</th>\n",
              "      <th>serum_creatinine</th>\n",
              "      <th>serum_sodium</th>\n",
              "      <th>sex</th>\n",
              "      <th>smoking</th>\n",
              "      <th>DEATH_EVENT</th>\n",
              "    </tr>\n",
              "  </thead>\n",
              "  <tbody>\n",
              "    <tr>\n",
              "      <th>0</th>\n",
              "      <td>75.0</td>\n",
              "      <td>0</td>\n",
              "      <td>582</td>\n",
              "      <td>0</td>\n",
              "      <td>20</td>\n",
              "      <td>1</td>\n",
              "      <td>265000.00</td>\n",
              "      <td>1.9</td>\n",
              "      <td>130</td>\n",
              "      <td>1</td>\n",
              "      <td>0</td>\n",
              "      <td>1</td>\n",
              "    </tr>\n",
              "    <tr>\n",
              "      <th>1</th>\n",
              "      <td>55.0</td>\n",
              "      <td>0</td>\n",
              "      <td>7861</td>\n",
              "      <td>0</td>\n",
              "      <td>38</td>\n",
              "      <td>0</td>\n",
              "      <td>263358.03</td>\n",
              "      <td>1.1</td>\n",
              "      <td>136</td>\n",
              "      <td>1</td>\n",
              "      <td>0</td>\n",
              "      <td>1</td>\n",
              "    </tr>\n",
              "    <tr>\n",
              "      <th>2</th>\n",
              "      <td>65.0</td>\n",
              "      <td>0</td>\n",
              "      <td>146</td>\n",
              "      <td>0</td>\n",
              "      <td>20</td>\n",
              "      <td>0</td>\n",
              "      <td>162000.00</td>\n",
              "      <td>1.3</td>\n",
              "      <td>129</td>\n",
              "      <td>1</td>\n",
              "      <td>1</td>\n",
              "      <td>1</td>\n",
              "    </tr>\n",
              "    <tr>\n",
              "      <th>3</th>\n",
              "      <td>50.0</td>\n",
              "      <td>1</td>\n",
              "      <td>111</td>\n",
              "      <td>0</td>\n",
              "      <td>20</td>\n",
              "      <td>0</td>\n",
              "      <td>210000.00</td>\n",
              "      <td>1.9</td>\n",
              "      <td>137</td>\n",
              "      <td>1</td>\n",
              "      <td>0</td>\n",
              "      <td>1</td>\n",
              "    </tr>\n",
              "    <tr>\n",
              "      <th>4</th>\n",
              "      <td>65.0</td>\n",
              "      <td>1</td>\n",
              "      <td>160</td>\n",
              "      <td>1</td>\n",
              "      <td>20</td>\n",
              "      <td>0</td>\n",
              "      <td>327000.00</td>\n",
              "      <td>2.7</td>\n",
              "      <td>116</td>\n",
              "      <td>0</td>\n",
              "      <td>0</td>\n",
              "      <td>1</td>\n",
              "    </tr>\n",
              "    <tr>\n",
              "      <th>5</th>\n",
              "      <td>90.0</td>\n",
              "      <td>1</td>\n",
              "      <td>47</td>\n",
              "      <td>0</td>\n",
              "      <td>40</td>\n",
              "      <td>1</td>\n",
              "      <td>204000.00</td>\n",
              "      <td>2.1</td>\n",
              "      <td>132</td>\n",
              "      <td>1</td>\n",
              "      <td>1</td>\n",
              "      <td>1</td>\n",
              "    </tr>\n",
              "    <tr>\n",
              "      <th>6</th>\n",
              "      <td>75.0</td>\n",
              "      <td>1</td>\n",
              "      <td>246</td>\n",
              "      <td>0</td>\n",
              "      <td>15</td>\n",
              "      <td>0</td>\n",
              "      <td>127000.00</td>\n",
              "      <td>1.2</td>\n",
              "      <td>137</td>\n",
              "      <td>1</td>\n",
              "      <td>0</td>\n",
              "      <td>1</td>\n",
              "    </tr>\n",
              "    <tr>\n",
              "      <th>7</th>\n",
              "      <td>60.0</td>\n",
              "      <td>1</td>\n",
              "      <td>315</td>\n",
              "      <td>1</td>\n",
              "      <td>60</td>\n",
              "      <td>0</td>\n",
              "      <td>454000.00</td>\n",
              "      <td>1.1</td>\n",
              "      <td>131</td>\n",
              "      <td>1</td>\n",
              "      <td>1</td>\n",
              "      <td>1</td>\n",
              "    </tr>\n",
              "    <tr>\n",
              "      <th>8</th>\n",
              "      <td>65.0</td>\n",
              "      <td>0</td>\n",
              "      <td>157</td>\n",
              "      <td>0</td>\n",
              "      <td>65</td>\n",
              "      <td>0</td>\n",
              "      <td>263358.03</td>\n",
              "      <td>1.5</td>\n",
              "      <td>138</td>\n",
              "      <td>0</td>\n",
              "      <td>0</td>\n",
              "      <td>1</td>\n",
              "    </tr>\n",
              "    <tr>\n",
              "      <th>9</th>\n",
              "      <td>80.0</td>\n",
              "      <td>1</td>\n",
              "      <td>123</td>\n",
              "      <td>0</td>\n",
              "      <td>35</td>\n",
              "      <td>1</td>\n",
              "      <td>388000.00</td>\n",
              "      <td>9.4</td>\n",
              "      <td>133</td>\n",
              "      <td>1</td>\n",
              "      <td>1</td>\n",
              "      <td>1</td>\n",
              "    </tr>\n",
              "    <tr>\n",
              "      <th>10</th>\n",
              "      <td>75.0</td>\n",
              "      <td>1</td>\n",
              "      <td>81</td>\n",
              "      <td>0</td>\n",
              "      <td>38</td>\n",
              "      <td>1</td>\n",
              "      <td>368000.00</td>\n",
              "      <td>4.0</td>\n",
              "      <td>131</td>\n",
              "      <td>1</td>\n",
              "      <td>1</td>\n",
              "      <td>1</td>\n",
              "    </tr>\n",
              "    <tr>\n",
              "      <th>11</th>\n",
              "      <td>62.0</td>\n",
              "      <td>0</td>\n",
              "      <td>231</td>\n",
              "      <td>0</td>\n",
              "      <td>25</td>\n",
              "      <td>1</td>\n",
              "      <td>253000.00</td>\n",
              "      <td>0.9</td>\n",
              "      <td>140</td>\n",
              "      <td>1</td>\n",
              "      <td>1</td>\n",
              "      <td>1</td>\n",
              "    </tr>\n",
              "    <tr>\n",
              "      <th>12</th>\n",
              "      <td>45.0</td>\n",
              "      <td>1</td>\n",
              "      <td>981</td>\n",
              "      <td>0</td>\n",
              "      <td>30</td>\n",
              "      <td>0</td>\n",
              "      <td>136000.00</td>\n",
              "      <td>1.1</td>\n",
              "      <td>137</td>\n",
              "      <td>1</td>\n",
              "      <td>0</td>\n",
              "      <td>1</td>\n",
              "    </tr>\n",
              "    <tr>\n",
              "      <th>13</th>\n",
              "      <td>50.0</td>\n",
              "      <td>1</td>\n",
              "      <td>168</td>\n",
              "      <td>0</td>\n",
              "      <td>38</td>\n",
              "      <td>1</td>\n",
              "      <td>276000.00</td>\n",
              "      <td>1.1</td>\n",
              "      <td>137</td>\n",
              "      <td>1</td>\n",
              "      <td>0</td>\n",
              "      <td>1</td>\n",
              "    </tr>\n",
              "    <tr>\n",
              "      <th>14</th>\n",
              "      <td>49.0</td>\n",
              "      <td>1</td>\n",
              "      <td>80</td>\n",
              "      <td>0</td>\n",
              "      <td>30</td>\n",
              "      <td>1</td>\n",
              "      <td>427000.00</td>\n",
              "      <td>1.0</td>\n",
              "      <td>138</td>\n",
              "      <td>0</td>\n",
              "      <td>0</td>\n",
              "      <td>0</td>\n",
              "    </tr>\n",
              "  </tbody>\n",
              "</table>\n",
              "</div>"
            ],
            "text/plain": [
              "     age  anaemia  creatinine_phosphokinase  ...  sex  smoking  DEATH_EVENT\n",
              "0   75.0        0                       582  ...    1        0            1\n",
              "1   55.0        0                      7861  ...    1        0            1\n",
              "2   65.0        0                       146  ...    1        1            1\n",
              "3   50.0        1                       111  ...    1        0            1\n",
              "4   65.0        1                       160  ...    0        0            1\n",
              "5   90.0        1                        47  ...    1        1            1\n",
              "6   75.0        1                       246  ...    1        0            1\n",
              "7   60.0        1                       315  ...    1        1            1\n",
              "8   65.0        0                       157  ...    0        0            1\n",
              "9   80.0        1                       123  ...    1        1            1\n",
              "10  75.0        1                        81  ...    1        1            1\n",
              "11  62.0        0                       231  ...    1        1            1\n",
              "12  45.0        1                       981  ...    1        0            1\n",
              "13  50.0        1                       168  ...    1        0            1\n",
              "14  49.0        1                        80  ...    0        0            0\n",
              "\n",
              "[15 rows x 12 columns]"
            ]
          },
          "metadata": {
            "tags": []
          },
          "execution_count": 189
        }
      ]
    },
    {
      "cell_type": "markdown",
      "metadata": {
        "id": "jNZtAzWoApKA"
      },
      "source": [
        "###Sex - Male = 1, Female =0\n",
        "###Age - Age of patient\n",
        "###Diabetes - 0 = No, 1 = Yes\n",
        "###Anaemia - 0 = No, 1 = Yes\n",
        "###High blood pressure - 0 = No, 1 = Yes\n",
        "###Smoking - 0 = No, 1 = Yes\n",
        "###DEATH EVENT - 0 = No, 1 = Yes"
      ]
    },
    {
      "cell_type": "code",
      "metadata": {
        "id": "PF7Y984VnvTP",
        "outputId": "197faf10-62a6-4585-b453-d52b2a782d61",
        "colab": {
          "base_uri": "https://localhost:8080/",
          "height": 340
        }
      },
      "source": [
        "Xdata.info()"
      ],
      "execution_count": null,
      "outputs": [
        {
          "output_type": "stream",
          "text": [
            "<class 'pandas.core.frame.DataFrame'>\n",
            "RangeIndex: 299 entries, 0 to 298\n",
            "Data columns (total 12 columns):\n",
            " #   Column                    Non-Null Count  Dtype  \n",
            "---  ------                    --------------  -----  \n",
            " 0   age                       299 non-null    float64\n",
            " 1   anaemia                   299 non-null    int64  \n",
            " 2   creatinine_phosphokinase  299 non-null    int64  \n",
            " 3   diabetes                  299 non-null    int64  \n",
            " 4   ejection_fraction         299 non-null    int64  \n",
            " 5   high_blood_pressure       299 non-null    int64  \n",
            " 6   platelets                 299 non-null    float64\n",
            " 7   serum_creatinine          299 non-null    float64\n",
            " 8   serum_sodium              299 non-null    int64  \n",
            " 9   sex                       299 non-null    int64  \n",
            " 10  smoking                   299 non-null    int64  \n",
            " 11  DEATH_EVENT               299 non-null    int64  \n",
            "dtypes: float64(3), int64(9)\n",
            "memory usage: 28.2 KB\n"
          ],
          "name": "stdout"
        }
      ]
    },
    {
      "cell_type": "markdown",
      "metadata": {
        "id": "q4R66d2j9mAW"
      },
      "source": [
        "\n",
        "\n",
        "*   Dado que el tipo de dato no es categorico no es necesario decodificar el tipo de variable.\n",
        "* Es necesario hacer el entrenamiento y la validacion.\n",
        "\n"
      ]
    },
    {
      "cell_type": "markdown",
      "metadata": {
        "id": "_eJGAO0MsekO"
      },
      "source": [
        "**Preproceso variable median_income -> continua a categórica**"
      ]
    },
    {
      "cell_type": "markdown",
      "metadata": {
        "id": "kQrQb0UYiJ7a"
      },
      "source": [
        "# Datos del evento de interes"
      ]
    },
    {
      "cell_type": "code",
      "metadata": {
        "id": "Mjjmo7yM72Tb",
        "outputId": "562591f1-c2e8-4f7a-aaa0-605289fb2a5b",
        "colab": {
          "base_uri": "https://localhost:8080/",
          "height": 170
        }
      },
      "source": [
        "Xdata[\"DEATH_EVENT\"].describe() # estadística básica de las variable de interés"
      ],
      "execution_count": null,
      "outputs": [
        {
          "output_type": "execute_result",
          "data": {
            "text/plain": [
              "count    299.00000\n",
              "mean       0.32107\n",
              "std        0.46767\n",
              "min        0.00000\n",
              "25%        0.00000\n",
              "50%        0.00000\n",
              "75%        1.00000\n",
              "max        1.00000\n",
              "Name: DEATH_EVENT, dtype: float64"
            ]
          },
          "metadata": {
            "tags": []
          },
          "execution_count": 191
        }
      ]
    },
    {
      "cell_type": "markdown",
      "metadata": {
        "id": "jAw579VdExCM"
      },
      "source": [
        "# Paso 2: Particion entrenamiento y validacion\n"
      ]
    },
    {
      "cell_type": "code",
      "metadata": {
        "id": "u9xMKEMv6Krc"
      },
      "source": [
        "# Tamaño Xtrain 70%, Tamaño Xtest 30%\n",
        "import warnings\n",
        "warnings.filterwarnings(\"ignore\")\n",
        "\n",
        "from sklearn.model_selection import train_test_split\n",
        "Xtrain, Xtest = train_test_split(Xdata,test_size=0.3)\n",
        "col_DEATH = \"DEATH_EVENT\"\n",
        "ytrain = Xtrain[col_DEATH]\n",
        "ytest = Xtest[col_DEATH]\n",
        "Xtrain.drop(columns=col_DEATH,inplace=True)\n",
        "Xtest.drop(columns=col_DEATH,inplace=True)\n"
      ],
      "execution_count": null,
      "outputs": []
    },
    {
      "cell_type": "code",
      "metadata": {
        "id": "p2Uf11B66KoT",
        "outputId": "70970fcc-66c3-4aa1-9a22-ace5b104b334",
        "colab": {
          "base_uri": "https://localhost:8080/",
          "height": 34
        }
      },
      "source": [
        "from sklearn.impute import SimpleImputer\n",
        "imputer = SimpleImputer(strategy=\"most_frequent\")\n",
        "ytrain = imputer.fit_transform(pd.DataFrame(ytrain))\n",
        "ytrain = ytrain.reshape(-1)\n",
        "\n",
        "ytest = imputer.transform(pd.DataFrame(ytest))\n",
        "ytest = ytest.reshape(-1)\n",
        "\n",
        "print(ytrain.shape, ytest.shape)"
      ],
      "execution_count": null,
      "outputs": [
        {
          "output_type": "stream",
          "text": [
            "(209,) (90,)\n"
          ],
          "name": "stdout"
        }
      ]
    },
    {
      "cell_type": "markdown",
      "metadata": {
        "id": "10kEW66ZJqIH"
      },
      "source": [
        "# Preparar datos (validación y análisis exploratorio por visualización)"
      ]
    },
    {
      "cell_type": "code",
      "metadata": {
        "id": "nktYcZqW2I2V",
        "outputId": "94add72a-ffe9-4648-c151-5f9a5a9fdf90",
        "colab": {
          "base_uri": "https://localhost:8080/",
          "height": 34
        }
      },
      "source": [
        "# Entrenamiento\n",
        "# DEATH EVENT -> 0 = No, 1 = Yes\n",
        "ytrain[:20]"
      ],
      "execution_count": null,
      "outputs": [
        {
          "output_type": "execute_result",
          "data": {
            "text/plain": [
              "array([0, 0, 0, 0, 0, 0, 1, 1, 1, 1, 0, 0, 0, 0, 0, 1, 0, 1, 0, 1])"
            ]
          },
          "metadata": {
            "tags": []
          },
          "execution_count": 194
        }
      ]
    },
    {
      "cell_type": "code",
      "metadata": {
        "id": "5QbQv2d3AV5t",
        "outputId": "e406c28d-5ce4-4605-de10-399a2aebab42",
        "colab": {
          "base_uri": "https://localhost:8080/",
          "height": 513
        }
      },
      "source": [
        "import matplotlib.pyplot as plt\n",
        "plt.hist(ytrain,bins = 100)\n",
        "plt.show()\n",
        "\n",
        "plt.boxplot(ytrain)\n",
        "plt.show()"
      ],
      "execution_count": null,
      "outputs": [
        {
          "output_type": "display_data",
          "data": {
            "image/png": "[encoded data removed]",
            "text/plain": [
              "<Figure size 432x288 with 1 Axes>"
            ]
          },
          "metadata": {
            "tags": [],
            "needs_background": "light"
          }
        },
        {
          "output_type": "display_data",
          "data": {
            "image/png": "[encoded data removed]",
            "text/plain": [
              "<Figure size 432x288 with 1 Axes>"
            ]
          },
          "metadata": {
            "tags": [],
            "needs_background": "light"
          }
        }
      ]
    },
    {
      "cell_type": "markdown",
      "metadata": {
        "id": "R3DZTB79Bm3t"
      },
      "source": [
        "* Se definirian las columnas para decodificar. Dado que en la base de datos no es necesario decodificar los datos, se deja como esta.\n",
        "* E esta base de datos ya sta pre procesada por ende, no se crea la clase para la misma ya que seria redundante hacerle esto a la base de datos."
      ]
    },
    {
      "cell_type": "markdown",
      "metadata": {
        "id": "Dueg8oz2C2xm"
      },
      "source": [
        "# (probabilidad descriptiva grafica)"
      ]
    },
    {
      "cell_type": "markdown",
      "metadata": {
        "id": "YdrMtvmE-9wi"
      },
      "source": [
        "## ¿Es la edad y el tabaco un indicador del evento de muerte?"
      ]
    },
    {
      "cell_type": "markdown",
      "metadata": {
        "id": "ymvNNdRyFKit"
      },
      "source": [
        "## Analisis de supervivencia segun el genero\n",
        "\n"
      ]
    },
    {
      "cell_type": "code",
      "metadata": {
        "id": "Znn3U-OSFJx5",
        "outputId": "b1a94f45-d738-42f6-e306-50d5cb7d6152",
        "colab": {
          "base_uri": "https://localhost:8080/",
          "height": 559
        }
      },
      "source": [
        "male = Xdata[Xdata[\"sex\"]==1]\n",
        "female = Xdata[Xdata[\"sex\"]==0]\n",
        "\n",
        "male_survi = male[Xdata[\"DEATH_EVENT\"]==0]\n",
        "male_not = male[Xdata[\"DEATH_EVENT\"]==1]\n",
        "female_survi = female[Xdata[\"DEATH_EVENT\"]==0]\n",
        "female_not = female[Xdata[\"DEATH_EVENT\"]==1]\n",
        "\n",
        "labels = ['Male - Survived','Male - Not Survived', \"Female -  Survived\", \"Female - Not Survived\"]\n",
        "values = [len(male[Xdata[\"DEATH_EVENT\"]==0]),len(male[Xdata[\"DEATH_EVENT\"]==1]),\n",
        "         len(female[Xdata[\"DEATH_EVENT\"]==0]),len(female[Xdata[\"DEATH_EVENT\"]==1])]\n",
        "fig = go.Figure(data=[go.Pie(labels=labels, values=values, hole=.4)])\n",
        "fig.update_layout(\n",
        "    title_text=\"Analysis on Survival - Gender\")\n",
        "plt.savefig('results/Analysis_on_Survival.pdf', format='pdf', dpi=300)\n",
        "fig.show()"
      ],
      "execution_count": null,
      "outputs": [
        {
          "output_type": "display_data",
          "data": {
            "text/html": [
              "<html>\n",
              "<head><meta charset=\"utf-8\" /></head>\n",
              "<body>\n",
              "    <div>\n",
              "            <script src=\"https://cdnjs.cloudflare.com/ajax/libs/mathjax/2.7.5/MathJax.js?config=TeX-AMS-MML_SVG\"></script><script type=\"text/javascript\">if (window.MathJax) {MathJax.Hub.Config({SVG: {font: \"STIX-Web\"}});}</script>\n",
              "                <script type=\"text/javascript\">window.PlotlyConfig = {MathJaxConfig: 'local'};</script>\n",
              "        <script src=\"https://cdn.plot.ly/plotly-latest.min.js\"></script>    \n",
              "            <div id=\"96c87593-f1c6-4fff-bce2-d586d8949196\" class=\"plotly-graph-div\" style=\"height:525px; width:100%;\"></div>\n",
              "            <script type=\"text/javascript\">\n",
              "                \n",
              "                    window.PLOTLYENV=window.PLOTLYENV || {};\n",
              "                    \n",
              "                if (document.getElementById(\"96c87593-f1c6-4fff-bce2-d586d8949196\")) {\n",
              "                    Plotly.newPlot(\n",
              "                        '96c87593-f1c6-4fff-bce2-d586d8949196',\n",
              "                        [{\"hole\": 0.4, \"labels\": [\"Male - Survived\", \"Male - Not Survived\", \"Female -  Survived\", \"Female - Not Survived\"], \"type\": \"pie\", \"values\": [132, 62, 71, 34]}],\n",
              "                        {\"template\": {\"data\": {\"bar\": [{\"error_x\": {\"color\": \"#2a3f5f\"}, \"error_y\": {\"color\": \"#2a3f5f\"}, \"marker\": {\"line\": {\"color\": \"#E5ECF6\", \"width\": 0.5}}, \"type\": \"bar\"}], \"barpolar\": [{\"marker\": {\"line\": {\"color\": \"#E5ECF6\", \"width\": 0.5}}, \"type\": \"barpolar\"}], \"carpet\": [{\"aaxis\": {\"endlinecolor\": \"#2a3f5f\", \"gridcolor\": \"white\", \"linecolor\": \"white\", \"minorgridcolor\": \"white\", \"startlinecolor\": \"#2a3f5f\"}, \"baxis\": {\"endlinecolor\": \"#2a3f5f\", \"gridcolor\": \"white\", \"linecolor\": \"white\", \"minorgridcolor\": \"white\", \"startlinecolor\": \"#2a3f5f\"}, \"type\": \"carpet\"}], \"choropleth\": [{\"colorbar\": {\"outlinewidth\": 0, \"ticks\": \"\"}, \"type\": \"choropleth\"}], \"contour\": [{\"colorbar\": {\"outlinewidth\": 0, \"ticks\": \"\"}, \"colorscale\": [[0.0, \"#0d0887\"], [0.1111111111111111, \"#46039f\"], [0.2222222222222222, \"#7201a8\"], [0.3333333333333333, \"#9c179e\"], [0.4444444444444444, \"#bd3786\"], [0.5555555555555556, \"#d8576b\"], [0.6666666666666666, \"#ed7953\"], [0.7777777777777778, \"#fb9f3a\"], [0.8888888888888888, \"#fdca26\"], [1.0, \"#f0f921\"]], \"type\": \"contour\"}], \"contourcarpet\": [{\"colorbar\": {\"outlinewidth\": 0, \"ticks\": \"\"}, \"type\": \"contourcarpet\"}], \"heatmap\": [{\"colorbar\": {\"outlinewidth\": 0, \"ticks\": \"\"}, \"colorscale\": [[0.0, \"#0d0887\"], [0.1111111111111111, \"#46039f\"], [0.2222222222222222, \"#7201a8\"], [0.3333333333333333, \"#9c179e\"], [0.4444444444444444, \"#bd3786\"], [0.5555555555555556, \"#d8576b\"], [0.6666666666666666, \"#ed7953\"], [0.7777777777777778, \"#fb9f3a\"], [0.8888888888888888, \"#fdca26\"], [1.0, \"#f0f921\"]], \"type\": \"heatmap\"}], \"heatmapgl\": [{\"colorbar\": {\"outlinewidth\": 0, \"ticks\": \"\"}, \"colorscale\": [[0.0, \"#0d0887\"], [0.1111111111111111, \"#46039f\"], [0.2222222222222222, \"#7201a8\"], [0.3333333333333333, \"#9c179e\"], [0.4444444444444444, \"#bd3786\"], [0.5555555555555556, \"#d8576b\"], [0.6666666666666666, \"#ed7953\"], [0.7777777777777778, \"#fb9f3a\"], [0.8888888888888888, \"#fdca26\"], [1.0, \"#f0f921\"]], \"type\": \"heatmapgl\"}], \"histogram\": [{\"marker\": {\"colorbar\": {\"outlinewidth\": 0, \"ticks\": \"\"}}, \"type\": \"histogram\"}], \"histogram2d\": [{\"colorbar\": {\"outlinewidth\": 0, \"ticks\": \"\"}, \"colorscale\": [[0.0, \"#0d0887\"], [0.1111111111111111, \"#46039f\"], [0.2222222222222222, \"#7201a8\"], [0.3333333333333333, \"#9c179e\"], [0.4444444444444444, \"#bd3786\"], [0.5555555555555556, \"#d8576b\"], [0.6666666666666666, \"#ed7953\"], [0.7777777777777778, \"#fb9f3a\"], [0.8888888888888888, \"#fdca26\"], [1.0, \"#f0f921\"]], \"type\": \"histogram2d\"}], \"histogram2dcontour\": [{\"colorbar\": {\"outlinewidth\": 0, \"ticks\": \"\"}, \"colorscale\": [[0.0, \"#0d0887\"], [0.1111111111111111, \"#46039f\"], [0.2222222222222222, \"#7201a8\"], [0.3333333333333333, \"#9c179e\"], [0.4444444444444444, \"#bd3786\"], [0.5555555555555556, \"#d8576b\"], [0.6666666666666666, \"#ed7953\"], [0.7777777777777778, \"#fb9f3a\"], [0.8888888888888888, \"#fdca26\"], [1.0, \"#f0f921\"]], \"type\": \"histogram2dcontour\"}], \"mesh3d\": [{\"colorbar\": {\"outlinewidth\": 0, \"ticks\": \"\"}, \"type\": \"mesh3d\"}], \"parcoords\": [{\"line\": {\"colorbar\": {\"outlinewidth\": 0, \"ticks\": \"\"}}, \"type\": \"parcoords\"}], \"pie\": [{\"automargin\": true, \"type\": \"pie\"}], \"scatter\": [{\"marker\": {\"colorbar\": {\"outlinewidth\": 0, \"ticks\": \"\"}}, \"type\": \"scatter\"}], \"scatter3d\": [{\"line\": {\"colorbar\": {\"outlinewidth\": 0, \"ticks\": \"\"}}, \"marker\": {\"colorbar\": {\"outlinewidth\": 0, \"ticks\": \"\"}}, \"type\": \"scatter3d\"}], \"scattercarpet\": [{\"marker\": {\"colorbar\": {\"outlinewidth\": 0, \"ticks\": \"\"}}, \"type\": \"scattercarpet\"}], \"scattergeo\": [{\"marker\": {\"colorbar\": {\"outlinewidth\": 0, \"ticks\": \"\"}}, \"type\": \"scattergeo\"}], \"scattergl\": [{\"marker\": {\"colorbar\": {\"outlinewidth\": 0, \"ticks\": \"\"}}, \"type\": \"scattergl\"}], \"scattermapbox\": [{\"marker\": {\"colorbar\": {\"outlinewidth\": 0, \"ticks\": \"\"}}, \"type\": \"scattermapbox\"}], \"scatterpolar\": [{\"marker\": {\"colorbar\": {\"outlinewidth\": 0, \"ticks\": \"\"}}, \"type\": \"scatterpolar\"}], \"scatterpolargl\": [{\"marker\": {\"colorbar\": {\"outlinewidth\": 0, \"ticks\": \"\"}}, \"type\": \"scatterpolargl\"}], \"scatterternary\": [{\"marker\": {\"colorbar\": {\"outlinewidth\": 0, \"ticks\": \"\"}}, \"type\": \"scatterternary\"}], \"surface\": [{\"colorbar\": {\"outlinewidth\": 0, \"ticks\": \"\"}, \"colorscale\": [[0.0, \"#0d0887\"], [0.1111111111111111, \"#46039f\"], [0.2222222222222222, \"#7201a8\"], [0.3333333333333333, \"#9c179e\"], [0.4444444444444444, \"#bd3786\"], [0.5555555555555556, \"#d8576b\"], [0.6666666666666666, \"#ed7953\"], [0.7777777777777778, \"#fb9f3a\"], [0.8888888888888888, \"#fdca26\"], [1.0, \"#f0f921\"]], \"type\": \"surface\"}], \"table\": [{\"cells\": {\"fill\": {\"color\": \"#EBF0F8\"}, \"line\": {\"color\": \"white\"}}, \"header\": {\"fill\": {\"color\": \"#C8D4E3\"}, \"line\": {\"color\": \"white\"}}, \"type\": \"table\"}]}, \"layout\": {\"annotationdefaults\": {\"arrowcolor\": \"#2a3f5f\", \"arrowhead\": 0, \"arrowwidth\": 1}, \"coloraxis\": {\"colorbar\": {\"outlinewidth\": 0, \"ticks\": \"\"}}, \"colorscale\": {\"diverging\": [[0, \"#8e0152\"], [0.1, \"#c51b7d\"], [0.2, \"#de77ae\"], [0.3, \"#f1b6da\"], [0.4, \"#fde0ef\"], [0.5, \"#f7f7f7\"], [0.6, \"#e6f5d0\"], [0.7, \"#b8e186\"], [0.8, \"#7fbc41\"], [0.9, \"#4d9221\"], [1, \"#276419\"]], \"sequential\": [[0.0, \"#0d0887\"], [0.1111111111111111, \"#46039f\"], [0.2222222222222222, \"#7201a8\"], [0.3333333333333333, \"#9c179e\"], [0.4444444444444444, \"#bd3786\"], [0.5555555555555556, \"#d8576b\"], [0.6666666666666666, \"#ed7953\"], [0.7777777777777778, \"#fb9f3a\"], [0.8888888888888888, \"#fdca26\"], [1.0, \"#f0f921\"]], \"sequentialminus\": [[0.0, \"#0d0887\"], [0.1111111111111111, \"#46039f\"], [0.2222222222222222, \"#7201a8\"], [0.3333333333333333, \"#9c179e\"], [0.4444444444444444, \"#bd3786\"], [0.5555555555555556, \"#d8576b\"], [0.6666666666666666, \"#ed7953\"], [0.7777777777777778, \"#fb9f3a\"], [0.8888888888888888, \"#fdca26\"], [1.0, \"#f0f921\"]]}, \"colorway\": [\"#636efa\", \"#EF553B\", \"#00cc96\", \"#ab63fa\", \"#FFA15A\", \"#19d3f3\", \"#FF6692\", \"#B6E880\", \"#FF97FF\", \"#FECB52\"], \"font\": {\"color\": \"#2a3f5f\"}, \"geo\": {\"bgcolor\": \"white\", \"lakecolor\": \"white\", \"landcolor\": \"#E5ECF6\", \"showlakes\": true, \"showland\": true, \"subunitcolor\": \"white\"}, \"hoverlabel\": {\"align\": \"left\"}, \"hovermode\": \"closest\", \"mapbox\": {\"style\": \"light\"}, \"paper_bgcolor\": \"white\", \"plot_bgcolor\": \"#E5ECF6\", \"polar\": {\"angularaxis\": {\"gridcolor\": \"white\", \"linecolor\": \"white\", \"ticks\": \"\"}, \"bgcolor\": \"#E5ECF6\", \"radialaxis\": {\"gridcolor\": \"white\", \"linecolor\": \"white\", \"ticks\": \"\"}}, \"scene\": {\"xaxis\": {\"backgroundcolor\": \"#E5ECF6\", \"gridcolor\": \"white\", \"gridwidth\": 2, \"linecolor\": \"white\", \"showbackground\": true, \"ticks\": \"\", \"zerolinecolor\": \"white\"}, \"yaxis\": {\"backgroundcolor\": \"#E5ECF6\", \"gridcolor\": \"white\", \"gridwidth\": 2, \"linecolor\": \"white\", \"showbackground\": true, \"ticks\": \"\", \"zerolinecolor\": \"white\"}, \"zaxis\": {\"backgroundcolor\": \"#E5ECF6\", \"gridcolor\": \"white\", \"gridwidth\": 2, \"linecolor\": \"white\", \"showbackground\": true, \"ticks\": \"\", \"zerolinecolor\": \"white\"}}, \"shapedefaults\": {\"line\": {\"color\": \"#2a3f5f\"}}, \"ternary\": {\"aaxis\": {\"gridcolor\": \"white\", \"linecolor\": \"white\", \"ticks\": \"\"}, \"baxis\": {\"gridcolor\": \"white\", \"linecolor\": \"white\", \"ticks\": \"\"}, \"bgcolor\": \"#E5ECF6\", \"caxis\": {\"gridcolor\": \"white\", \"linecolor\": \"white\", \"ticks\": \"\"}}, \"title\": {\"x\": 0.05}, \"xaxis\": {\"automargin\": true, \"gridcolor\": \"white\", \"linecolor\": \"white\", \"ticks\": \"\", \"title\": {\"standoff\": 15}, \"zerolinecolor\": \"white\", \"zerolinewidth\": 2}, \"yaxis\": {\"automargin\": true, \"gridcolor\": \"white\", \"linecolor\": \"white\", \"ticks\": \"\", \"title\": {\"standoff\": 15}, \"zerolinecolor\": \"white\", \"zerolinewidth\": 2}}}, \"title\": {\"text\": \"Analysis on Survival - Gender\"}},\n",
              "                        {\"responsive\": true}\n",
              "                    ).then(function(){\n",
              "                            \n",
              "var gd = document.getElementById('96c87593-f1c6-4fff-bce2-d586d8949196');\n",
              "var x = new MutationObserver(function (mutations, observer) {{\n",
              "        var display = window.getComputedStyle(gd).display;\n",
              "        if (!display || display === 'none') {{\n",
              "            console.log([gd, 'removed!']);\n",
              "            Plotly.purge(gd);\n",
              "            observer.disconnect();\n",
              "        }}\n",
              "}});\n",
              "\n",
              "// Listen for the removal of the full notebook cells\n",
              "var notebookContainer = gd.closest('#notebook-container');\n",
              "if (notebookContainer) {{\n",
              "    x.observe(notebookContainer, {childList: true});\n",
              "}}\n",
              "\n",
              "// Listen for the clearing of the current output cell\n",
              "var outputEl = gd.closest('.output');\n",
              "if (outputEl) {{\n",
              "    x.observe(outputEl, {childList: true});\n",
              "}}\n",
              "\n",
              "                        })\n",
              "                };\n",
              "                \n",
              "            </script>\n",
              "        </div>\n",
              "</body>\n",
              "</html>"
            ]
          },
          "metadata": {
            "tags": []
          }
        },
        {
          "output_type": "display_data",
          "data": {
            "text/plain": [
              "<Figure size 432x288 with 0 Axes>"
            ]
          },
          "metadata": {
            "tags": []
          }
        }
      ]
    },
    {
      "cell_type": "markdown",
      "metadata": {
        "id": "65u2U5fVJxxL"
      },
      "source": [
        "* segun los resultados del analisis anterior, se puede notar la relacion con respecto a los hombres y mujeres que mueren o sobreviven. "
      ]
    },
    {
      "cell_type": "markdown",
      "metadata": {
        "id": "1LdjRmOoe6mP"
      },
      "source": [
        "## Análisis factorial de género segun su mortandad"
      ]
    },
    {
      "cell_type": "code",
      "metadata": {
        "id": "SnzGTLJmfd8c",
        "outputId": "7f4ee9d7-5315-41b0-fb92-0547322bd5ed",
        "colab": {
          "base_uri": "https://localhost:8080/",
          "height": 559
        }
      },
      "source": [
        "surv = Xdata[Xdata[\"DEATH_EVENT\"]==0][\"age\"]\n",
        "not_surv = Xdata[Xdata[\"DEATH_EVENT\"]==1][\"age\"]\n",
        "hist_data = [surv,not_surv]\n",
        "group_labels = ['Survived', 'Not Survived']\n",
        "fig = ff.create_distplot(hist_data, group_labels, bin_size=0.9)\n",
        "fig.update_layout(\n",
        "    title_text=\"Análisis en edad sobre estado de supervivencia\")\n",
        "plt.savefig('results/Analysis_on_Survival.pdf', format='pdf', dpi=300)\n",
        "fig.show()"
      ],
      "execution_count": null,
      "outputs": [
        {
          "output_type": "display_data",
          "data": {
            "text/html": [
              "<html>\n",
              "<head><meta charset=\"utf-8\" /></head>\n",
              "<body>\n",
              "    <div>\n",
              "            <script src=\"https://cdnjs.cloudflare.com/ajax/libs/mathjax/2.7.5/MathJax.js?config=TeX-AMS-MML_SVG\"></script><script type=\"text/javascript\">if (window.MathJax) {MathJax.Hub.Config({SVG: {font: \"STIX-Web\"}});}</script>\n",
              "                <script type=\"text/javascript\">window.PlotlyConfig = {MathJaxConfig: 'local'};</script>\n",
              "        <script src=\"https://cdn.plot.ly/plotly-latest.min.js\"></script>    \n",
              "            <div id=\"4d512f7e-d61c-489e-b5b6-bcfbfae1a095\" class=\"plotly-graph-div\" style=\"height:525px; width:100%;\"></div>\n",
              "            <script type=\"text/javascript\">\n",
              "                \n",
              "                    window.PLOTLYENV=window.PLOTLYENV || {};\n",
              "                    \n",
              "                if (document.getElementById(\"4d512f7e-d61c-489e-b5b6-bcfbfae1a095\")) {\n",
              "                    Plotly.newPlot(\n",
              "                        '4d512f7e-d61c-489e-b5b6-bcfbfae1a095',\n",
              "                        [{\"autobinx\": false, \"histnorm\": \"probability density\", \"legendgroup\": \"Survived\", \"marker\": {\"color\": \"rgb(31, 119, 180)\"}, \"name\": \"Survived\", \"opacity\": 0.7, \"type\": \"histogram\", \"x\": [49.0, 65.0, 53.0, 50.0, 60.0, 72.0, 70.0, 60.0, 55.0, 45.0, 41.0, 58.0, 65.0, 70.0, 42.0, 75.0, 55.0, 70.0, 67.0, 79.0, 51.0, 55.0, 65.0, 44.0, 57.0, 70.0, 60.0, 42.0, 58.0, 58.0, 63.0, 70.0, 60.0, 63.0, 65.0, 75.0, 80.0, 42.0, 60.0, 55.0, 45.0, 63.0, 45.0, 55.0, 50.0, 60.0, 58.0, 60.0, 85.0, 65.0, 60.0, 66.0, 60.0, 60.0, 43.0, 58.0, 61.0, 53.0, 53.0, 60.0, 46.0, 63.0, 81.0, 75.0, 65.0, 68.0, 62.0, 50.0, 46.0, 50.0, 61.0, 50.0, 52.0, 64.0, 60.0, 62.0, 50.0, 50.0, 65.0, 60.0, 52.0, 50.0, 85.0, 59.0, 66.0, 45.0, 63.0, 53.0, 65.0, 70.0, 51.0, 52.0, 70.0, 50.0, 65.0, 60.0, 69.0, 49.0, 63.0, 55.0, 40.0, 60.667, 40.0, 80.0, 64.0, 50.0, 73.0, 45.0, 65.0, 50.0, 60.0, 63.0, 45.0, 70.0, 60.0, 78.0, 50.0, 40.0, 85.0, 60.0, 49.0, 70.0, 50.0, 78.0, 65.0, 73.0, 70.0, 68.0, 55.0, 65.0, 42.0, 47.0, 58.0, 75.0, 58.0, 55.0, 65.0, 72.0, 70.0, 40.0, 53.0, 53.0, 77.0, 75.0, 70.0, 65.0, 55.0, 70.0, 65.0, 40.0, 73.0, 54.0, 61.0, 64.0, 40.0, 53.0, 50.0, 55.0, 50.0, 70.0, 53.0, 52.0, 65.0, 58.0, 45.0, 53.0, 55.0, 62.0, 68.0, 61.0, 50.0, 56.0, 45.0, 40.0, 44.0, 51.0, 67.0, 42.0, 60.0, 45.0, 70.0, 70.0, 50.0, 55.0, 70.0, 70.0, 42.0, 65.0, 50.0, 55.0, 60.0, 45.0, 65.0, 90.0, 45.0, 60.0, 52.0, 63.0, 62.0, 55.0, 45.0, 45.0, 50.0], \"xaxis\": \"x\", \"xbins\": {\"end\": 90.0, \"size\": 0.9, \"start\": 40.0}, \"yaxis\": \"y\"}, {\"autobinx\": false, \"histnorm\": \"probability density\", \"legendgroup\": \"Not Survived\", \"marker\": {\"color\": \"rgb(255, 127, 14)\"}, \"name\": \"Not Survived\", \"opacity\": 0.7, \"type\": \"histogram\", \"x\": [75.0, 55.0, 65.0, 50.0, 65.0, 90.0, 75.0, 60.0, 65.0, 80.0, 75.0, 62.0, 45.0, 50.0, 82.0, 87.0, 45.0, 70.0, 48.0, 65.0, 68.0, 75.0, 80.0, 95.0, 70.0, 58.0, 82.0, 94.0, 85.0, 50.0, 65.0, 69.0, 90.0, 82.0, 60.0, 70.0, 50.0, 70.0, 60.0, 50.0, 51.0, 60.0, 80.0, 57.0, 68.0, 53.0, 60.0, 70.0, 60.0, 95.0, 49.0, 72.0, 45.0, 50.0, 45.0, 60.0, 42.0, 72.0, 70.0, 65.0, 85.0, 69.0, 60.0, 60.0, 59.0, 60.0, 72.0, 85.0, 70.0, 86.0, 60.0, 46.0, 80.0, 72.0, 75.0, 72.0, 50.0, 45.0, 80.0, 59.0, 59.0, 65.0, 75.0, 58.0, 60.667, 50.0, 60.0, 45.0, 77.0, 48.0, 54.0, 73.0, 60.0, 55.0, 65.0, 55.0], \"xaxis\": \"x\", \"xbins\": {\"end\": 95.0, \"size\": 0.9, \"start\": 42.0}, \"yaxis\": \"y\"}, {\"legendgroup\": \"Survived\", \"marker\": {\"color\": \"rgb(31, 119, 180)\"}, \"mode\": \"lines\", \"name\": \"Survived\", \"showlegend\": false, \"type\": \"scatter\", \"x\": [40.0, 40.1, 40.2, 40.3, 40.4, 40.5, 40.6, 40.7, 40.8, 40.9, 41.0, 41.1, 41.2, 41.3, 41.4, 41.5, 41.6, 41.7, 41.8, 41.9, 42.0, 42.1, 42.2, 42.3, 42.4, 42.5, 42.6, 42.7, 42.8, 42.9, 43.0, 43.1, 43.2, 43.3, 43.4, 43.5, 43.6, 43.7, 43.8, 43.9, 44.0, 44.1, 44.2, 44.3, 44.4, 44.5, 44.6, 44.7, 44.8, 44.9, 45.0, 45.1, 45.2, 45.3, 45.4, 45.5, 45.6, 45.7, 45.8, 45.9, 46.0, 46.1, 46.2, 46.3, 46.4, 46.5, 46.6, 46.7, 46.8, 46.9, 47.0, 47.1, 47.2, 47.3, 47.4, 47.5, 47.6, 47.7, 47.8, 47.9, 48.0, 48.1, 48.2, 48.3, 48.4, 48.5, 48.6, 48.7, 48.8, 48.9, 49.0, 49.1, 49.2, 49.3, 49.4, 49.5, 49.6, 49.7, 49.8, 49.9, 50.0, 50.1, 50.2, 50.3, 50.4, 50.5, 50.6, 50.7, 50.8, 50.9, 51.0, 51.1, 51.2, 51.3, 51.4, 51.5, 51.6, 51.7, 51.8, 51.9, 52.0, 52.1, 52.2, 52.3, 52.4, 52.5, 52.6, 52.7, 52.8, 52.9, 53.0, 53.1, 53.2, 53.3, 53.4, 53.5, 53.6, 53.7, 53.8, 53.9, 54.0, 54.1, 54.2, 54.3, 54.4, 54.5, 54.6, 54.7, 54.8, 54.9, 55.0, 55.1, 55.2, 55.3, 55.4, 55.5, 55.6, 55.7, 55.8, 55.9, 56.0, 56.1, 56.2, 56.3, 56.4, 56.5, 56.6, 56.7, 56.8, 56.9, 57.0, 57.1, 57.2, 57.3, 57.4, 57.5, 57.6, 57.7, 57.8, 57.9, 58.0, 58.1, 58.2, 58.3, 58.4, 58.5, 58.6, 58.7, 58.8, 58.9, 59.0, 59.1, 59.2, 59.3, 59.4, 59.5, 59.6, 59.7, 59.8, 59.9, 60.0, 60.1, 60.2, 60.3, 60.4, 60.5, 60.6, 60.7, 60.8, 60.9, 61.0, 61.1, 61.2, 61.3, 61.4, 61.5, 61.6, 61.7, 61.8, 61.9, 62.0, 62.1, 62.2, 62.3, 62.4, 62.5, 62.6, 62.7, 62.8, 62.9, 63.0, 63.1, 63.2, 63.3, 63.4, 63.5, 63.6, 63.7, 63.8, 63.9, 64.0, 64.1, 64.2, 64.3, 64.4, 64.5, 64.6, 64.7, 64.8, 64.9, 65.0, 65.1, 65.2, 65.3, 65.4, 65.5, 65.6, 65.7, 65.8, 65.9, 66.0, 66.1, 66.2, 66.3, 66.4, 66.5, 66.6, 66.7, 66.8, 66.9, 67.0, 67.1, 67.2, 67.3, 67.4, 67.5, 67.6, 67.7, 67.8, 67.9, 68.0, 68.1, 68.2, 68.3, 68.4, 68.5, 68.6, 68.7, 68.8, 68.9, 69.0, 69.1, 69.2, 69.3, 69.4, 69.5, 69.6, 69.7, 69.8, 69.9, 70.0, 70.1, 70.2, 70.3, 70.4, 70.5, 70.6, 70.7, 70.8, 70.9, 71.0, 71.1, 71.2, 71.3, 71.4, 71.5, 71.6, 71.7, 71.8, 71.9, 72.0, 72.1, 72.2, 72.3, 72.4, 72.5, 72.6, 72.7, 72.8, 72.9, 73.0, 73.1, 73.2, 73.3, 73.4, 73.5, 73.6, 73.7, 73.8, 73.9, 74.0, 74.1, 74.2, 74.3, 74.4, 74.5, 74.6, 74.7, 74.8, 74.9, 75.0, 75.1, 75.2, 75.3, 75.4, 75.5, 75.6, 75.7, 75.8, 75.9, 76.0, 76.1, 76.2, 76.3, 76.4, 76.5, 76.6, 76.7, 76.8, 76.9, 77.0, 77.1, 77.2, 77.3, 77.4, 77.5, 77.6, 77.7, 77.8, 77.9, 78.0, 78.1, 78.2, 78.3, 78.4, 78.5, 78.6, 78.7, 78.8, 78.9, 79.0, 79.1, 79.2, 79.3, 79.4, 79.5, 79.6, 79.7, 79.8, 79.9, 80.0, 80.1, 80.2, 80.3, 80.4, 80.5, 80.6, 80.7, 80.8, 80.9, 81.0, 81.1, 81.2, 81.3, 81.4, 81.5, 81.6, 81.7, 81.8, 81.9, 82.0, 82.1, 82.2, 82.3, 82.4, 82.5, 82.6, 82.7, 82.8, 82.9, 83.0, 83.1, 83.2, 83.3, 83.4, 83.5, 83.6, 83.7, 83.8, 83.9, 84.0, 84.1, 84.2, 84.3, 84.4, 84.5, 84.6, 84.7, 84.8, 84.9, 85.0, 85.1, 85.2, 85.3, 85.4, 85.5, 85.6, 85.7, 85.8, 85.9, 86.0, 86.1, 86.2, 86.3, 86.4, 86.5, 86.6, 86.7, 86.8, 86.9, 87.0, 87.1, 87.2, 87.3, 87.4, 87.5, 87.6, 87.7, 87.8, 87.9, 88.0, 88.1, 88.2, 88.3, 88.4, 88.5, 88.6, 88.7, 88.8, 88.9, 89.0, 89.1, 89.2, 89.3, 89.4, 89.5, 89.6, 89.7, 89.8, 89.9], \"xaxis\": \"x\", \"y\": [0.01149768878538961, 0.011714889659373414, 0.011931433112966447, 0.012147201864667343, 0.012362082171629468, 0.012575964130437062, 0.012788741968592384, 0.013000314325686145, 0.013210584523233962, 0.01341946082217658, 0.013626856667055893, 0.01383269091589827, 0.014036888054856584, 0.01423937839668492, 0.014440098262147105, 0.014638990143487246, 0.014836002849123625, 0.015031091628761796, 0.015224218278161526, 0.015415351222835086, 0.015604465580000108, 0.01579154319816214, 0.015976572673755626, 0.016159549344333456, 0.01634047525785785, 0.0165193591177164, 0.016696216203159805, 0.016871068264938303, 0.017043943395997307, 0.017214875877182182, 0.01738390599799627, 0.01755107985255488, 0.017716449110980984, 0.017880070766596215, 0.018042006859371088, 0.018202324176213966, 0.018361093928794283, 0.018518391409717165, 0.01867429562798558, 0.018828888924811084, 0.01898225657095501, 0.01913448634690486, 0.01928566810731168, 0.019435893331231496, 0.019585254659830808, 0.019733845423325277, 0.019881759159028078, 0.020029089122483513, 0.02017592779375376, 0.02032236638101193, 0.020468494323668856, 0.020614398797328022, 0.02076016422291562, 0.020905871782377582, 0.02105159894336371, 0.021197418995338297, 0.021343400599558127, 0.021489607355349043, 0.021636097385086126, 0.021782922940241752, 0.021930130030809736, 0.022077758080343332, 0.0222258396087563, 0.022374399944936823, 0.022523456971105388, 0.022673020900718058, 0.022823094091570625, 0.022973670895601882, 0.023124737546722673, 0.02327627208781592, 0.023428244337859856, 0.023580615899925106, 0.023733340210585253, 0.02388636263106462, 0.024039620580222847, 0.02419304370925154, 0.024346554117726578, 0.024500066610431404, 0.024653488994136007, 0.024806722413289052, 0.024959661723356383, 0.025112195900320586, 0.025264208484644293, 0.025415578057795287, 0.025566178749238395, 0.02571588077161455, 0.025864550981656333, 0.02601205346423251, 0.02615825013676945, 0.02630300137116952, 0.02644616663023559, 0.026587605115515178, 0.026727176423401038, 0.026864741206265766, 0.027000161835366934, 0.02713330306223862, 0.027264032675279166, 0.027392222148262597, 0.02751774727753333, 0.02764048880469552, 0.02776033302167726, 0.027877172355137533, 0.027990905927283708, 0.028101440090288216, 0.028208688931623663, 0.028312574747784217, 0.028413028484018554, 0.02850999013787196, 0.028603409124516702, 0.028693244602039578, 0.028779465755055723, 0.02886205203522331, 0.028940993357445623, 0.02901629025076136, 0.02908795396314648, 0.02915600651966861, 0.029220480733659564, 0.02928142017079119, 0.029338879066161238, 0.029392922194712654, 0.029443624695523616, 0.0294910718507147, 0.02953535881992405, 0.02957659033149771, 0.02961488033173298, 0.029650351593695102, 0.02968313528730087, 0.029713370512526684, 0.02974120379775518, 0.029766788565416303, 0.02979028456721471, 0.029811857291356603, 0.029831677344301873, 0.02984991980966512, 0.02986676358697835, 0.029882390713104175, 0.029896985669149664, 0.0299107346757844, 0.029923824979904437, 0.02993644413560947, 0.02994877928247494, 0.029961016424103978, 0.029973339709930807, 0.029985930723226344, 0.029998967778222, 0.03001262522922014, 0.030027072794502188, 0.03004247489777498, 0.030058990029816365, 0.030076770132887523, 0.030095960010378855, 0.03011669676404381, 0.030139109261050335, 0.0301633176329532, 0.03018943280854404, 0.030217556082392346, 0.030247778720731797, 0.03028018160618266, 0.030314834922632913, 0.030351797881422806, 0.030391118489798485, 0.03043283336241407, 0.030476967576474404, 0.030523534570918345, 0.030572536089850354, 0.030623962170235344, 0.030677791173677575, 0.03073398986191137, 0.030792513515444223, 0.03085330609460338, 0.030916300442054054, 0.030981418525682394, 0.031048571720561007, 0.031117661128553204, 0.031188577933952712, 0.03126120379341001, 0.03133541125825567, 0.03141106422720474, 0.03148801842730879, 0.031566121920916616, 0.03164521563631189, 0.03172513391961785, 0.03180570510548843, 0.031886752104057475, 0.03196809300157256, 0.03204954167211968, 0.03213090839782975, 0.032212000494961195, 0.03229262294327163, 0.03237257901611488, 0.03245167090874829, 0.032529700362385824, 0.03260646928160094, 0.032681780342760015, 0.032755437591256514, 0.03282724702541363, 0.03289701716503007, 0.0329645596026578, 0.03302968953582457, 0.03309222627853706, 0.03315199375053825, 0.033208820942924724, 0.033262542358869614, 0.033312998428339076, 0.03336003589582818, 0.03340350818028635, 0.03344327570653984, 0.033479206207656334, 0.03351117499783213, 0.03353906521551203, 0.033562768036577484, 0.0335821828575599, 0.03359721744895227, 0.03360778807879781, 0.033613819606839006, 0.03361524554960696, 0.03361200811691635, 0.03360405822031385, 0.033591355454105284, 0.03357386804964867, 0.03355157280366571, 0.033524454981376045, 0.0334925081953068, 0.0334557342606729, 0.03341414302825823, 0.03336775219576242, 0.03331658709860216, 0.0332606804811816, 0.033200072249665785, 0.033134809207307665, 0.03306494477339498, 0.032990538686896866, 0.0329116566959002, 0.03282837023393991, 0.03274075608433496, 0.03264889603365507, 0.03255287651545301, 0.032452788245408516, 0.03234872584904385, 0.03224078748318095, 0.03212907445232685, 0.03201369082118563, 0.031894743024512305, 0.03177233947553695, 0.03164659017420358, 0.03151760631648379, 0.031385499906036604, 0.031250383369501124, 0.03111236917671907, 0.030971569467190128, 0.03082809568407297, 0.03068205821704396, 0.030533566055322557, 0.03038272645216975, 0.030229644602148404, 0.03007442333242034, 0.02991716280932752, 0.02975796026147394, 0.02959690972048717, 0.029434101780587574, 0.029269623378043137, 0.02910355759151994, 0.02893598346427072, 0.02876697584901963, 0.028596605276315922, 0.02842493784703157, 0.02825203514957208, 0.028077954202259666, 0.0279027474212272, 0.02772646261403641, 0.027549142999103726, 0.027370827250878724, 0.027191549570582958, 0.027011339782172173, 0.026830223453040175, 0.026648222038837516, 0.02646535305163183, 0.02628163025049279, 0.026097063853443542, 0.025911660769582467, 0.02572542485004623, 0.025538357156360963, 0.025350456244606138, 0.025161718463709935, 0.0249721382660904, 0.024781708528770634, 0.02459042088301437, 0.024398266050466792, 0.024205234183729277, 0.024011315209260108, 0.023816499170469, 0.023620776568861374, 0.023424138701097358, 0.023226577989846633, 0.023028088306358493, 0.022828665282716157, 0.022628306611807748, 0.022427012333127605, 0.022224785102612356, 0.022021630444822624, 0.021817556985898764, 0.021612576665847885, 0.02140670492885861, 0.02119996089048874, 0.020992367480726016, 0.02078395156208715, 0.02057474402208664, 0.020364779839580918, 0.020154098124667875, 0.019942742131998526, 0.01973075924753335, 0.019518200948952347, 0.01930512274009886, 0.019091584060005055, 0.01887764816721052, 0.018663382000241268, 0.018448856015263894, 0.01823414400207057, 0.018019322879678723, 0.017804472472949272, 0.017589675271735123, 0.01737501617416557, 0.017160582215757655, 0.016946462286112664, 0.01673274683501426, 0.016519527569787053, 0.016306897145802815, 0.016094948852038576, 0.015883776293591133, 0.015673473073042846, 0.015464132472548398, 0.015255847138476499, 0.015048708770391536, 0.014842807816101077, 0.014638233174424326, 0.01443507190725786, 0.014233408962424412, 0.014033326908695519, 0.01383490568427297, 0.013638222359905076, 0.013443350917697482, 0.013250362046558982, 0.01305932295509928, 0.012870297202671167, 0.012683344549121602, 0.012498520823690988, 0.012315877813371222, 0.012135463170910143, 0.011957320342525583, 0.01178148851527275, 0.011608002583893084, 0.011436893136859997, 0.011268186461231176, 0.01110190456581567, 0.010938065222068635, 0.010776682022039328, 0.010617764452614635, 0.010461317985228535, 0.010307344180138647, 0.01015584080431335, 0.010006801961921292, 0.009860218236370778, 0.009716076842811746, 0.009574361789984501, 0.009435054050278857, 0.009298131736855023, 0.009163570286671956, 0.009031342648270707, 0.008901419473168618, 0.008773769309735741, 0.008648358798446004, 0.008525152867423193, 0.008404114927234776, 0.008285207063924214, 0.008168390229315892, 0.008053624427673526, 0.007940868897844112, 0.007830082290074517, 0.007721222836744965, 0.007614248516324604, 0.007509117209916692, 0.007405786849825718, 0.007304215559644111, 0.0072043617854240785, 0.0071061844175659035, 0.007009642903123677, 0.006914697348295219, 0.006821308610930774, 0.006729438382960678, 0.0066390492627068, 0.006550104817106009, 0.006462569633934709, 0.006376409364182787, 0.0062915907547812224, 0.006208081671942102, 0.0061258511154197726, 0.006044869224049598, 0.005965107272964743, 0.0058865376629318455, 0.005809133902282667, 0.005732870581951977, 0.005657723344159749, 0.0055836688453007105, 0.005510684713624069, 0.005438749502302019, 0.0053678426384973004, 0.0052979443690470765, 0.0052290357033832075, 0.005161098354307669, 0.005094114677236156, 0.005028067608513309, 0.0049629406033891346, 0.004898717574228964, 0.004835382829508014, 0.004772921014116975, 0.004711317051477596, 0.00465055608793579, 0.00459062343986717, 0.004531504543893205, 0.0044731849105682986, 0.004415650081858401, 0.004358885592689682, 0.004302876936803901, 0.004247609537112557, 0.004193068720698698, 0.0041392396985705255, 0.004086107550226813, 0.004033657213050897, 0.003981873476506853, 0.00393074098107019, 0.003880244221785049, 0.0038303675563016847, 0.00378109521721185, 0.003732411328465589, 0.003684299925621519, 0.0036367449796544525, 0.0035897304240182014, 0.003543240184639305, 0.003497258212498034, 0.003451768518437334, 0.003406755209828091, 0.003362202528710353, 0.00331809489102479, 0.003274416926547055, 0.0032311535191392616, 0.003188289846938179, 0.003145811422107855, 0.003103704129795984, 0.0030619542659480327, 0.003020548573649942, 0.0029794742776907517, 0.002938719117057988, 0.0028982713751033984, 0.002858119907142734, 0.0028182541652804244, 0.0027786642202796397, 0.0027393407803274488, 0.002700275206575763, 0.002661459525369286, 0.0026228864371028748, 0.00258454932168141, 0.002546442240585274, 0.002508559935574176, 0.0024708978240902645, 0.002433451991448523, 0.002396219179928081, 0.0023591967749017353, 0.002322382788162774, 0.0022857758386284044, 0.002249375130615963, 0.0022131804299040454, 0.0021771920378029588, 0.002141410763469539, 0.0021058378947091737, 0.002070475167513006, 0.0020353247345813678, 0.002000389133084595, 0.001965671251910529, 0.0019311742986435965, 0.001896901766513773, 0.0018628574015453823, 0.0018290451701248186, 0.0017954692271945284, 0.001762133885266369, 0.0017290435844325145, 0.001696202863535731, 0.0016636163326433332, 0.0016312886469513157, 0.0015992244822262698, 0.0015674285118737637, 0.00153590538570285, 0.0015046597104370106, 0.001473696032003375, 0.0014430188196133916, 0.0014126324516304674, 0.0013825412032031808, 0.0013527492356264722, 0.0013232605873784026, 0.0012940791667661697, 0.0012652087461025151], \"yaxis\": \"y\"}, {\"legendgroup\": \"Not Survived\", \"marker\": {\"color\": \"rgb(255, 127, 14)\"}, \"mode\": \"lines\", \"name\": \"Not Survived\", \"showlegend\": false, \"type\": \"scatter\", \"x\": [42.0, 42.106, 42.212, 42.318, 42.424, 42.53, 42.636, 42.742, 42.848, 42.954, 43.06, 43.166, 43.272, 43.378, 43.484, 43.59, 43.696, 43.802, 43.908, 44.014, 44.12, 44.226, 44.332, 44.438, 44.544, 44.65, 44.756, 44.862, 44.968, 45.074, 45.18, 45.286, 45.392, 45.498, 45.604, 45.71, 45.816, 45.922, 46.028, 46.134, 46.24, 46.346000000000004, 46.452, 46.558, 46.664, 46.769999999999996, 46.876, 46.982, 47.088, 47.194, 47.3, 47.406, 47.512, 47.618, 47.724000000000004, 47.83, 47.936, 48.042, 48.147999999999996, 48.254, 48.36, 48.466, 48.572, 48.678, 48.784, 48.89, 48.996, 49.102000000000004, 49.208, 49.314, 49.42, 49.525999999999996, 49.632, 49.738, 49.844, 49.95, 50.056, 50.162, 50.268, 50.374, 50.480000000000004, 50.586, 50.692, 50.798, 50.903999999999996, 51.01, 51.116, 51.222, 51.328, 51.434, 51.54, 51.646, 51.752, 51.858000000000004, 51.964, 52.07, 52.176, 52.282, 52.388, 52.494, 52.6, 52.706, 52.812, 52.918, 53.024, 53.13, 53.236000000000004, 53.342, 53.448, 53.554, 53.66, 53.766, 53.872, 53.978, 54.084, 54.19, 54.296, 54.402, 54.507999999999996, 54.614000000000004, 54.72, 54.826, 54.932, 55.038, 55.144, 55.25, 55.356, 55.462, 55.568, 55.674, 55.78, 55.885999999999996, 55.992000000000004, 56.098, 56.204, 56.31, 56.416, 56.522, 56.628, 56.734, 56.84, 56.946, 57.052, 57.158, 57.263999999999996, 57.37, 57.476, 57.582, 57.688, 57.794, 57.9, 58.006, 58.111999999999995, 58.218, 58.324, 58.43, 58.536, 58.641999999999996, 58.748000000000005, 58.854, 58.96, 59.066, 59.172, 59.278, 59.384, 59.489999999999995, 59.596000000000004, 59.702, 59.808, 59.914, 60.019999999999996, 60.126000000000005, 60.232, 60.338, 60.444, 60.55, 60.656, 60.762, 60.867999999999995, 60.974000000000004, 61.08, 61.186, 61.292, 61.397999999999996, 61.504000000000005, 61.61, 61.716, 61.822, 61.928, 62.034, 62.14, 62.245999999999995, 62.352000000000004, 62.458, 62.564, 62.67, 62.775999999999996, 62.882000000000005, 62.988, 63.094, 63.2, 63.306, 63.412, 63.518, 63.623999999999995, 63.730000000000004, 63.836, 63.942, 64.048, 64.154, 64.26, 64.366, 64.47200000000001, 64.578, 64.684, 64.78999999999999, 64.896, 65.002, 65.108, 65.214, 65.32, 65.426, 65.532, 65.638, 65.744, 65.85, 65.956, 66.062, 66.168, 66.274, 66.38, 66.486, 66.592, 66.69800000000001, 66.804, 66.91, 67.01599999999999, 67.122, 67.22800000000001, 67.334, 67.44, 67.54599999999999, 67.652, 67.758, 67.864, 67.97, 68.076, 68.182, 68.288, 68.394, 68.5, 68.606, 68.712, 68.818, 68.924, 69.03, 69.136, 69.242, 69.348, 69.45400000000001, 69.56, 69.666, 69.77199999999999, 69.878, 69.98400000000001, 70.09, 70.196, 70.30199999999999, 70.408, 70.514, 70.62, 70.726, 70.832, 70.938, 71.044, 71.15, 71.256, 71.362, 71.468, 71.574, 71.68, 71.786, 71.892, 71.998, 72.104, 72.21000000000001, 72.316, 72.422, 72.52799999999999, 72.634, 72.74, 72.846, 72.952, 73.05799999999999, 73.164, 73.27, 73.376, 73.482, 73.588, 73.694, 73.8, 73.906, 74.012, 74.118, 74.22399999999999, 74.33, 74.436, 74.542, 74.648, 74.75399999999999, 74.86, 74.96600000000001, 75.072, 75.178, 75.28399999999999, 75.39, 75.49600000000001, 75.602, 75.708, 75.814, 75.92, 76.02600000000001, 76.132, 76.238, 76.344, 76.45, 76.556, 76.662, 76.768, 76.874, 76.97999999999999, 77.086, 77.19200000000001, 77.298, 77.404, 77.50999999999999, 77.616, 77.72200000000001, 77.828, 77.934, 78.03999999999999, 78.146, 78.25200000000001, 78.358, 78.464, 78.57, 78.676, 78.782, 78.888, 78.994, 79.1, 79.206, 79.312, 79.418, 79.524, 79.63, 79.73599999999999, 79.842, 79.94800000000001, 80.054, 80.16, 80.26599999999999, 80.372, 80.47800000000001, 80.584, 80.69, 80.79599999999999, 80.902, 81.00800000000001, 81.114, 81.22, 81.326, 81.432, 81.538, 81.644, 81.75, 81.856, 81.962, 82.068, 82.174, 82.28, 82.386, 82.49199999999999, 82.598, 82.70400000000001, 82.81, 82.916, 83.02199999999999, 83.128, 83.23400000000001, 83.34, 83.446, 83.55199999999999, 83.658, 83.76400000000001, 83.87, 83.976, 84.082, 84.188, 84.294, 84.4, 84.506, 84.612, 84.718, 84.824, 84.93, 85.036, 85.142, 85.24799999999999, 85.354, 85.46000000000001, 85.566, 85.672, 85.77799999999999, 85.884, 85.99000000000001, 86.096, 86.202, 86.30799999999999, 86.414, 86.52000000000001, 86.626, 86.732, 86.838, 86.944, 87.05, 87.156, 87.262, 87.368, 87.47399999999999, 87.58, 87.686, 87.792, 87.898, 88.00399999999999, 88.11, 88.21600000000001, 88.322, 88.428, 88.53399999999999, 88.64, 88.74600000000001, 88.852, 88.958, 89.064, 89.17, 89.27600000000001, 89.382, 89.488, 89.594, 89.7, 89.806, 89.912, 90.018, 90.124, 90.22999999999999, 90.336, 90.44200000000001, 90.548, 90.654, 90.75999999999999, 90.866, 90.97200000000001, 91.078, 91.184, 91.28999999999999, 91.396, 91.50200000000001, 91.608, 91.714, 91.82, 91.926, 92.032, 92.138, 92.244, 92.35, 92.456, 92.562, 92.668, 92.774, 92.88, 92.98599999999999, 93.092, 93.19800000000001, 93.304, 93.41, 93.51599999999999, 93.622, 93.72800000000001, 93.834, 93.94, 94.04599999999999, 94.152, 94.25800000000001, 94.364, 94.47, 94.576, 94.682, 94.788, 94.894], \"xaxis\": \"x\", \"y\": [0.009076922386865093, 0.00924290401603041, 0.009409416358590567, 0.009576392250822626, 0.009743763858907505, 0.009911462765774055, 0.0100794200601547, 0.010247566427720891, 0.0104158322441601, 0.010584147670049027, 0.0107524427473717, 0.010920647497524923, 0.011088692020647014, 0.011256506596100327, 0.011424021783932401, 0.011591168527135202, 0.01175787825451635, 0.011924082983992383, 0.012089715426108486, 0.012254709087585577, 0.012418998374691514, 0.0125825186962298, 0.012745206565935394, 0.012906999704065199, 0.013067837137968073, 0.013227659301416584, 0.013386408132482281, 0.013544027169734048, 0.013700461646539085, 0.013855658583245245, 0.01400956687702454, 0.014162137389157257, 0.014313323029538534, 0.014463078838190077, 0.01461136206356283, 0.014758132237418358, 0.014903351246081107, 0.01504698339785696, 0.015188995486418418, 0.015329356849961624, 0.015468039425946392, 0.015605017801236944, 0.01574026925746674, 0.015873773811460355, 0.016005514250551287, 0.016135476162644526, 0.01626364796088197, 0.016390020902777577, 0.01651458910370102, 0.016637349544597925, 0.01675830207384803, 0.016877449403172855, 0.016994797097518412, 0.017110353558850905, 0.01722413000381683, 0.017336140435233027, 0.01744640160738666, 0.01755493298513968, 0.017661756696847525, 0.017766897481117722, 0.017870382627448736, 0.017972241910806874, 0.018072507520214033, 0.01817121398143625, 0.018268398073879245, 0.01836409874181377, 0.018458357000070456, 0.01855121583436029, 0.018642720096393436, 0.018732916393985503, 0.018821852976357193, 0.01890957961484823, 0.018996147479283566, 0.01908160901024411, 0.01916601778750982, 0.019249428394957656, 0.019331896282210555, 0.01941347762334731, 0.01949422917299578, 0.01957420812014457, 0.01965347194001893, 0.01973207824437783, 0.01981008463059841, 0.0198875485299234, 0.01996452705525426, 0.020041076848880093, 0.02011725393053825, 0.020193113546206672, 0.020268710018032408, 0.020344096595802125, 0.02041932531036282, 0.020494446829399642, 0.020569510315977365, 0.020644563290249045, 0.02071965149473148, 0.020794818763542087, 0.02087010689598536, 0.020945555534868435, 0.021021202049917916, 0.02109708142665733, 0.02117322616109498, 0.02124966616055721, 0.021326428650989306, 0.021403538091029437, 0.021481016093145178, 0.021558881352103813, 0.02163714958102916, 0.021715833455276896, 0.021794942564339788, 0.021874483371972488, 0.021954459184701607, 0.022034870128864507, 0.022115713136294332, 0.02219698193874509, 0.02227866707112341, 0.02236075588356882, 0.022443232562396352, 0.022526078159889606, 0.022609270632903983, 0.022692784890213456, 0.022776592848505875, 0.022860663496905454, 0.02294496296987282, 0.023029454628306738, 0.023114099148645057, 0.023198854619735268, 0.023283676647221002, 0.023368518465164093, 0.023453331054599104, 0.023538063268692608, 0.02362266196415777, 0.023707072138552925, 0.023791237073072718, 0.02387509848042087, 0.023958596657336125, 0.024041670641325952, 0.024124258371147518, 0.02420629685056237, 0.024287722314877466, 0.024368470399777076, 0.024448476311938423, 0.024527675000919277, 0.024606001331798, 0.02468339025804409, 0.024759776994095185, 0.02483509718711518, 0.0249092870874113, 0.024982283716989837, 0.025054025035736435, 0.02512445010471322, 0.02519349924607404, 0.025261114199109085, 0.02532723827194329, 0.025391816488425208, 0.02545479572975993, 0.025516124870455775, 0.02557575490817294, 0.02563363908708288, 0.0256897330143677, 0.025743994769511898, 0.025796385006062374, 0.025846867045557793, 0.025895406963354052, 0.025941973666099582, 0.025986538960642038, 0.026029077614176187, 0.026069567405472494, 0.026107989167054122, 0.026144326818222173, 0.026178567388857293, 0.02621070103395769, 0.02624072103890355, 0.026268623815468607, 0.0262944088886301, 0.02631807887425833, 0.02633963944779729, 0.026359099304076344, 0.02637647010842292, 0.026391766439272695, 0.026405005722502733, 0.026416208157737976, 0.026425396636907728, 0.026432596655353253, 0.026437836215809984, 0.026441145725610685, 0.026442557887476553, 0.026442107584281577, 0.02643983175819484, 0.02643576928462058, 0.02642996084137149, 0.026422448773523313, 0.02641327695441136, 0.02640249064323823, 0.026390136339771855, 0.026376261636618124, 0.02636091506955804, 0.026344145966442616, 0.02632600429513931, 0.026306540511024396, 0.026285805404513213, 0.026263849949116444, 0.026240725150505656, 0.02621648189706411, 0.026191170812390273, 0.026164842110211358, 0.02613754545215297, 0.026109329808797554, 0.026080243324449904, 0.026050333186012912, 0.026019645496358712, 0.02598822515256333, 0.025956115729353017, 0.02592335936809049, 0.025889996671607896, 0.025856066605171504, 0.025821606403840028, 0.025786651486455685, 0.02575123537648143, 0.025715389629875355, 0.025679143770166345, 0.02564252523087107, 0.02560555930536568, 0.0255682691043014, 0.025530675520625733, 0.025492797202246863, 0.025454650532352373, 0.025416249617368332, 0.025377606282519966, 0.025338730074930437, 0.025299628274169768, 0.02526030591014327, 0.025220765788184406, 0.02518100852119664, 0.025141032568665674, 0.025100834282343602, 0.025060407958386627, 0.02501974589570961, 0.02497883846030161, 0.0249376741552314, 0.024896239696055273, 0.024854520091325005, 0.02481249872788108, 0.02477015746060331, 0.024727476706280487, 0.02468443554125123, 0.024641011802459305, 0.024597182191559482, 0.02455292238170512, 0.024508207126642624, 0.024463010371735767, 0.024417305366540572, 0.024371064778550423, 0.024324260807732073, 0.02427686530147442, 0.024228849869575894, 0.024180185998898932, 0.024130845167327244, 0.02408079895666638, 0.024030019164136794, 0.023978477912116665, 0.023926147755801888, 0.02387300178846012, 0.023819013743969292, 0.023764158096341376, 0.023708410155946442, 0.02365174616216612, 0.023594143372219614, 0.023535580145921876, 0.023476036026147666, 0.02341549181479414, 0.023353929644049008, 0.023291333042790813, 0.02322768699796397, 0.023162978010790255, 0.023097194147696152, 0.0230303250858537, 0.0229623621532517, 0.022893298363231347, 0.022823128443440394, 0.022751848859177033, 0.022679457831113588, 0.02260595534740809, 0.022531343170229576, 0.02245562483674017, 0.022378805654594852, 0.022300892692035338, 0.022221894762672154, 0.02214182240506361, 0.02206068785721606, 0.021978505026144384, 0.02189528945264557, 0.021811058271451335, 0.02172583016693881, 0.021639625324589365, 0.02155246537839777, 0.021464373354443067, 0.021375373610842734, 0.021285491774320063, 0.021194754673622685, 0.02110319027003659, 0.021010827585246594, 0.02091769662679889, 0.020823828311426065, 0.020729254386497795, 0.020634007349863093, 0.020538120368352026, 0.02044162719520472, 0.02034456208669584, 0.020246959718221567, 0.020148855100114393, 0.020050283493447948, 0.019951280326090882, 0.01985188110926472, 0.019752121354854796, 0.019652036493718574, 0.019551661795228593, 0.0194510322882801, 0.019350182683985865, 0.019249147300271975, 0.019147959988580068, 0.019046654062870892, 0.018945262231115333, 0.018843816529447274, 0.018742348259142973, 0.018640887926579565, 0.018539465186314306, 0.01843810878741363, 0.01833684652314966, 0.018235705184169195, 0.01813471051522762, 0.018033887175567774, 0.017933258703011216, 0.017832847481816218, 0.017732674714344757, 0.017632760396567772, 0.01753312329742512, 0.017433780942045268, 0.017334749598816306, 0.017236044270288874, 0.01713767868787897, 0.01703966531032801, 0.01694201532586543, 0.01684473865800931, 0.016747843974928598, 0.01665133870228226, 0.0165552290394395, 0.01645951997897704, 0.01636421532934031, 0.016269317740546924, 0.016174828732804406, 0.016080748727905086, 0.01598707708325638, 0.015893812128397265, 0.015800951203847138, 0.01570849070212789, 0.015616426110796078, 0.015524752057318089, 0.015433462355618396, 0.015342550054128068, 0.015252007485159268, 0.015161826315429682, 0.01507199759756055, 0.014982511822370967, 0.014893358971792831, 0.014804528572230089, 0.014716009748188836, 0.01462779127600614, 0.014539861637507756, 0.014452209073428776, 0.01436482163643351, 0.014277687243575896, 0.01419079372804577, 0.01410412889005039, 0.014017680546687297, 0.013931436580668304, 0.013845384987762027, 0.013759513922827048, 0.013673811744315478, 0.013588267057132834, 0.013502868753747026, 0.01341760605344716, 0.01333246853965938, 0.013247446195235333, 0.013162529435636013, 0.013077709139941966, 0.012992976679628176, 0.012908323945050827, 0.012823743369600115, 0.012739227951482164, 0.012654771273100555, 0.012570367518016204, 0.012486011485472036, 0.012401698602477125, 0.012317424933452054, 0.012233187187445685, 0.012148982722939912, 0.012064809550267246, 0.011980666331672805, 0.011896552379058779, 0.011812467649457013, 0.011728412738280574, 0.01164438887041295, 0.011560397889197662, 0.011476442243398298, 0.011392524972203444, 0.011308649688356225, 0.01122482055949315, 0.011141042287781233, 0.011057320087946429, 0.010973659663790429, 0.010890067183296047, 0.010806549252424658, 0.01072311288771208, 0.01063976548777135, 0.010556514803813045, 0.010473368909295925, 0.010390336168821025, 0.01030742520638444, 0.010224644873103959, 0.010142004214535236, 0.010059512437693145, 0.00997717887789353, 0.009895012965529693, 0.009813024192897373, 0.00973122208117984, 0.009649616147703668, 0.00956821587357337, 0.009487030671790823, 0.009406069855962857, 0.009325342609697548, 0.00924485795678599, 0.009164624732264075, 0.009084651554443664, 0.009004946797999708, 0.008925518568195201, 0.008846374676321662, 0.008767522616427995, 0.008688969543406299, 0.008610722252497675, 0.008532787160276457, 0.008455170287165921, 0.008377877241533074, 0.008300913205404613, 0.008224282921840942, 0.008147990683999122, 0.008072040325910022, 0.00799643521498936, 0.007921178246296368, 0.007846271838548134, 0.007771717931891871, 0.007697517987431768, 0.007623672988501073, 0.007550183443664736, 0.00747704939143215, 0.007404270406654223, 0.007331845608573688, 0.007259773670491777, 0.0071880528310104205, 0.007116680906802834, 0.007045655306861656, 0.006974973048168709, 0.006904630772726182, 0.006834624765884871, 0.006764950975901147, 0.0066956050346507, 0.006626582279423525, 0.006557877775721511, 0.00648948634097721, 0.006421402569109112, 0.006353620855827377, 0.006286135424601059, 0.006218940353196387, 0.006152029600694398, 0.006085397034894759, 0.0060190364600119905, 0.005952941644569527, 0.0058871063493974385, 0.005821524355638743, 0.00575618949267079, 0.005691095665848056, 0.005626236883974167, 0.00556160728641234, 0.00549720116974471, 0.0054330130138934675, 0.005369037507618554, 0.00530526957330927, 0.005241704390990079, 0.00517833742146374, 0.005115164428518181, 0.005052181500127124, 0.00498938506857817, 0.004926771929465788, 0.004864339259491182, 0.0048020846330149155, 0.004740006037312643, 0.004678101886489168, 0.0046163710340106825, 0.00455481278381944, 0.0044934269000007805, 0.004432213614976755], \"yaxis\": \"y\"}, {\"legendgroup\": \"Survived\", \"marker\": {\"color\": \"rgb(31, 119, 180)\", \"symbol\": \"line-ns-open\"}, \"mode\": \"markers\", \"name\": \"Survived\", \"showlegend\": false, \"type\": \"scatter\", \"x\": [49.0, 65.0, 53.0, 50.0, 60.0, 72.0, 70.0, 60.0, 55.0, 45.0, 41.0, 58.0, 65.0, 70.0, 42.0, 75.0, 55.0, 70.0, 67.0, 79.0, 51.0, 55.0, 65.0, 44.0, 57.0, 70.0, 60.0, 42.0, 58.0, 58.0, 63.0, 70.0, 60.0, 63.0, 65.0, 75.0, 80.0, 42.0, 60.0, 55.0, 45.0, 63.0, 45.0, 55.0, 50.0, 60.0, 58.0, 60.0, 85.0, 65.0, 60.0, 66.0, 60.0, 60.0, 43.0, 58.0, 61.0, 53.0, 53.0, 60.0, 46.0, 63.0, 81.0, 75.0, 65.0, 68.0, 62.0, 50.0, 46.0, 50.0, 61.0, 50.0, 52.0, 64.0, 60.0, 62.0, 50.0, 50.0, 65.0, 60.0, 52.0, 50.0, 85.0, 59.0, 66.0, 45.0, 63.0, 53.0, 65.0, 70.0, 51.0, 52.0, 70.0, 50.0, 65.0, 60.0, 69.0, 49.0, 63.0, 55.0, 40.0, 60.667, 40.0, 80.0, 64.0, 50.0, 73.0, 45.0, 65.0, 50.0, 60.0, 63.0, 45.0, 70.0, 60.0, 78.0, 50.0, 40.0, 85.0, 60.0, 49.0, 70.0, 50.0, 78.0, 65.0, 73.0, 70.0, 68.0, 55.0, 65.0, 42.0, 47.0, 58.0, 75.0, 58.0, 55.0, 65.0, 72.0, 70.0, 40.0, 53.0, 53.0, 77.0, 75.0, 70.0, 65.0, 55.0, 70.0, 65.0, 40.0, 73.0, 54.0, 61.0, 64.0, 40.0, 53.0, 50.0, 55.0, 50.0, 70.0, 53.0, 52.0, 65.0, 58.0, 45.0, 53.0, 55.0, 62.0, 68.0, 61.0, 50.0, 56.0, 45.0, 40.0, 44.0, 51.0, 67.0, 42.0, 60.0, 45.0, 70.0, 70.0, 50.0, 55.0, 70.0, 70.0, 42.0, 65.0, 50.0, 55.0, 60.0, 45.0, 65.0, 90.0, 45.0, 60.0, 52.0, 63.0, 62.0, 55.0, 45.0, 45.0, 50.0], \"xaxis\": \"x\", \"y\": [\"Survived\", \"Survived\", \"Survived\", \"Survived\", \"Survived\", \"Survived\", \"Survived\", \"Survived\", \"Survived\", \"Survived\", \"Survived\", \"Survived\", \"Survived\", \"Survived\", \"Survived\", \"Survived\", \"Survived\", \"Survived\", \"Survived\", \"Survived\", \"Survived\", \"Survived\", \"Survived\", \"Survived\", \"Survived\", \"Survived\", \"Survived\", \"Survived\", \"Survived\", \"Survived\", \"Survived\", \"Survived\", \"Survived\", \"Survived\", \"Survived\", \"Survived\", \"Survived\", \"Survived\", \"Survived\", \"Survived\", \"Survived\", \"Survived\", \"Survived\", \"Survived\", \"Survived\", \"Survived\", \"Survived\", \"Survived\", \"Survived\", \"Survived\", \"Survived\", \"Survived\", \"Survived\", \"Survived\", \"Survived\", \"Survived\", \"Survived\", \"Survived\", \"Survived\", \"Survived\", \"Survived\", \"Survived\", \"Survived\", \"Survived\", \"Survived\", \"Survived\", \"Survived\", \"Survived\", \"Survived\", \"Survived\", \"Survived\", \"Survived\", \"Survived\", \"Survived\", \"Survived\", \"Survived\", \"Survived\", \"Survived\", \"Survived\", \"Survived\", \"Survived\", \"Survived\", \"Survived\", \"Survived\", \"Survived\", \"Survived\", \"Survived\", \"Survived\", \"Survived\", \"Survived\", \"Survived\", \"Survived\", \"Survived\", \"Survived\", \"Survived\", \"Survived\", \"Survived\", \"Survived\", \"Survived\", \"Survived\", \"Survived\", \"Survived\", \"Survived\", \"Survived\", \"Survived\", \"Survived\", \"Survived\", \"Survived\", \"Survived\", \"Survived\", \"Survived\", \"Survived\", \"Survived\", \"Survived\", \"Survived\", \"Survived\", \"Survived\", \"Survived\", \"Survived\", \"Survived\", \"Survived\", \"Survived\", \"Survived\", \"Survived\", \"Survived\", \"Survived\", \"Survived\", \"Survived\", \"Survived\", \"Survived\", \"Survived\", \"Survived\", \"Survived\", \"Survived\", \"Survived\", \"Survived\", \"Survived\", \"Survived\", \"Survived\", \"Survived\", \"Survived\", \"Survived\", \"Survived\", \"Survived\", \"Survived\", \"Survived\", \"Survived\", \"Survived\", \"Survived\", \"Survived\", \"Survived\", \"Survived\", \"Survived\", \"Survived\", \"Survived\", \"Survived\", \"Survived\", \"Survived\", \"Survived\", \"Survived\", \"Survived\", \"Survived\", \"Survived\", \"Survived\", \"Survived\", \"Survived\", \"Survived\", \"Survived\", \"Survived\", \"Survived\", \"Survived\", \"Survived\", \"Survived\", \"Survived\", \"Survived\", \"Survived\", \"Survived\", \"Survived\", \"Survived\", \"Survived\", \"Survived\", \"Survived\", \"Survived\", \"Survived\", \"Survived\", \"Survived\", \"Survived\", \"Survived\", \"Survived\", \"Survived\", \"Survived\", \"Survived\", \"Survived\", \"Survived\", \"Survived\", \"Survived\", \"Survived\", \"Survived\", \"Survived\", \"Survived\", \"Survived\", \"Survived\", \"Survived\"], \"yaxis\": \"y2\"}, {\"legendgroup\": \"Not Survived\", \"marker\": {\"color\": \"rgb(255, 127, 14)\", \"symbol\": \"line-ns-open\"}, \"mode\": \"markers\", \"name\": \"Not Survived\", \"showlegend\": false, \"type\": \"scatter\", \"x\": [75.0, 55.0, 65.0, 50.0, 65.0, 90.0, 75.0, 60.0, 65.0, 80.0, 75.0, 62.0, 45.0, 50.0, 82.0, 87.0, 45.0, 70.0, 48.0, 65.0, 68.0, 75.0, 80.0, 95.0, 70.0, 58.0, 82.0, 94.0, 85.0, 50.0, 65.0, 69.0, 90.0, 82.0, 60.0, 70.0, 50.0, 70.0, 60.0, 50.0, 51.0, 60.0, 80.0, 57.0, 68.0, 53.0, 60.0, 70.0, 60.0, 95.0, 49.0, 72.0, 45.0, 50.0, 45.0, 60.0, 42.0, 72.0, 70.0, 65.0, 85.0, 69.0, 60.0, 60.0, 59.0, 60.0, 72.0, 85.0, 70.0, 86.0, 60.0, 46.0, 80.0, 72.0, 75.0, 72.0, 50.0, 45.0, 80.0, 59.0, 59.0, 65.0, 75.0, 58.0, 60.667, 50.0, 60.0, 45.0, 77.0, 48.0, 54.0, 73.0, 60.0, 55.0, 65.0, 55.0], \"xaxis\": \"x\", \"y\": [\"Not Survived\", \"Not Survived\", \"Not Survived\", \"Not Survived\", \"Not Survived\", \"Not Survived\", \"Not Survived\", \"Not Survived\", \"Not Survived\", \"Not Survived\", \"Not Survived\", \"Not Survived\", \"Not Survived\", \"Not Survived\", \"Not Survived\", \"Not Survived\", \"Not Survived\", \"Not Survived\", \"Not Survived\", \"Not Survived\", \"Not Survived\", \"Not Survived\", \"Not Survived\", \"Not Survived\", \"Not Survived\", \"Not Survived\", \"Not Survived\", \"Not Survived\", \"Not Survived\", \"Not Survived\", \"Not Survived\", \"Not Survived\", \"Not Survived\", \"Not Survived\", \"Not Survived\", \"Not Survived\", \"Not Survived\", \"Not Survived\", \"Not Survived\", \"Not Survived\", \"Not Survived\", \"Not Survived\", \"Not Survived\", \"Not Survived\", \"Not Survived\", \"Not Survived\", \"Not Survived\", \"Not Survived\", \"Not Survived\", \"Not Survived\", \"Not Survived\", \"Not Survived\", \"Not Survived\", \"Not Survived\", \"Not Survived\", \"Not Survived\", \"Not Survived\", \"Not Survived\", \"Not Survived\", \"Not Survived\", \"Not Survived\", \"Not Survived\", \"Not Survived\", \"Not Survived\", \"Not Survived\", \"Not Survived\", \"Not Survived\", \"Not Survived\", \"Not Survived\", \"Not Survived\", \"Not Survived\", \"Not Survived\", \"Not Survived\", \"Not Survived\", \"Not Survived\", \"Not Survived\", \"Not Survived\", \"Not Survived\", \"Not Survived\", \"Not Survived\", \"Not Survived\", \"Not Survived\", \"Not Survived\", \"Not Survived\", \"Not Survived\", \"Not Survived\", \"Not Survived\", \"Not Survived\", \"Not Survived\", \"Not Survived\", \"Not Survived\", \"Not Survived\", \"Not Survived\", \"Not Survived\", \"Not Survived\", \"Not Survived\"], \"yaxis\": \"y2\"}],\n",
              "                        {\"barmode\": \"overlay\", \"hovermode\": \"closest\", \"legend\": {\"traceorder\": \"reversed\"}, \"template\": {\"data\": {\"bar\": [{\"error_x\": {\"color\": \"#2a3f5f\"}, \"error_y\": {\"color\": \"#2a3f5f\"}, \"marker\": {\"line\": {\"color\": \"#E5ECF6\", \"width\": 0.5}}, \"type\": \"bar\"}], \"barpolar\": [{\"marker\": {\"line\": {\"color\": \"#E5ECF6\", \"width\": 0.5}}, \"type\": \"barpolar\"}], \"carpet\": [{\"aaxis\": {\"endlinecolor\": \"#2a3f5f\", \"gridcolor\": \"white\", \"linecolor\": \"white\", \"minorgridcolor\": \"white\", \"startlinecolor\": \"#2a3f5f\"}, \"baxis\": {\"endlinecolor\": \"#2a3f5f\", \"gridcolor\": \"white\", \"linecolor\": \"white\", \"minorgridcolor\": \"white\", \"startlinecolor\": \"#2a3f5f\"}, \"type\": \"carpet\"}], \"choropleth\": [{\"colorbar\": {\"outlinewidth\": 0, \"ticks\": \"\"}, \"type\": \"choropleth\"}], \"contour\": [{\"colorbar\": {\"outlinewidth\": 0, \"ticks\": \"\"}, \"colorscale\": [[0.0, \"#0d0887\"], [0.1111111111111111, \"#46039f\"], [0.2222222222222222, \"#7201a8\"], [0.3333333333333333, \"#9c179e\"], [0.4444444444444444, \"#bd3786\"], [0.5555555555555556, \"#d8576b\"], [0.6666666666666666, \"#ed7953\"], [0.7777777777777778, \"#fb9f3a\"], [0.8888888888888888, \"#fdca26\"], [1.0, \"#f0f921\"]], \"type\": \"contour\"}], \"contourcarpet\": [{\"colorbar\": {\"outlinewidth\": 0, \"ticks\": \"\"}, \"type\": \"contourcarpet\"}], \"heatmap\": [{\"colorbar\": {\"outlinewidth\": 0, \"ticks\": \"\"}, \"colorscale\": [[0.0, \"#0d0887\"], [0.1111111111111111, \"#46039f\"], [0.2222222222222222, \"#7201a8\"], [0.3333333333333333, \"#9c179e\"], [0.4444444444444444, \"#bd3786\"], [0.5555555555555556, \"#d8576b\"], [0.6666666666666666, \"#ed7953\"], [0.7777777777777778, \"#fb9f3a\"], [0.8888888888888888, \"#fdca26\"], [1.0, \"#f0f921\"]], \"type\": \"heatmap\"}], \"heatmapgl\": [{\"colorbar\": {\"outlinewidth\": 0, \"ticks\": \"\"}, \"colorscale\": [[0.0, \"#0d0887\"], [0.1111111111111111, \"#46039f\"], [0.2222222222222222, \"#7201a8\"], [0.3333333333333333, \"#9c179e\"], [0.4444444444444444, \"#bd3786\"], [0.5555555555555556, \"#d8576b\"], [0.6666666666666666, \"#ed7953\"], [0.7777777777777778, \"#fb9f3a\"], [0.8888888888888888, \"#fdca26\"], [1.0, \"#f0f921\"]], \"type\": \"heatmapgl\"}], \"histogram\": [{\"marker\": {\"colorbar\": {\"outlinewidth\": 0, \"ticks\": \"\"}}, \"type\": \"histogram\"}], \"histogram2d\": [{\"colorbar\": {\"outlinewidth\": 0, \"ticks\": \"\"}, \"colorscale\": [[0.0, \"#0d0887\"], [0.1111111111111111, \"#46039f\"], [0.2222222222222222, \"#7201a8\"], [0.3333333333333333, \"#9c179e\"], [0.4444444444444444, \"#bd3786\"], [0.5555555555555556, \"#d8576b\"], [0.6666666666666666, \"#ed7953\"], [0.7777777777777778, \"#fb9f3a\"], [0.8888888888888888, \"#fdca26\"], [1.0, \"#f0f921\"]], \"type\": \"histogram2d\"}], \"histogram2dcontour\": [{\"colorbar\": {\"outlinewidth\": 0, \"ticks\": \"\"}, \"colorscale\": [[0.0, \"#0d0887\"], [0.1111111111111111, \"#46039f\"], [0.2222222222222222, \"#7201a8\"], [0.3333333333333333, \"#9c179e\"], [0.4444444444444444, \"#bd3786\"], [0.5555555555555556, \"#d8576b\"], [0.6666666666666666, \"#ed7953\"], [0.7777777777777778, \"#fb9f3a\"], [0.8888888888888888, \"#fdca26\"], [1.0, \"#f0f921\"]], \"type\": \"histogram2dcontour\"}], \"mesh3d\": [{\"colorbar\": {\"outlinewidth\": 0, \"ticks\": \"\"}, \"type\": \"mesh3d\"}], \"parcoords\": [{\"line\": {\"colorbar\": {\"outlinewidth\": 0, \"ticks\": \"\"}}, \"type\": \"parcoords\"}], \"pie\": [{\"automargin\": true, \"type\": \"pie\"}], \"scatter\": [{\"marker\": {\"colorbar\": {\"outlinewidth\": 0, \"ticks\": \"\"}}, \"type\": \"scatter\"}], \"scatter3d\": [{\"line\": {\"colorbar\": {\"outlinewidth\": 0, \"ticks\": \"\"}}, \"marker\": {\"colorbar\": {\"outlinewidth\": 0, \"ticks\": \"\"}}, \"type\": \"scatter3d\"}], \"scattercarpet\": [{\"marker\": {\"colorbar\": {\"outlinewidth\": 0, \"ticks\": \"\"}}, \"type\": \"scattercarpet\"}], \"scattergeo\": [{\"marker\": {\"colorbar\": {\"outlinewidth\": 0, \"ticks\": \"\"}}, \"type\": \"scattergeo\"}], \"scattergl\": [{\"marker\": {\"colorbar\": {\"outlinewidth\": 0, \"ticks\": \"\"}}, \"type\": \"scattergl\"}], \"scattermapbox\": [{\"marker\": {\"colorbar\": {\"outlinewidth\": 0, \"ticks\": \"\"}}, \"type\": \"scattermapbox\"}], \"scatterpolar\": [{\"marker\": {\"colorbar\": {\"outlinewidth\": 0, \"ticks\": \"\"}}, \"type\": \"scatterpolar\"}], \"scatterpolargl\": [{\"marker\": {\"colorbar\": {\"outlinewidth\": 0, \"ticks\": \"\"}}, \"type\": \"scatterpolargl\"}], \"scatterternary\": [{\"marker\": {\"colorbar\": {\"outlinewidth\": 0, \"ticks\": \"\"}}, \"type\": \"scatterternary\"}], \"surface\": [{\"colorbar\": {\"outlinewidth\": 0, \"ticks\": \"\"}, \"colorscale\": [[0.0, \"#0d0887\"], [0.1111111111111111, \"#46039f\"], [0.2222222222222222, \"#7201a8\"], [0.3333333333333333, \"#9c179e\"], [0.4444444444444444, \"#bd3786\"], [0.5555555555555556, \"#d8576b\"], [0.6666666666666666, \"#ed7953\"], [0.7777777777777778, \"#fb9f3a\"], [0.8888888888888888, \"#fdca26\"], [1.0, \"#f0f921\"]], \"type\": \"surface\"}], \"table\": [{\"cells\": {\"fill\": {\"color\": \"#EBF0F8\"}, \"line\": {\"color\": \"white\"}}, \"header\": {\"fill\": {\"color\": \"#C8D4E3\"}, \"line\": {\"color\": \"white\"}}, \"type\": \"table\"}]}, \"layout\": {\"annotationdefaults\": {\"arrowcolor\": \"#2a3f5f\", \"arrowhead\": 0, \"arrowwidth\": 1}, \"coloraxis\": {\"colorbar\": {\"outlinewidth\": 0, \"ticks\": \"\"}}, \"colorscale\": {\"diverging\": [[0, \"#8e0152\"], [0.1, \"#c51b7d\"], [0.2, \"#de77ae\"], [0.3, \"#f1b6da\"], [0.4, \"#fde0ef\"], [0.5, \"#f7f7f7\"], [0.6, \"#e6f5d0\"], [0.7, \"#b8e186\"], [0.8, \"#7fbc41\"], [0.9, \"#4d9221\"], [1, \"#276419\"]], \"sequential\": [[0.0, \"#0d0887\"], [0.1111111111111111, \"#46039f\"], [0.2222222222222222, \"#7201a8\"], [0.3333333333333333, \"#9c179e\"], [0.4444444444444444, \"#bd3786\"], [0.5555555555555556, \"#d8576b\"], [0.6666666666666666, \"#ed7953\"], [0.7777777777777778, \"#fb9f3a\"], [0.8888888888888888, \"#fdca26\"], [1.0, \"#f0f921\"]], \"sequentialminus\": [[0.0, \"#0d0887\"], [0.1111111111111111, \"#46039f\"], [0.2222222222222222, \"#7201a8\"], [0.3333333333333333, \"#9c179e\"], [0.4444444444444444, \"#bd3786\"], [0.5555555555555556, \"#d8576b\"], [0.6666666666666666, \"#ed7953\"], [0.7777777777777778, \"#fb9f3a\"], [0.8888888888888888, \"#fdca26\"], [1.0, \"#f0f921\"]]}, \"colorway\": [\"#636efa\", \"#EF553B\", \"#00cc96\", \"#ab63fa\", \"#FFA15A\", \"#19d3f3\", \"#FF6692\", \"#B6E880\", \"#FF97FF\", \"#FECB52\"], \"font\": {\"color\": \"#2a3f5f\"}, \"geo\": {\"bgcolor\": \"white\", \"lakecolor\": \"white\", \"landcolor\": \"#E5ECF6\", \"showlakes\": true, \"showland\": true, \"subunitcolor\": \"white\"}, \"hoverlabel\": {\"align\": \"left\"}, \"hovermode\": \"closest\", \"mapbox\": {\"style\": \"light\"}, \"paper_bgcolor\": \"white\", \"plot_bgcolor\": \"#E5ECF6\", \"polar\": {\"angularaxis\": {\"gridcolor\": \"white\", \"linecolor\": \"white\", \"ticks\": \"\"}, \"bgcolor\": \"#E5ECF6\", \"radialaxis\": {\"gridcolor\": \"white\", \"linecolor\": \"white\", \"ticks\": \"\"}}, \"scene\": {\"xaxis\": {\"backgroundcolor\": \"#E5ECF6\", \"gridcolor\": \"white\", \"gridwidth\": 2, \"linecolor\": \"white\", \"showbackground\": true, \"ticks\": \"\", \"zerolinecolor\": \"white\"}, \"yaxis\": {\"backgroundcolor\": \"#E5ECF6\", \"gridcolor\": \"white\", \"gridwidth\": 2, \"linecolor\": \"white\", \"showbackground\": true, \"ticks\": \"\", \"zerolinecolor\": \"white\"}, \"zaxis\": {\"backgroundcolor\": \"#E5ECF6\", \"gridcolor\": \"white\", \"gridwidth\": 2, \"linecolor\": \"white\", \"showbackground\": true, \"ticks\": \"\", \"zerolinecolor\": \"white\"}}, \"shapedefaults\": {\"line\": {\"color\": \"#2a3f5f\"}}, \"ternary\": {\"aaxis\": {\"gridcolor\": \"white\", \"linecolor\": \"white\", \"ticks\": \"\"}, \"baxis\": {\"gridcolor\": \"white\", \"linecolor\": \"white\", \"ticks\": \"\"}, \"bgcolor\": \"#E5ECF6\", \"caxis\": {\"gridcolor\": \"white\", \"linecolor\": \"white\", \"ticks\": \"\"}}, \"title\": {\"x\": 0.05}, \"xaxis\": {\"automargin\": true, \"gridcolor\": \"white\", \"linecolor\": \"white\", \"ticks\": \"\", \"title\": {\"standoff\": 15}, \"zerolinecolor\": \"white\", \"zerolinewidth\": 2}, \"yaxis\": {\"automargin\": true, \"gridcolor\": \"white\", \"linecolor\": \"white\", \"ticks\": \"\", \"title\": {\"standoff\": 15}, \"zerolinecolor\": \"white\", \"zerolinewidth\": 2}}}, \"title\": {\"text\": \"An\\u00e1lisis en edad sobre estado de supervivencia\"}, \"xaxis\": {\"anchor\": \"y2\", \"domain\": [0.0, 1.0], \"zeroline\": false}, \"yaxis\": {\"anchor\": \"free\", \"domain\": [0.35, 1], \"position\": 0.0}, \"yaxis2\": {\"anchor\": \"x\", \"domain\": [0, 0.25], \"dtick\": 1, \"showticklabels\": false}},\n",
              "                        {\"responsive\": true}\n",
              "                    ).then(function(){\n",
              "                            \n",
              "var gd = document.getElementById('4d512f7e-d61c-489e-b5b6-bcfbfae1a095');\n",
              "var x = new MutationObserver(function (mutations, observer) {{\n",
              "        var display = window.getComputedStyle(gd).display;\n",
              "        if (!display || display === 'none') {{\n",
              "            console.log([gd, 'removed!']);\n",
              "            Plotly.purge(gd);\n",
              "            observer.disconnect();\n",
              "        }}\n",
              "}});\n",
              "\n",
              "// Listen for the removal of the full notebook cells\n",
              "var notebookContainer = gd.closest('#notebook-container');\n",
              "if (notebookContainer) {{\n",
              "    x.observe(notebookContainer, {childList: true});\n",
              "}}\n",
              "\n",
              "// Listen for the clearing of the current output cell\n",
              "var outputEl = gd.closest('.output');\n",
              "if (outputEl) {{\n",
              "    x.observe(outputEl, {childList: true});\n",
              "}}\n",
              "\n",
              "                        })\n",
              "                };\n",
              "                \n",
              "            </script>\n",
              "        </div>\n",
              "</body>\n",
              "</html>"
            ]
          },
          "metadata": {
            "tags": []
          }
        },
        {
          "output_type": "display_data",
          "data": {
            "text/plain": [
              "<Figure size 432x288 with 0 Axes>"
            ]
          },
          "metadata": {
            "tags": []
          }
        }
      ]
    },
    {
      "cell_type": "markdown",
      "metadata": {
        "id": "v37wz3HPjJas"
      },
      "source": [
        "* La supervivencia es alta de 45 a 75\n",
        "* La propagación de la no supervivencia está pasando por todas las edades."
      ]
    },
    {
      "cell_type": "markdown",
      "metadata": {
        "id": "c8RN_3bg10Cs"
      },
      "source": [
        "#### Edad vs mortandad"
      ]
    },
    {
      "cell_type": "code",
      "metadata": {
        "id": "cdpPwaBWZ4Se",
        "outputId": "c0917f6d-4c4e-4b22-bfd6-16638832912a",
        "colab": {
          "base_uri": "https://localhost:8080/",
          "height": 559
        }
      },
      "source": [
        "fig = px.violin(Xdata, y=\"age\", x=\"DEATH_EVENT\", color=\"DEATH_EVENT\", box=True, points=\"all\", hover_data=Xdata.columns)\n",
        "fig.update_layout(title_text=\"Análisis en edad y género sobre el estado de supervivencia\")\n",
        "plt.savefig('results/Analysis_of_sex_and_DEATH_EVENT.pdf', format='pdf', dpi=300)\n",
        "fig.show()"
      ],
      "execution_count": null,
      "outputs": [
        {
          "output_type": "display_data",
          "data": {
            "text/html": [
              "<html>\n",
              "<head><meta charset=\"utf-8\" /></head>\n",
              "<body>\n",
              "    <div>\n",
              "            <script src=\"https://cdnjs.cloudflare.com/ajax/libs/mathjax/2.7.5/MathJax.js?config=TeX-AMS-MML_SVG\"></script><script type=\"text/javascript\">if (window.MathJax) {MathJax.Hub.Config({SVG: {font: \"STIX-Web\"}});}</script>\n",
              "                <script type=\"text/javascript\">window.PlotlyConfig = {MathJaxConfig: 'local'};</script>\n",
              "        <script src=\"https://cdn.plot.ly/plotly-latest.min.js\"></script>    \n",
              "            <div id=\"9b5e172f-0f8d-4936-a501-6499368b2a44\" class=\"plotly-graph-div\" style=\"height:525px; width:100%;\"></div>\n",
              "            <script type=\"text/javascript\">\n",
              "                \n",
              "                    window.PLOTLYENV=window.PLOTLYENV || {};\n",
              "                    \n",
              "                if (document.getElementById(\"9b5e172f-0f8d-4936-a501-6499368b2a44\")) {\n",
              "                    Plotly.newPlot(\n",
              "                        '9b5e172f-0f8d-4936-a501-6499368b2a44',\n",
              "                        [{\"alignmentgroup\": \"True\", \"box\": {\"visible\": true}, \"customdata\": [[75.0, 0.0, 582.0, 0.0, 20.0, 1.0, 265000.0, 1.9, 130.0, 1.0, 0.0, 1.0], [55.0, 0.0, 7861.0, 0.0, 38.0, 0.0, 263358.03, 1.1, 136.0, 1.0, 0.0, 1.0], [65.0, 0.0, 146.0, 0.0, 20.0, 0.0, 162000.0, 1.3, 129.0, 1.0, 1.0, 1.0], [50.0, 1.0, 111.0, 0.0, 20.0, 0.0, 210000.0, 1.9, 137.0, 1.0, 0.0, 1.0], [65.0, 1.0, 160.0, 1.0, 20.0, 0.0, 327000.0, 2.7, 116.0, 0.0, 0.0, 1.0], [90.0, 1.0, 47.0, 0.0, 40.0, 1.0, 204000.0, 2.1, 132.0, 1.0, 1.0, 1.0], [75.0, 1.0, 246.0, 0.0, 15.0, 0.0, 127000.0, 1.2, 137.0, 1.0, 0.0, 1.0], [60.0, 1.0, 315.0, 1.0, 60.0, 0.0, 454000.0, 1.1, 131.0, 1.0, 1.0, 1.0], [65.0, 0.0, 157.0, 0.0, 65.0, 0.0, 263358.03, 1.5, 138.0, 0.0, 0.0, 1.0], [80.0, 1.0, 123.0, 0.0, 35.0, 1.0, 388000.0, 9.4, 133.0, 1.0, 1.0, 1.0], [75.0, 1.0, 81.0, 0.0, 38.0, 1.0, 368000.0, 4.0, 131.0, 1.0, 1.0, 1.0], [62.0, 0.0, 231.0, 0.0, 25.0, 1.0, 253000.0, 0.9, 140.0, 1.0, 1.0, 1.0], [45.0, 1.0, 981.0, 0.0, 30.0, 0.0, 136000.0, 1.1, 137.0, 1.0, 0.0, 1.0], [50.0, 1.0, 168.0, 0.0, 38.0, 1.0, 276000.0, 1.1, 137.0, 1.0, 0.0, 1.0], [82.0, 1.0, 379.0, 0.0, 50.0, 0.0, 47000.0, 1.3, 136.0, 1.0, 0.0, 1.0], [87.0, 1.0, 149.0, 0.0, 38.0, 0.0, 262000.0, 0.9, 140.0, 1.0, 0.0, 1.0], [45.0, 0.0, 582.0, 0.0, 14.0, 0.0, 166000.0, 0.8, 127.0, 1.0, 0.0, 1.0], [70.0, 1.0, 125.0, 0.0, 25.0, 1.0, 237000.0, 1.0, 140.0, 0.0, 0.0, 1.0], [48.0, 1.0, 582.0, 1.0, 55.0, 0.0, 87000.0, 1.9, 121.0, 0.0, 0.0, 1.0], [65.0, 1.0, 128.0, 1.0, 30.0, 1.0, 297000.0, 1.6, 136.0, 0.0, 0.0, 1.0], [68.0, 1.0, 220.0, 0.0, 35.0, 1.0, 289000.0, 0.9, 140.0, 1.0, 1.0, 1.0], [75.0, 0.0, 582.0, 1.0, 30.0, 1.0, 263358.03, 1.83, 134.0, 0.0, 0.0, 1.0], [80.0, 0.0, 148.0, 1.0, 38.0, 0.0, 149000.0, 1.9, 144.0, 1.0, 1.0, 1.0], [95.0, 1.0, 112.0, 0.0, 40.0, 1.0, 196000.0, 1.0, 138.0, 0.0, 0.0, 1.0], [70.0, 0.0, 122.0, 1.0, 45.0, 1.0, 284000.0, 1.3, 136.0, 1.0, 1.0, 1.0], [58.0, 1.0, 60.0, 0.0, 38.0, 0.0, 153000.0, 5.8, 134.0, 1.0, 0.0, 1.0], [82.0, 0.0, 70.0, 1.0, 30.0, 0.0, 200000.0, 1.2, 132.0, 1.0, 1.0, 1.0], [94.0, 0.0, 582.0, 1.0, 38.0, 1.0, 263358.03, 1.83, 134.0, 1.0, 0.0, 1.0], [85.0, 0.0, 23.0, 0.0, 45.0, 0.0, 360000.0, 3.0, 132.0, 1.0, 0.0, 1.0], [50.0, 1.0, 249.0, 1.0, 35.0, 1.0, 319000.0, 1.0, 128.0, 0.0, 0.0, 1.0], [65.0, 0.0, 94.0, 1.0, 50.0, 1.0, 188000.0, 1.0, 140.0, 1.0, 0.0, 1.0], [69.0, 0.0, 582.0, 1.0, 35.0, 0.0, 228000.0, 3.5, 134.0, 1.0, 0.0, 1.0], [90.0, 1.0, 60.0, 1.0, 50.0, 0.0, 226000.0, 1.0, 134.0, 1.0, 0.0, 1.0], [82.0, 1.0, 855.0, 1.0, 50.0, 1.0, 321000.0, 1.0, 145.0, 0.0, 0.0, 1.0], [60.0, 0.0, 235.0, 1.0, 38.0, 0.0, 329000.0, 3.0, 142.0, 0.0, 0.0, 1.0], [70.0, 0.0, 582.0, 0.0, 20.0, 1.0, 263358.03, 1.83, 134.0, 1.0, 1.0, 1.0], [50.0, 0.0, 124.0, 1.0, 30.0, 1.0, 153000.0, 1.2, 136.0, 0.0, 1.0, 1.0], [70.0, 0.0, 571.0, 1.0, 45.0, 1.0, 185000.0, 1.2, 139.0, 1.0, 1.0, 1.0], [60.0, 1.0, 588.0, 1.0, 60.0, 0.0, 194000.0, 1.1, 142.0, 0.0, 0.0, 1.0], [50.0, 0.0, 582.0, 1.0, 38.0, 0.0, 310000.0, 1.9, 135.0, 1.0, 1.0, 1.0], [51.0, 0.0, 1380.0, 0.0, 25.0, 1.0, 271000.0, 0.9, 130.0, 1.0, 0.0, 1.0], [60.0, 0.0, 582.0, 1.0, 38.0, 1.0, 451000.0, 0.6, 138.0, 1.0, 1.0, 1.0], [80.0, 1.0, 553.0, 0.0, 20.0, 1.0, 140000.0, 4.4, 133.0, 1.0, 0.0, 1.0], [57.0, 1.0, 129.0, 0.0, 30.0, 0.0, 395000.0, 1.0, 140.0, 0.0, 0.0, 1.0], [68.0, 1.0, 577.0, 0.0, 25.0, 1.0, 166000.0, 1.0, 138.0, 1.0, 0.0, 1.0], [53.0, 1.0, 91.0, 0.0, 20.0, 1.0, 418000.0, 1.4, 139.0, 0.0, 0.0, 1.0], [60.0, 0.0, 3964.0, 1.0, 62.0, 0.0, 263358.03, 6.8, 146.0, 0.0, 0.0, 1.0], [70.0, 1.0, 69.0, 1.0, 50.0, 1.0, 351000.0, 1.0, 134.0, 0.0, 0.0, 1.0], [60.0, 1.0, 260.0, 1.0, 38.0, 0.0, 255000.0, 2.2, 132.0, 0.0, 1.0, 1.0], [95.0, 1.0, 371.0, 0.0, 30.0, 0.0, 461000.0, 2.0, 132.0, 1.0, 0.0, 1.0], [49.0, 0.0, 789.0, 0.0, 20.0, 1.0, 319000.0, 1.1, 136.0, 1.0, 1.0, 1.0], [72.0, 0.0, 364.0, 1.0, 20.0, 1.0, 254000.0, 1.3, 136.0, 1.0, 1.0, 1.0], [45.0, 0.0, 7702.0, 1.0, 25.0, 1.0, 390000.0, 1.0, 139.0, 1.0, 0.0, 1.0], [50.0, 0.0, 318.0, 0.0, 40.0, 1.0, 216000.0, 2.3, 131.0, 0.0, 0.0, 1.0], [45.0, 0.0, 582.0, 0.0, 35.0, 0.0, 385000.0, 1.0, 145.0, 1.0, 0.0, 1.0], [60.0, 0.0, 68.0, 0.0, 20.0, 0.0, 119000.0, 2.9, 127.0, 1.0, 1.0, 1.0], [42.0, 1.0, 250.0, 1.0, 15.0, 0.0, 213000.0, 1.3, 136.0, 0.0, 0.0, 1.0], [72.0, 1.0, 110.0, 0.0, 25.0, 0.0, 274000.0, 1.0, 140.0, 1.0, 1.0, 1.0], [70.0, 0.0, 161.0, 0.0, 25.0, 0.0, 244000.0, 1.2, 142.0, 0.0, 0.0, 1.0], [65.0, 0.0, 113.0, 1.0, 25.0, 0.0, 497000.0, 1.83, 135.0, 1.0, 0.0, 1.0], [85.0, 0.0, 5882.0, 0.0, 35.0, 0.0, 243000.0, 1.0, 132.0, 1.0, 1.0, 1.0], [69.0, 0.0, 582.0, 0.0, 20.0, 0.0, 266000.0, 1.2, 134.0, 1.0, 1.0, 1.0], [60.0, 1.0, 47.0, 0.0, 20.0, 0.0, 204000.0, 0.7, 139.0, 1.0, 1.0, 1.0], [60.0, 1.0, 76.0, 1.0, 25.0, 0.0, 196000.0, 2.5, 132.0, 0.0, 0.0, 1.0], [59.0, 1.0, 280.0, 1.0, 25.0, 1.0, 302000.0, 1.0, 141.0, 0.0, 0.0, 1.0], [60.0, 1.0, 154.0, 0.0, 25.0, 0.0, 210000.0, 1.7, 135.0, 1.0, 0.0, 1.0], [72.0, 1.0, 328.0, 0.0, 30.0, 1.0, 621000.0, 1.7, 138.0, 0.0, 1.0, 1.0], [85.0, 0.0, 129.0, 0.0, 60.0, 0.0, 306000.0, 1.2, 132.0, 1.0, 1.0, 1.0], [70.0, 1.0, 143.0, 0.0, 60.0, 0.0, 351000.0, 1.3, 137.0, 0.0, 0.0, 1.0], [86.0, 0.0, 582.0, 0.0, 38.0, 0.0, 263358.03, 1.83, 134.0, 0.0, 0.0, 1.0], [60.0, 0.0, 582.0, 0.0, 40.0, 0.0, 217000.0, 3.7, 134.0, 1.0, 0.0, 1.0], [46.0, 0.0, 168.0, 1.0, 17.0, 1.0, 271000.0, 2.1, 124.0, 0.0, 0.0, 1.0], [80.0, 0.0, 805.0, 0.0, 38.0, 0.0, 263358.03, 1.1, 134.0, 1.0, 0.0, 1.0], [72.0, 1.0, 943.0, 0.0, 25.0, 1.0, 338000.0, 1.7, 139.0, 1.0, 1.0, 1.0], [75.0, 1.0, 582.0, 0.0, 30.0, 0.0, 225000.0, 1.83, 134.0, 1.0, 0.0, 1.0], [72.0, 0.0, 233.0, 0.0, 45.0, 1.0, 235000.0, 2.5, 135.0, 0.0, 0.0, 1.0], [50.0, 1.0, 2334.0, 1.0, 35.0, 0.0, 75000.0, 0.9, 142.0, 0.0, 0.0, 1.0], [45.0, 0.0, 2442.0, 1.0, 30.0, 0.0, 334000.0, 1.1, 139.0, 1.0, 0.0, 1.0], [80.0, 0.0, 776.0, 1.0, 38.0, 1.0, 192000.0, 1.3, 135.0, 0.0, 0.0, 1.0], [59.0, 0.0, 66.0, 1.0, 20.0, 0.0, 70000.0, 2.4, 134.0, 1.0, 0.0, 1.0], [59.0, 1.0, 176.0, 1.0, 25.0, 0.0, 221000.0, 1.0, 136.0, 1.0, 1.0, 1.0], [65.0, 0.0, 395.0, 1.0, 25.0, 0.0, 265000.0, 1.2, 136.0, 1.0, 1.0, 1.0], [75.0, 0.0, 99.0, 0.0, 38.0, 1.0, 224000.0, 2.5, 134.0, 1.0, 0.0, 1.0], [58.0, 1.0, 145.0, 0.0, 25.0, 0.0, 219000.0, 1.2, 137.0, 1.0, 1.0, 1.0], [60.667, 1.0, 104.0, 1.0, 30.0, 0.0, 389000.0, 1.5, 136.0, 1.0, 0.0, 1.0], [50.0, 0.0, 582.0, 0.0, 50.0, 0.0, 153000.0, 0.6, 134.0, 0.0, 0.0, 1.0], [60.0, 0.0, 1896.0, 1.0, 25.0, 0.0, 365000.0, 2.1, 144.0, 0.0, 0.0, 1.0], [45.0, 0.0, 582.0, 0.0, 20.0, 1.0, 126000.0, 1.6, 135.0, 1.0, 0.0, 1.0], [77.0, 1.0, 418.0, 0.0, 45.0, 0.0, 223000.0, 1.8, 145.0, 1.0, 0.0, 1.0], [48.0, 1.0, 131.0, 1.0, 30.0, 1.0, 244000.0, 1.6, 130.0, 0.0, 0.0, 1.0], [54.0, 1.0, 427.0, 0.0, 70.0, 1.0, 151000.0, 9.0, 137.0, 0.0, 0.0, 1.0], [73.0, 0.0, 582.0, 0.0, 20.0, 0.0, 263358.03, 1.83, 134.0, 1.0, 0.0, 1.0], [60.0, 0.0, 166.0, 0.0, 30.0, 0.0, 62000.0, 1.7, 127.0, 0.0, 0.0, 1.0], [55.0, 0.0, 2017.0, 0.0, 25.0, 0.0, 314000.0, 1.1, 138.0, 1.0, 0.0, 1.0], [65.0, 1.0, 258.0, 1.0, 25.0, 0.0, 198000.0, 1.4, 129.0, 1.0, 0.0, 1.0], [55.0, 0.0, 1199.0, 0.0, 20.0, 0.0, 263358.03, 1.83, 134.0, 1.0, 1.0, 1.0]], \"hoverlabel\": {\"namelength\": 0}, \"hovertemplate\": \"DEATH_EVENT=%{customdata[11]}<br>age=%{customdata[0]}<br>anaemia=%{customdata[1]}<br>creatinine_phosphokinase=%{customdata[2]}<br>diabetes=%{customdata[3]}<br>ejection_fraction=%{customdata[4]}<br>high_blood_pressure=%{customdata[5]}<br>platelets=%{customdata[6]}<br>serum_creatinine=%{customdata[7]}<br>serum_sodium=%{customdata[8]}<br>sex=%{customdata[9]}<br>smoking=%{customdata[10]}\", \"legendgroup\": \"DEATH_EVENT=1\", \"marker\": {\"color\": \"#636efa\"}, \"name\": \"DEATH_EVENT=1\", \"offsetgroup\": \"DEATH_EVENT=1\", \"orientation\": \"v\", \"points\": \"all\", \"scalegroup\": \"True\", \"showlegend\": true, \"type\": \"violin\", \"x\": [1, 1, 1, 1, 1, 1, 1, 1, 1, 1, 1, 1, 1, 1, 1, 1, 1, 1, 1, 1, 1, 1, 1, 1, 1, 1, 1, 1, 1, 1, 1, 1, 1, 1, 1, 1, 1, 1, 1, 1, 1, 1, 1, 1, 1, 1, 1, 1, 1, 1, 1, 1, 1, 1, 1, 1, 1, 1, 1, 1, 1, 1, 1, 1, 1, 1, 1, 1, 1, 1, 1, 1, 1, 1, 1, 1, 1, 1, 1, 1, 1, 1, 1, 1, 1, 1, 1, 1, 1, 1, 1, 1, 1, 1, 1, 1], \"x0\": \" \", \"xaxis\": \"x\", \"y\": [75.0, 55.0, 65.0, 50.0, 65.0, 90.0, 75.0, 60.0, 65.0, 80.0, 75.0, 62.0, 45.0, 50.0, 82.0, 87.0, 45.0, 70.0, 48.0, 65.0, 68.0, 75.0, 80.0, 95.0, 70.0, 58.0, 82.0, 94.0, 85.0, 50.0, 65.0, 69.0, 90.0, 82.0, 60.0, 70.0, 50.0, 70.0, 60.0, 50.0, 51.0, 60.0, 80.0, 57.0, 68.0, 53.0, 60.0, 70.0, 60.0, 95.0, 49.0, 72.0, 45.0, 50.0, 45.0, 60.0, 42.0, 72.0, 70.0, 65.0, 85.0, 69.0, 60.0, 60.0, 59.0, 60.0, 72.0, 85.0, 70.0, 86.0, 60.0, 46.0, 80.0, 72.0, 75.0, 72.0, 50.0, 45.0, 80.0, 59.0, 59.0, 65.0, 75.0, 58.0, 60.667, 50.0, 60.0, 45.0, 77.0, 48.0, 54.0, 73.0, 60.0, 55.0, 65.0, 55.0], \"y0\": \" \", \"yaxis\": \"y\"}, {\"alignmentgroup\": \"True\", \"box\": {\"visible\": true}, \"customdata\": [[49.0, 1.0, 80.0, 0.0, 30.0, 1.0, 427000.0, 1.0, 138.0, 0.0, 0.0, 0.0], [65.0, 1.0, 52.0, 0.0, 25.0, 1.0, 276000.0, 1.3, 137.0, 0.0, 0.0, 0.0], [53.0, 0.0, 63.0, 1.0, 60.0, 0.0, 368000.0, 0.8, 135.0, 1.0, 0.0, 0.0], [50.0, 1.0, 159.0, 1.0, 30.0, 0.0, 302000.0, 1.2, 138.0, 0.0, 0.0, 0.0], [60.0, 0.0, 2656.0, 1.0, 30.0, 0.0, 305000.0, 2.3, 137.0, 1.0, 0.0, 0.0], [72.0, 0.0, 127.0, 1.0, 50.0, 1.0, 218000.0, 1.0, 134.0, 1.0, 0.0, 0.0], [70.0, 1.0, 75.0, 0.0, 35.0, 0.0, 223000.0, 2.7, 138.0, 1.0, 1.0, 0.0], [60.0, 1.0, 607.0, 0.0, 40.0, 0.0, 216000.0, 0.6, 138.0, 1.0, 1.0, 0.0], [55.0, 0.0, 109.0, 0.0, 35.0, 0.0, 254000.0, 1.1, 139.0, 1.0, 1.0, 0.0], [45.0, 0.0, 582.0, 0.0, 80.0, 0.0, 263358.03, 1.18, 137.0, 0.0, 0.0, 0.0], [41.0, 0.0, 148.0, 0.0, 40.0, 0.0, 374000.0, 0.8, 140.0, 1.0, 1.0, 0.0], [58.0, 0.0, 582.0, 1.0, 35.0, 0.0, 122000.0, 0.9, 139.0, 1.0, 1.0, 0.0], [65.0, 0.0, 224.0, 1.0, 50.0, 0.0, 149000.0, 1.3, 137.0, 1.0, 1.0, 0.0], [70.0, 0.0, 92.0, 0.0, 60.0, 1.0, 317000.0, 0.8, 140.0, 0.0, 1.0, 0.0], [42.0, 0.0, 102.0, 1.0, 40.0, 0.0, 237000.0, 1.2, 140.0, 1.0, 0.0, 0.0], [75.0, 1.0, 203.0, 1.0, 38.0, 1.0, 283000.0, 0.6, 131.0, 1.0, 1.0, 0.0], [55.0, 0.0, 336.0, 0.0, 45.0, 1.0, 324000.0, 0.9, 140.0, 0.0, 0.0, 0.0], [70.0, 0.0, 69.0, 0.0, 40.0, 0.0, 293000.0, 1.7, 136.0, 0.0, 0.0, 0.0], [67.0, 0.0, 582.0, 0.0, 50.0, 0.0, 263358.03, 1.18, 137.0, 1.0, 1.0, 0.0], [79.0, 1.0, 55.0, 0.0, 50.0, 1.0, 172000.0, 1.8, 133.0, 1.0, 0.0, 0.0], [51.0, 0.0, 78.0, 0.0, 50.0, 0.0, 406000.0, 0.7, 140.0, 1.0, 0.0, 0.0], [55.0, 0.0, 47.0, 0.0, 35.0, 1.0, 173000.0, 1.1, 137.0, 1.0, 0.0, 0.0], [65.0, 1.0, 68.0, 1.0, 60.0, 1.0, 304000.0, 0.8, 140.0, 1.0, 0.0, 0.0], [44.0, 0.0, 84.0, 1.0, 40.0, 1.0, 235000.0, 0.7, 139.0, 1.0, 0.0, 0.0], [57.0, 1.0, 115.0, 0.0, 25.0, 1.0, 181000.0, 1.1, 144.0, 1.0, 0.0, 0.0], [70.0, 0.0, 66.0, 1.0, 45.0, 0.0, 249000.0, 0.8, 136.0, 1.0, 1.0, 0.0], [60.0, 0.0, 897.0, 1.0, 45.0, 0.0, 297000.0, 1.0, 133.0, 1.0, 0.0, 0.0], [42.0, 0.0, 582.0, 0.0, 60.0, 0.0, 263358.03, 1.18, 137.0, 0.0, 0.0, 0.0], [58.0, 0.0, 144.0, 1.0, 38.0, 1.0, 327000.0, 0.7, 142.0, 0.0, 0.0, 0.0], [58.0, 1.0, 133.0, 0.0, 60.0, 1.0, 219000.0, 1.0, 141.0, 1.0, 0.0, 0.0], [63.0, 1.0, 514.0, 1.0, 25.0, 1.0, 254000.0, 1.3, 134.0, 1.0, 0.0, 0.0], [70.0, 1.0, 59.0, 0.0, 60.0, 0.0, 255000.0, 1.1, 136.0, 0.0, 0.0, 0.0], [60.0, 1.0, 156.0, 1.0, 25.0, 1.0, 318000.0, 1.2, 137.0, 0.0, 0.0, 0.0], [63.0, 1.0, 61.0, 1.0, 40.0, 0.0, 221000.0, 1.1, 140.0, 0.0, 0.0, 0.0], [65.0, 1.0, 305.0, 0.0, 25.0, 0.0, 298000.0, 1.1, 141.0, 1.0, 0.0, 0.0], [75.0, 0.0, 582.0, 0.0, 45.0, 1.0, 263358.03, 1.18, 137.0, 1.0, 0.0, 0.0], [80.0, 0.0, 898.0, 0.0, 25.0, 0.0, 149000.0, 1.1, 144.0, 1.0, 1.0, 0.0], [42.0, 0.0, 5209.0, 0.0, 30.0, 0.0, 226000.0, 1.0, 140.0, 1.0, 1.0, 0.0], [60.0, 0.0, 53.0, 0.0, 50.0, 1.0, 286000.0, 2.3, 143.0, 0.0, 0.0, 0.0], [55.0, 0.0, 748.0, 0.0, 45.0, 0.0, 263000.0, 1.3, 137.0, 1.0, 0.0, 0.0], [45.0, 1.0, 1876.0, 1.0, 35.0, 0.0, 226000.0, 0.9, 138.0, 1.0, 0.0, 0.0], [63.0, 0.0, 936.0, 0.0, 38.0, 0.0, 304000.0, 1.1, 133.0, 1.0, 1.0, 0.0], [45.0, 0.0, 292.0, 1.0, 35.0, 0.0, 850000.0, 1.3, 142.0, 1.0, 1.0, 0.0], [55.0, 0.0, 60.0, 0.0, 35.0, 0.0, 228000.0, 1.2, 135.0, 1.0, 1.0, 0.0], [50.0, 0.0, 369.0, 1.0, 25.0, 0.0, 252000.0, 1.6, 136.0, 1.0, 0.0, 0.0], [60.0, 1.0, 754.0, 1.0, 40.0, 1.0, 328000.0, 1.2, 126.0, 1.0, 0.0, 0.0], [58.0, 1.0, 400.0, 0.0, 40.0, 0.0, 164000.0, 1.0, 139.0, 0.0, 0.0, 0.0], [60.0, 1.0, 96.0, 1.0, 60.0, 1.0, 271000.0, 0.7, 136.0, 0.0, 0.0, 0.0], [85.0, 1.0, 102.0, 0.0, 60.0, 0.0, 507000.0, 3.2, 138.0, 0.0, 0.0, 0.0], [65.0, 1.0, 113.0, 1.0, 60.0, 1.0, 203000.0, 0.9, 140.0, 0.0, 0.0, 0.0], [60.0, 1.0, 737.0, 0.0, 60.0, 1.0, 210000.0, 1.5, 135.0, 1.0, 1.0, 0.0], [66.0, 1.0, 68.0, 1.0, 38.0, 1.0, 162000.0, 1.0, 136.0, 0.0, 0.0, 0.0], [60.0, 0.0, 96.0, 1.0, 38.0, 0.0, 228000.0, 0.75, 140.0, 0.0, 0.0, 0.0], [60.0, 1.0, 582.0, 0.0, 30.0, 1.0, 127000.0, 0.9, 145.0, 0.0, 0.0, 0.0], [43.0, 1.0, 358.0, 0.0, 50.0, 0.0, 237000.0, 1.3, 135.0, 0.0, 0.0, 0.0], [58.0, 1.0, 200.0, 1.0, 60.0, 0.0, 300000.0, 0.8, 137.0, 0.0, 0.0, 0.0], [61.0, 0.0, 248.0, 0.0, 30.0, 1.0, 267000.0, 0.7, 136.0, 1.0, 1.0, 0.0], [53.0, 1.0, 270.0, 1.0, 35.0, 0.0, 227000.0, 3.4, 145.0, 1.0, 0.0, 0.0], [53.0, 1.0, 1808.0, 0.0, 60.0, 1.0, 249000.0, 0.7, 138.0, 1.0, 1.0, 0.0], [60.0, 1.0, 1082.0, 1.0, 45.0, 0.0, 250000.0, 6.1, 131.0, 1.0, 0.0, 0.0], [46.0, 0.0, 719.0, 0.0, 40.0, 1.0, 263358.03, 1.18, 137.0, 0.0, 0.0, 0.0], [63.0, 0.0, 193.0, 0.0, 60.0, 1.0, 295000.0, 1.3, 145.0, 1.0, 1.0, 0.0], [81.0, 0.0, 4540.0, 0.0, 35.0, 0.0, 231000.0, 1.18, 137.0, 1.0, 1.0, 0.0], [75.0, 0.0, 582.0, 0.0, 40.0, 0.0, 263358.03, 1.18, 137.0, 1.0, 0.0, 0.0], [65.0, 1.0, 59.0, 1.0, 60.0, 0.0, 172000.0, 0.9, 137.0, 0.0, 0.0, 0.0], [68.0, 1.0, 646.0, 0.0, 25.0, 0.0, 305000.0, 2.1, 130.0, 1.0, 0.0, 0.0], [62.0, 0.0, 281.0, 1.0, 35.0, 0.0, 221000.0, 1.0, 136.0, 0.0, 0.0, 0.0], [50.0, 0.0, 1548.0, 0.0, 30.0, 1.0, 211000.0, 0.8, 138.0, 1.0, 0.0, 0.0], [46.0, 1.0, 291.0, 0.0, 35.0, 0.0, 348000.0, 0.9, 140.0, 0.0, 0.0, 0.0], [50.0, 0.0, 482.0, 1.0, 30.0, 0.0, 329000.0, 0.9, 132.0, 0.0, 0.0, 0.0], [61.0, 1.0, 84.0, 0.0, 40.0, 1.0, 229000.0, 0.9, 141.0, 0.0, 0.0, 0.0], [50.0, 0.0, 185.0, 0.0, 30.0, 0.0, 266000.0, 0.7, 141.0, 1.0, 1.0, 0.0], [52.0, 0.0, 132.0, 0.0, 30.0, 0.0, 218000.0, 0.7, 136.0, 1.0, 1.0, 0.0], [64.0, 0.0, 1610.0, 0.0, 60.0, 0.0, 242000.0, 1.0, 137.0, 1.0, 0.0, 0.0], [60.0, 0.0, 2261.0, 0.0, 35.0, 1.0, 228000.0, 0.9, 136.0, 1.0, 0.0, 0.0], [62.0, 0.0, 30.0, 1.0, 60.0, 1.0, 244000.0, 0.9, 139.0, 1.0, 0.0, 0.0], [50.0, 0.0, 115.0, 0.0, 45.0, 1.0, 184000.0, 0.9, 134.0, 1.0, 1.0, 0.0], [50.0, 0.0, 1846.0, 1.0, 35.0, 0.0, 263358.03, 1.18, 137.0, 1.0, 1.0, 0.0], [65.0, 1.0, 335.0, 0.0, 35.0, 1.0, 235000.0, 0.8, 136.0, 0.0, 0.0, 0.0], [60.0, 1.0, 231.0, 1.0, 25.0, 0.0, 194000.0, 1.7, 140.0, 1.0, 0.0, 0.0], [52.0, 1.0, 58.0, 0.0, 35.0, 0.0, 277000.0, 1.4, 136.0, 0.0, 0.0, 0.0], [50.0, 0.0, 250.0, 0.0, 25.0, 0.0, 262000.0, 1.0, 136.0, 1.0, 1.0, 0.0], [85.0, 1.0, 910.0, 0.0, 50.0, 0.0, 235000.0, 1.3, 134.0, 1.0, 0.0, 0.0], [59.0, 1.0, 129.0, 0.0, 45.0, 1.0, 362000.0, 1.1, 139.0, 1.0, 1.0, 0.0], [66.0, 1.0, 72.0, 0.0, 40.0, 1.0, 242000.0, 1.2, 134.0, 1.0, 0.0, 0.0], [45.0, 1.0, 130.0, 0.0, 35.0, 0.0, 174000.0, 0.8, 139.0, 1.0, 1.0, 0.0], [63.0, 1.0, 582.0, 0.0, 40.0, 0.0, 448000.0, 0.9, 137.0, 1.0, 1.0, 0.0], [53.0, 0.0, 196.0, 0.0, 60.0, 0.0, 220000.0, 0.7, 133.0, 1.0, 1.0, 0.0], [65.0, 0.0, 582.0, 1.0, 40.0, 0.0, 270000.0, 1.0, 138.0, 0.0, 0.0, 0.0], [70.0, 0.0, 835.0, 0.0, 35.0, 1.0, 305000.0, 0.8, 133.0, 0.0, 0.0, 0.0], [51.0, 1.0, 582.0, 1.0, 35.0, 0.0, 263358.03, 1.5, 136.0, 1.0, 1.0, 0.0], [52.0, 0.0, 3966.0, 0.0, 40.0, 0.0, 325000.0, 0.9, 140.0, 1.0, 1.0, 0.0], [70.0, 1.0, 171.0, 0.0, 60.0, 1.0, 176000.0, 1.1, 145.0, 1.0, 1.0, 0.0], [50.0, 1.0, 115.0, 0.0, 20.0, 0.0, 189000.0, 0.8, 139.0, 1.0, 0.0, 0.0], [65.0, 0.0, 198.0, 1.0, 35.0, 1.0, 281000.0, 0.9, 137.0, 1.0, 1.0, 0.0], [60.0, 1.0, 95.0, 0.0, 60.0, 0.0, 337000.0, 1.0, 138.0, 1.0, 1.0, 0.0], [69.0, 0.0, 1419.0, 0.0, 40.0, 0.0, 105000.0, 1.0, 135.0, 1.0, 1.0, 0.0], [49.0, 1.0, 69.0, 0.0, 50.0, 0.0, 132000.0, 1.0, 140.0, 0.0, 0.0, 0.0], [63.0, 1.0, 122.0, 1.0, 60.0, 0.0, 267000.0, 1.2, 145.0, 1.0, 0.0, 0.0], [55.0, 0.0, 835.0, 0.0, 40.0, 0.0, 279000.0, 0.7, 140.0, 1.0, 1.0, 0.0], [40.0, 0.0, 478.0, 1.0, 30.0, 0.0, 303000.0, 0.9, 136.0, 1.0, 0.0, 0.0], [60.667, 1.0, 151.0, 1.0, 40.0, 1.0, 201000.0, 1.0, 136.0, 0.0, 0.0, 0.0], [40.0, 0.0, 244.0, 0.0, 45.0, 1.0, 275000.0, 0.9, 140.0, 0.0, 0.0, 0.0], [80.0, 0.0, 582.0, 1.0, 35.0, 0.0, 350000.0, 2.1, 134.0, 1.0, 0.0, 0.0], [64.0, 1.0, 62.0, 0.0, 60.0, 0.0, 309000.0, 1.5, 135.0, 0.0, 0.0, 0.0], [50.0, 1.0, 121.0, 1.0, 40.0, 0.0, 260000.0, 0.7, 130.0, 1.0, 0.0, 0.0], [73.0, 1.0, 231.0, 1.0, 30.0, 0.0, 160000.0, 1.18, 142.0, 1.0, 1.0, 0.0], [45.0, 0.0, 582.0, 1.0, 38.0, 1.0, 263358.03, 1.18, 137.0, 0.0, 0.0, 0.0], [65.0, 0.0, 167.0, 0.0, 30.0, 0.0, 259000.0, 0.8, 138.0, 0.0, 0.0, 0.0], [50.0, 1.0, 582.0, 1.0, 20.0, 1.0, 279000.0, 1.0, 134.0, 0.0, 0.0, 0.0], [60.0, 0.0, 1211.0, 1.0, 35.0, 0.0, 263358.03, 1.8, 113.0, 1.0, 1.0, 0.0], [63.0, 1.0, 1767.0, 0.0, 45.0, 0.0, 73000.0, 0.7, 137.0, 1.0, 0.0, 0.0], [45.0, 0.0, 308.0, 1.0, 60.0, 1.0, 377000.0, 1.0, 136.0, 1.0, 0.0, 0.0], [70.0, 0.0, 97.0, 0.0, 60.0, 1.0, 220000.0, 0.9, 138.0, 1.0, 0.0, 0.0], [60.0, 0.0, 59.0, 0.0, 25.0, 1.0, 212000.0, 3.5, 136.0, 1.0, 1.0, 0.0], [78.0, 1.0, 64.0, 0.0, 40.0, 0.0, 277000.0, 0.7, 137.0, 1.0, 1.0, 0.0], [50.0, 1.0, 167.0, 1.0, 45.0, 0.0, 362000.0, 1.0, 136.0, 0.0, 0.0, 0.0], [40.0, 1.0, 101.0, 0.0, 40.0, 0.0, 226000.0, 0.8, 141.0, 0.0, 0.0, 0.0], [85.0, 0.0, 212.0, 0.0, 38.0, 0.0, 186000.0, 0.9, 136.0, 1.0, 0.0, 0.0], [60.0, 1.0, 2281.0, 1.0, 40.0, 0.0, 283000.0, 1.0, 141.0, 0.0, 0.0, 0.0], [49.0, 0.0, 972.0, 1.0, 35.0, 1.0, 268000.0, 0.8, 130.0, 0.0, 0.0, 0.0], [70.0, 0.0, 212.0, 1.0, 17.0, 1.0, 389000.0, 1.0, 136.0, 1.0, 1.0, 0.0], [50.0, 0.0, 582.0, 0.0, 62.0, 1.0, 147000.0, 0.8, 140.0, 1.0, 1.0, 0.0], [78.0, 0.0, 224.0, 0.0, 50.0, 0.0, 481000.0, 1.4, 138.0, 1.0, 1.0, 0.0], [65.0, 1.0, 135.0, 0.0, 35.0, 1.0, 290000.0, 0.8, 134.0, 1.0, 0.0, 0.0], [73.0, 0.0, 582.0, 0.0, 35.0, 1.0, 203000.0, 1.3, 134.0, 1.0, 0.0, 0.0], [70.0, 0.0, 1202.0, 0.0, 50.0, 1.0, 358000.0, 0.9, 141.0, 0.0, 0.0, 0.0], [68.0, 1.0, 1021.0, 1.0, 35.0, 0.0, 271000.0, 1.1, 134.0, 1.0, 0.0, 0.0], [55.0, 0.0, 582.0, 1.0, 35.0, 1.0, 371000.0, 0.7, 140.0, 0.0, 0.0, 0.0], [65.0, 0.0, 118.0, 0.0, 50.0, 0.0, 194000.0, 1.1, 145.0, 1.0, 1.0, 0.0], [42.0, 1.0, 86.0, 0.0, 35.0, 0.0, 365000.0, 1.1, 139.0, 1.0, 1.0, 0.0], [47.0, 0.0, 582.0, 0.0, 25.0, 0.0, 130000.0, 0.8, 134.0, 1.0, 0.0, 0.0], [58.0, 0.0, 582.0, 1.0, 25.0, 0.0, 504000.0, 1.0, 138.0, 1.0, 0.0, 0.0], [75.0, 0.0, 675.0, 1.0, 60.0, 0.0, 265000.0, 1.4, 125.0, 0.0, 0.0, 0.0], [58.0, 1.0, 57.0, 0.0, 25.0, 0.0, 189000.0, 1.3, 132.0, 1.0, 1.0, 0.0], [55.0, 1.0, 2794.0, 0.0, 35.0, 1.0, 141000.0, 1.0, 140.0, 1.0, 0.0, 0.0], [65.0, 0.0, 56.0, 0.0, 25.0, 0.0, 237000.0, 5.0, 130.0, 0.0, 0.0, 0.0], [72.0, 0.0, 211.0, 0.0, 25.0, 0.0, 274000.0, 1.2, 134.0, 0.0, 0.0, 0.0], [70.0, 0.0, 93.0, 0.0, 35.0, 0.0, 185000.0, 1.1, 134.0, 1.0, 1.0, 0.0], [40.0, 1.0, 129.0, 0.0, 35.0, 0.0, 255000.0, 0.9, 137.0, 1.0, 0.0, 0.0], [53.0, 1.0, 707.0, 0.0, 38.0, 0.0, 330000.0, 1.4, 137.0, 1.0, 1.0, 0.0], [53.0, 1.0, 582.0, 0.0, 45.0, 0.0, 305000.0, 1.1, 137.0, 1.0, 1.0, 0.0], [77.0, 1.0, 109.0, 0.0, 50.0, 1.0, 406000.0, 1.1, 137.0, 1.0, 0.0, 0.0], [75.0, 0.0, 119.0, 0.0, 50.0, 1.0, 248000.0, 1.1, 148.0, 1.0, 0.0, 0.0], [70.0, 0.0, 232.0, 0.0, 30.0, 0.0, 173000.0, 1.2, 132.0, 1.0, 0.0, 0.0], [65.0, 1.0, 720.0, 1.0, 40.0, 0.0, 257000.0, 1.0, 136.0, 0.0, 0.0, 0.0], [55.0, 1.0, 180.0, 0.0, 45.0, 0.0, 263358.03, 1.18, 137.0, 1.0, 1.0, 0.0], [70.0, 0.0, 81.0, 1.0, 35.0, 1.0, 533000.0, 1.3, 139.0, 0.0, 0.0, 0.0], [65.0, 0.0, 582.0, 1.0, 30.0, 0.0, 249000.0, 1.3, 136.0, 1.0, 1.0, 0.0], [40.0, 0.0, 90.0, 0.0, 35.0, 0.0, 255000.0, 1.1, 136.0, 1.0, 1.0, 0.0], [73.0, 1.0, 1185.0, 0.0, 40.0, 1.0, 220000.0, 0.9, 141.0, 0.0, 0.0, 0.0], [54.0, 0.0, 582.0, 1.0, 38.0, 0.0, 264000.0, 1.8, 134.0, 1.0, 0.0, 0.0], [61.0, 1.0, 80.0, 1.0, 38.0, 0.0, 282000.0, 1.4, 137.0, 1.0, 0.0, 0.0], [64.0, 0.0, 143.0, 0.0, 25.0, 0.0, 246000.0, 2.4, 135.0, 1.0, 0.0, 0.0], [40.0, 0.0, 624.0, 0.0, 35.0, 0.0, 301000.0, 1.0, 142.0, 1.0, 1.0, 0.0], [53.0, 0.0, 207.0, 1.0, 40.0, 0.0, 223000.0, 1.2, 130.0, 0.0, 0.0, 0.0], [50.0, 0.0, 2522.0, 0.0, 30.0, 1.0, 404000.0, 0.5, 139.0, 0.0, 0.0, 0.0], [55.0, 0.0, 572.0, 1.0, 35.0, 0.0, 231000.0, 0.8, 143.0, 0.0, 0.0, 0.0], [50.0, 0.0, 245.0, 0.0, 45.0, 1.0, 274000.0, 1.0, 133.0, 1.0, 0.0, 0.0], [70.0, 0.0, 88.0, 1.0, 35.0, 1.0, 236000.0, 1.2, 132.0, 0.0, 0.0, 0.0], [53.0, 1.0, 446.0, 0.0, 60.0, 1.0, 263358.03, 1.0, 139.0, 1.0, 0.0, 0.0], [52.0, 1.0, 191.0, 1.0, 30.0, 1.0, 334000.0, 1.0, 142.0, 1.0, 1.0, 0.0], [65.0, 0.0, 326.0, 0.0, 38.0, 0.0, 294000.0, 1.7, 139.0, 0.0, 0.0, 0.0], [58.0, 0.0, 132.0, 1.0, 38.0, 1.0, 253000.0, 1.0, 139.0, 1.0, 0.0, 0.0], [45.0, 1.0, 66.0, 1.0, 25.0, 0.0, 233000.0, 0.8, 135.0, 1.0, 0.0, 0.0], [53.0, 0.0, 56.0, 0.0, 50.0, 0.0, 308000.0, 0.7, 135.0, 1.0, 1.0, 0.0], [55.0, 0.0, 66.0, 0.0, 40.0, 0.0, 203000.0, 1.0, 138.0, 1.0, 0.0, 0.0], [62.0, 1.0, 655.0, 0.0, 40.0, 0.0, 283000.0, 0.7, 133.0, 0.0, 0.0, 0.0], [68.0, 1.0, 157.0, 1.0, 60.0, 0.0, 208000.0, 1.0, 140.0, 0.0, 0.0, 0.0], [61.0, 0.0, 582.0, 1.0, 38.0, 0.0, 147000.0, 1.2, 141.0, 1.0, 0.0, 0.0], [50.0, 1.0, 298.0, 0.0, 35.0, 0.0, 362000.0, 0.9, 140.0, 1.0, 1.0, 0.0], [56.0, 1.0, 135.0, 1.0, 38.0, 0.0, 133000.0, 1.7, 140.0, 1.0, 0.0, 0.0], [45.0, 0.0, 582.0, 1.0, 38.0, 0.0, 302000.0, 0.9, 140.0, 0.0, 0.0, 0.0], [40.0, 0.0, 582.0, 1.0, 35.0, 0.0, 222000.0, 1.0, 132.0, 1.0, 0.0, 0.0], [44.0, 0.0, 582.0, 1.0, 30.0, 1.0, 263358.03, 1.6, 130.0, 1.0, 1.0, 0.0], [51.0, 0.0, 582.0, 1.0, 40.0, 0.0, 221000.0, 0.9, 134.0, 0.0, 0.0, 0.0], [67.0, 0.0, 213.0, 0.0, 38.0, 0.0, 215000.0, 1.2, 133.0, 0.0, 0.0, 0.0], [42.0, 0.0, 64.0, 0.0, 40.0, 0.0, 189000.0, 0.7, 140.0, 1.0, 0.0, 0.0], [60.0, 1.0, 257.0, 1.0, 30.0, 0.0, 150000.0, 1.0, 137.0, 1.0, 1.0, 0.0], [45.0, 0.0, 582.0, 0.0, 38.0, 1.0, 422000.0, 0.8, 137.0, 0.0, 0.0, 0.0], [70.0, 0.0, 618.0, 0.0, 35.0, 0.0, 327000.0, 1.1, 142.0, 0.0, 0.0, 0.0], [70.0, 0.0, 582.0, 1.0, 38.0, 0.0, 25100.0, 1.1, 140.0, 1.0, 0.0, 0.0], [50.0, 1.0, 1051.0, 1.0, 30.0, 0.0, 232000.0, 0.7, 136.0, 0.0, 0.0, 0.0], [55.0, 0.0, 84.0, 1.0, 38.0, 0.0, 451000.0, 1.3, 136.0, 0.0, 0.0, 0.0], [70.0, 0.0, 2695.0, 1.0, 40.0, 0.0, 241000.0, 1.0, 137.0, 1.0, 0.0, 0.0], [70.0, 0.0, 582.0, 0.0, 40.0, 0.0, 51000.0, 2.7, 136.0, 1.0, 1.0, 0.0], [42.0, 0.0, 64.0, 0.0, 30.0, 0.0, 215000.0, 3.8, 128.0, 1.0, 1.0, 0.0], [65.0, 0.0, 1688.0, 0.0, 38.0, 0.0, 263358.03, 1.1, 138.0, 1.0, 1.0, 0.0], [50.0, 1.0, 54.0, 0.0, 40.0, 0.0, 279000.0, 0.8, 141.0, 1.0, 0.0, 0.0], [55.0, 1.0, 170.0, 1.0, 40.0, 0.0, 336000.0, 1.2, 135.0, 1.0, 0.0, 0.0], [60.0, 0.0, 253.0, 0.0, 35.0, 0.0, 279000.0, 1.7, 140.0, 1.0, 0.0, 0.0], [45.0, 0.0, 582.0, 1.0, 55.0, 0.0, 543000.0, 1.0, 132.0, 0.0, 0.0, 0.0], [65.0, 0.0, 892.0, 1.0, 35.0, 0.0, 263358.03, 1.1, 142.0, 0.0, 0.0, 0.0], [90.0, 1.0, 337.0, 0.0, 38.0, 0.0, 390000.0, 0.9, 144.0, 0.0, 0.0, 0.0], [45.0, 0.0, 615.0, 1.0, 55.0, 0.0, 222000.0, 0.8, 141.0, 0.0, 0.0, 0.0], [60.0, 0.0, 320.0, 0.0, 35.0, 0.0, 133000.0, 1.4, 139.0, 1.0, 0.0, 0.0], [52.0, 0.0, 190.0, 1.0, 38.0, 0.0, 382000.0, 1.0, 140.0, 1.0, 1.0, 0.0], [63.0, 1.0, 103.0, 1.0, 35.0, 0.0, 179000.0, 0.9, 136.0, 1.0, 1.0, 0.0], [62.0, 0.0, 61.0, 1.0, 38.0, 1.0, 155000.0, 1.1, 143.0, 1.0, 1.0, 0.0], [55.0, 0.0, 1820.0, 0.0, 38.0, 0.0, 270000.0, 1.2, 139.0, 0.0, 0.0, 0.0], [45.0, 0.0, 2060.0, 1.0, 60.0, 0.0, 742000.0, 0.8, 138.0, 0.0, 0.0, 0.0], [45.0, 0.0, 2413.0, 0.0, 38.0, 0.0, 140000.0, 1.4, 140.0, 1.0, 1.0, 0.0], [50.0, 0.0, 196.0, 0.0, 45.0, 0.0, 395000.0, 1.6, 136.0, 1.0, 1.0, 0.0]], \"hoverlabel\": {\"namelength\": 0}, \"hovertemplate\": \"DEATH_EVENT=%{customdata[11]}<br>age=%{customdata[0]}<br>anaemia=%{customdata[1]}<br>creatinine_phosphokinase=%{customdata[2]}<br>diabetes=%{customdata[3]}<br>ejection_fraction=%{customdata[4]}<br>high_blood_pressure=%{customdata[5]}<br>platelets=%{customdata[6]}<br>serum_creatinine=%{customdata[7]}<br>serum_sodium=%{customdata[8]}<br>sex=%{customdata[9]}<br>smoking=%{customdata[10]}\", \"legendgroup\": \"DEATH_EVENT=0\", \"marker\": {\"color\": \"#EF553B\"}, \"name\": \"DEATH_EVENT=0\", \"offsetgroup\": \"DEATH_EVENT=0\", \"orientation\": \"v\", \"points\": \"all\", \"scalegroup\": \"True\", \"showlegend\": true, \"type\": \"violin\", \"x\": [0, 0, 0, 0, 0, 0, 0, 0, 0, 0, 0, 0, 0, 0, 0, 0, 0, 0, 0, 0, 0, 0, 0, 0, 0, 0, 0, 0, 0, 0, 0, 0, 0, 0, 0, 0, 0, 0, 0, 0, 0, 0, 0, 0, 0, 0, 0, 0, 0, 0, 0, 0, 0, 0, 0, 0, 0, 0, 0, 0, 0, 0, 0, 0, 0, 0, 0, 0, 0, 0, 0, 0, 0, 0, 0, 0, 0, 0, 0, 0, 0, 0, 0, 0, 0, 0, 0, 0, 0, 0, 0, 0, 0, 0, 0, 0, 0, 0, 0, 0, 0, 0, 0, 0, 0, 0, 0, 0, 0, 0, 0, 0, 0, 0, 0, 0, 0, 0, 0, 0, 0, 0, 0, 0, 0, 0, 0, 0, 0, 0, 0, 0, 0, 0, 0, 0, 0, 0, 0, 0, 0, 0, 0, 0, 0, 0, 0, 0, 0, 0, 0, 0, 0, 0, 0, 0, 0, 0, 0, 0, 0, 0, 0, 0, 0, 0, 0, 0, 0, 0, 0, 0, 0, 0, 0, 0, 0, 0, 0, 0, 0, 0, 0, 0, 0, 0, 0, 0, 0, 0, 0, 0, 0, 0, 0, 0, 0, 0, 0, 0, 0, 0, 0], \"x0\": \" \", \"xaxis\": \"x\", \"y\": [49.0, 65.0, 53.0, 50.0, 60.0, 72.0, 70.0, 60.0, 55.0, 45.0, 41.0, 58.0, 65.0, 70.0, 42.0, 75.0, 55.0, 70.0, 67.0, 79.0, 51.0, 55.0, 65.0, 44.0, 57.0, 70.0, 60.0, 42.0, 58.0, 58.0, 63.0, 70.0, 60.0, 63.0, 65.0, 75.0, 80.0, 42.0, 60.0, 55.0, 45.0, 63.0, 45.0, 55.0, 50.0, 60.0, 58.0, 60.0, 85.0, 65.0, 60.0, 66.0, 60.0, 60.0, 43.0, 58.0, 61.0, 53.0, 53.0, 60.0, 46.0, 63.0, 81.0, 75.0, 65.0, 68.0, 62.0, 50.0, 46.0, 50.0, 61.0, 50.0, 52.0, 64.0, 60.0, 62.0, 50.0, 50.0, 65.0, 60.0, 52.0, 50.0, 85.0, 59.0, 66.0, 45.0, 63.0, 53.0, 65.0, 70.0, 51.0, 52.0, 70.0, 50.0, 65.0, 60.0, 69.0, 49.0, 63.0, 55.0, 40.0, 60.667, 40.0, 80.0, 64.0, 50.0, 73.0, 45.0, 65.0, 50.0, 60.0, 63.0, 45.0, 70.0, 60.0, 78.0, 50.0, 40.0, 85.0, 60.0, 49.0, 70.0, 50.0, 78.0, 65.0, 73.0, 70.0, 68.0, 55.0, 65.0, 42.0, 47.0, 58.0, 75.0, 58.0, 55.0, 65.0, 72.0, 70.0, 40.0, 53.0, 53.0, 77.0, 75.0, 70.0, 65.0, 55.0, 70.0, 65.0, 40.0, 73.0, 54.0, 61.0, 64.0, 40.0, 53.0, 50.0, 55.0, 50.0, 70.0, 53.0, 52.0, 65.0, 58.0, 45.0, 53.0, 55.0, 62.0, 68.0, 61.0, 50.0, 56.0, 45.0, 40.0, 44.0, 51.0, 67.0, 42.0, 60.0, 45.0, 70.0, 70.0, 50.0, 55.0, 70.0, 70.0, 42.0, 65.0, 50.0, 55.0, 60.0, 45.0, 65.0, 90.0, 45.0, 60.0, 52.0, 63.0, 62.0, 55.0, 45.0, 45.0, 50.0], \"y0\": \" \", \"yaxis\": \"y\"}],\n",
              "                        {\"legend\": {\"tracegroupgap\": 0}, \"margin\": {\"t\": 60}, \"template\": {\"data\": {\"bar\": [{\"error_x\": {\"color\": \"#2a3f5f\"}, \"error_y\": {\"color\": \"#2a3f5f\"}, \"marker\": {\"line\": {\"color\": \"#E5ECF6\", \"width\": 0.5}}, \"type\": \"bar\"}], \"barpolar\": [{\"marker\": {\"line\": {\"color\": \"#E5ECF6\", \"width\": 0.5}}, \"type\": \"barpolar\"}], \"carpet\": [{\"aaxis\": {\"endlinecolor\": \"#2a3f5f\", \"gridcolor\": \"white\", \"linecolor\": \"white\", \"minorgridcolor\": \"white\", \"startlinecolor\": \"#2a3f5f\"}, \"baxis\": {\"endlinecolor\": \"#2a3f5f\", \"gridcolor\": \"white\", \"linecolor\": \"white\", \"minorgridcolor\": \"white\", \"startlinecolor\": \"#2a3f5f\"}, \"type\": \"carpet\"}], \"choropleth\": [{\"colorbar\": {\"outlinewidth\": 0, \"ticks\": \"\"}, \"type\": \"choropleth\"}], \"contour\": [{\"colorbar\": {\"outlinewidth\": 0, \"ticks\": \"\"}, \"colorscale\": [[0.0, \"#0d0887\"], [0.1111111111111111, \"#46039f\"], [0.2222222222222222, \"#7201a8\"], [0.3333333333333333, \"#9c179e\"], [0.4444444444444444, \"#bd3786\"], [0.5555555555555556, \"#d8576b\"], [0.6666666666666666, \"#ed7953\"], [0.7777777777777778, \"#fb9f3a\"], [0.8888888888888888, \"#fdca26\"], [1.0, \"#f0f921\"]], \"type\": \"contour\"}], \"contourcarpet\": [{\"colorbar\": {\"outlinewidth\": 0, \"ticks\": \"\"}, \"type\": \"contourcarpet\"}], \"heatmap\": [{\"colorbar\": {\"outlinewidth\": 0, \"ticks\": \"\"}, \"colorscale\": [[0.0, \"#0d0887\"], [0.1111111111111111, \"#46039f\"], [0.2222222222222222, \"#7201a8\"], [0.3333333333333333, \"#9c179e\"], [0.4444444444444444, \"#bd3786\"], [0.5555555555555556, \"#d8576b\"], [0.6666666666666666, \"#ed7953\"], [0.7777777777777778, \"#fb9f3a\"], [0.8888888888888888, \"#fdca26\"], [1.0, \"#f0f921\"]], \"type\": \"heatmap\"}], \"heatmapgl\": [{\"colorbar\": {\"outlinewidth\": 0, \"ticks\": \"\"}, \"colorscale\": [[0.0, \"#0d0887\"], [0.1111111111111111, \"#46039f\"], [0.2222222222222222, \"#7201a8\"], [0.3333333333333333, \"#9c179e\"], [0.4444444444444444, \"#bd3786\"], [0.5555555555555556, \"#d8576b\"], [0.6666666666666666, \"#ed7953\"], [0.7777777777777778, \"#fb9f3a\"], [0.8888888888888888, \"#fdca26\"], [1.0, \"#f0f921\"]], \"type\": \"heatmapgl\"}], \"histogram\": [{\"marker\": {\"colorbar\": {\"outlinewidth\": 0, \"ticks\": \"\"}}, \"type\": \"histogram\"}], \"histogram2d\": [{\"colorbar\": {\"outlinewidth\": 0, \"ticks\": \"\"}, \"colorscale\": [[0.0, \"#0d0887\"], [0.1111111111111111, \"#46039f\"], [0.2222222222222222, \"#7201a8\"], [0.3333333333333333, \"#9c179e\"], [0.4444444444444444, \"#bd3786\"], [0.5555555555555556, \"#d8576b\"], [0.6666666666666666, \"#ed7953\"], [0.7777777777777778, \"#fb9f3a\"], [0.8888888888888888, \"#fdca26\"], [1.0, \"#f0f921\"]], \"type\": \"histogram2d\"}], \"histogram2dcontour\": [{\"colorbar\": {\"outlinewidth\": 0, \"ticks\": \"\"}, \"colorscale\": [[0.0, \"#0d0887\"], [0.1111111111111111, \"#46039f\"], [0.2222222222222222, \"#7201a8\"], [0.3333333333333333, \"#9c179e\"], [0.4444444444444444, \"#bd3786\"], [0.5555555555555556, \"#d8576b\"], [0.6666666666666666, \"#ed7953\"], [0.7777777777777778, \"#fb9f3a\"], [0.8888888888888888, \"#fdca26\"], [1.0, \"#f0f921\"]], \"type\": \"histogram2dcontour\"}], \"mesh3d\": [{\"colorbar\": {\"outlinewidth\": 0, \"ticks\": \"\"}, \"type\": \"mesh3d\"}], \"parcoords\": [{\"line\": {\"colorbar\": {\"outlinewidth\": 0, \"ticks\": \"\"}}, \"type\": \"parcoords\"}], \"pie\": [{\"automargin\": true, \"type\": \"pie\"}], \"scatter\": [{\"marker\": {\"colorbar\": {\"outlinewidth\": 0, \"ticks\": \"\"}}, \"type\": \"scatter\"}], \"scatter3d\": [{\"line\": {\"colorbar\": {\"outlinewidth\": 0, \"ticks\": \"\"}}, \"marker\": {\"colorbar\": {\"outlinewidth\": 0, \"ticks\": \"\"}}, \"type\": \"scatter3d\"}], \"scattercarpet\": [{\"marker\": {\"colorbar\": {\"outlinewidth\": 0, \"ticks\": \"\"}}, \"type\": \"scattercarpet\"}], \"scattergeo\": [{\"marker\": {\"colorbar\": {\"outlinewidth\": 0, \"ticks\": \"\"}}, \"type\": \"scattergeo\"}], \"scattergl\": [{\"marker\": {\"colorbar\": {\"outlinewidth\": 0, \"ticks\": \"\"}}, \"type\": \"scattergl\"}], \"scattermapbox\": [{\"marker\": {\"colorbar\": {\"outlinewidth\": 0, \"ticks\": \"\"}}, \"type\": \"scattermapbox\"}], \"scatterpolar\": [{\"marker\": {\"colorbar\": {\"outlinewidth\": 0, \"ticks\": \"\"}}, \"type\": \"scatterpolar\"}], \"scatterpolargl\": [{\"marker\": {\"colorbar\": {\"outlinewidth\": 0, \"ticks\": \"\"}}, \"type\": \"scatterpolargl\"}], \"scatterternary\": [{\"marker\": {\"colorbar\": {\"outlinewidth\": 0, \"ticks\": \"\"}}, \"type\": \"scatterternary\"}], \"surface\": [{\"colorbar\": {\"outlinewidth\": 0, \"ticks\": \"\"}, \"colorscale\": [[0.0, \"#0d0887\"], [0.1111111111111111, \"#46039f\"], [0.2222222222222222, \"#7201a8\"], [0.3333333333333333, \"#9c179e\"], [0.4444444444444444, \"#bd3786\"], [0.5555555555555556, \"#d8576b\"], [0.6666666666666666, \"#ed7953\"], [0.7777777777777778, \"#fb9f3a\"], [0.8888888888888888, \"#fdca26\"], [1.0, \"#f0f921\"]], \"type\": \"surface\"}], \"table\": [{\"cells\": {\"fill\": {\"color\": \"#EBF0F8\"}, \"line\": {\"color\": \"white\"}}, \"header\": {\"fill\": {\"color\": \"#C8D4E3\"}, \"line\": {\"color\": \"white\"}}, \"type\": \"table\"}]}, \"layout\": {\"annotationdefaults\": {\"arrowcolor\": \"#2a3f5f\", \"arrowhead\": 0, \"arrowwidth\": 1}, \"coloraxis\": {\"colorbar\": {\"outlinewidth\": 0, \"ticks\": \"\"}}, \"colorscale\": {\"diverging\": [[0, \"#8e0152\"], [0.1, \"#c51b7d\"], [0.2, \"#de77ae\"], [0.3, \"#f1b6da\"], [0.4, \"#fde0ef\"], [0.5, \"#f7f7f7\"], [0.6, \"#e6f5d0\"], [0.7, \"#b8e186\"], [0.8, \"#7fbc41\"], [0.9, \"#4d9221\"], [1, \"#276419\"]], \"sequential\": [[0.0, \"#0d0887\"], [0.1111111111111111, \"#46039f\"], [0.2222222222222222, \"#7201a8\"], [0.3333333333333333, \"#9c179e\"], [0.4444444444444444, \"#bd3786\"], [0.5555555555555556, \"#d8576b\"], [0.6666666666666666, \"#ed7953\"], [0.7777777777777778, \"#fb9f3a\"], [0.8888888888888888, \"#fdca26\"], [1.0, \"#f0f921\"]], \"sequentialminus\": [[0.0, \"#0d0887\"], [0.1111111111111111, \"#46039f\"], [0.2222222222222222, \"#7201a8\"], [0.3333333333333333, \"#9c179e\"], [0.4444444444444444, \"#bd3786\"], [0.5555555555555556, \"#d8576b\"], [0.6666666666666666, \"#ed7953\"], [0.7777777777777778, \"#fb9f3a\"], [0.8888888888888888, \"#fdca26\"], [1.0, \"#f0f921\"]]}, \"colorway\": [\"#636efa\", \"#EF553B\", \"#00cc96\", \"#ab63fa\", \"#FFA15A\", \"#19d3f3\", \"#FF6692\", \"#B6E880\", \"#FF97FF\", \"#FECB52\"], \"font\": {\"color\": \"#2a3f5f\"}, \"geo\": {\"bgcolor\": \"white\", \"lakecolor\": \"white\", \"landcolor\": \"#E5ECF6\", \"showlakes\": true, \"showland\": true, \"subunitcolor\": \"white\"}, \"hoverlabel\": {\"align\": \"left\"}, \"hovermode\": \"closest\", \"mapbox\": {\"style\": \"light\"}, \"paper_bgcolor\": \"white\", \"plot_bgcolor\": \"#E5ECF6\", \"polar\": {\"angularaxis\": {\"gridcolor\": \"white\", \"linecolor\": \"white\", \"ticks\": \"\"}, \"bgcolor\": \"#E5ECF6\", \"radialaxis\": {\"gridcolor\": \"white\", \"linecolor\": \"white\", \"ticks\": \"\"}}, \"scene\": {\"xaxis\": {\"backgroundcolor\": \"#E5ECF6\", \"gridcolor\": \"white\", \"gridwidth\": 2, \"linecolor\": \"white\", \"showbackground\": true, \"ticks\": \"\", \"zerolinecolor\": \"white\"}, \"yaxis\": {\"backgroundcolor\": \"#E5ECF6\", \"gridcolor\": \"white\", \"gridwidth\": 2, \"linecolor\": \"white\", \"showbackground\": true, \"ticks\": \"\", \"zerolinecolor\": \"white\"}, \"zaxis\": {\"backgroundcolor\": \"#E5ECF6\", \"gridcolor\": \"white\", \"gridwidth\": 2, \"linecolor\": \"white\", \"showbackground\": true, \"ticks\": \"\", \"zerolinecolor\": \"white\"}}, \"shapedefaults\": {\"line\": {\"color\": \"#2a3f5f\"}}, \"ternary\": {\"aaxis\": {\"gridcolor\": \"white\", \"linecolor\": \"white\", \"ticks\": \"\"}, \"baxis\": {\"gridcolor\": \"white\", \"linecolor\": \"white\", \"ticks\": \"\"}, \"bgcolor\": \"#E5ECF6\", \"caxis\": {\"gridcolor\": \"white\", \"linecolor\": \"white\", \"ticks\": \"\"}}, \"title\": {\"x\": 0.05}, \"xaxis\": {\"automargin\": true, \"gridcolor\": \"white\", \"linecolor\": \"white\", \"ticks\": \"\", \"title\": {\"standoff\": 15}, \"zerolinecolor\": \"white\", \"zerolinewidth\": 2}, \"yaxis\": {\"automargin\": true, \"gridcolor\": \"white\", \"linecolor\": \"white\", \"ticks\": \"\", \"title\": {\"standoff\": 15}, \"zerolinecolor\": \"white\", \"zerolinewidth\": 2}}}, \"title\": {\"text\": \"An\\u00e1lisis en edad y g\\u00e9nero sobre el estado de supervivencia\"}, \"violinmode\": \"group\", \"xaxis\": {\"anchor\": \"y\", \"categoryarray\": [1, 0], \"categoryorder\": \"array\", \"domain\": [0.0, 1.0], \"title\": {\"text\": \"DEATH_EVENT\"}}, \"yaxis\": {\"anchor\": \"x\", \"domain\": [0.0, 1.0], \"title\": {\"text\": \"age\"}}},\n",
              "                        {\"responsive\": true}\n",
              "                    ).then(function(){\n",
              "                            \n",
              "var gd = document.getElementById('9b5e172f-0f8d-4936-a501-6499368b2a44');\n",
              "var x = new MutationObserver(function (mutations, observer) {{\n",
              "        var display = window.getComputedStyle(gd).display;\n",
              "        if (!display || display === 'none') {{\n",
              "            console.log([gd, 'removed!']);\n",
              "            Plotly.purge(gd);\n",
              "            observer.disconnect();\n",
              "        }}\n",
              "}});\n",
              "\n",
              "// Listen for the removal of the full notebook cells\n",
              "var notebookContainer = gd.closest('#notebook-container');\n",
              "if (notebookContainer) {{\n",
              "    x.observe(notebookContainer, {childList: true});\n",
              "}}\n",
              "\n",
              "// Listen for the clearing of the current output cell\n",
              "var outputEl = gd.closest('.output');\n",
              "if (outputEl) {{\n",
              "    x.observe(outputEl, {childList: true});\n",
              "}}\n",
              "\n",
              "                        })\n",
              "                };\n",
              "                \n",
              "            </script>\n",
              "        </div>\n",
              "</body>\n",
              "</html>"
            ]
          },
          "metadata": {
            "tags": []
          }
        },
        {
          "output_type": "display_data",
          "data": {
            "text/plain": [
              "<Figure size 432x288 with 0 Axes>"
            ]
          },
          "metadata": {
            "tags": []
          }
        }
      ]
    },
    {
      "cell_type": "markdown",
      "metadata": {
        "id": "HsN5LA_Vv0uc"
      },
      "source": [
        "Informe de edad\n",
        "* La propagación de la supervivencia es alta en edades de 40 a 70\n",
        "* La supervivencia es alta tanto para hombres de 50 a 60 años como para mujeres de 60 a 70 años respectivamente."
      ]
    },
    {
      "cell_type": "code",
      "metadata": {
        "id": "bYL4cAprMmQp"
      },
      "source": [
        "from sklearn.base import BaseEstimator, TransformerMixin\n",
        "from sklearn.impute import SimpleImputer \n",
        "from sklearn.preprocessing import OrdinalEncoder,OneHotEncoder"
      ],
      "execution_count": null,
      "outputs": []
    },
    {
      "cell_type": "markdown",
      "metadata": {
        "id": "AZ5XVzhPG1T9"
      },
      "source": [
        "# PREDICCION DE VARIABLES DE INTERES"
      ]
    },
    {
      "cell_type": "code",
      "metadata": {
        "id": "QPqbISIJG7uH",
        "outputId": "a01e4bc5-88b8-45ca-eaad-85559e88df01",
        "colab": {
          "base_uri": "https://localhost:8080/",
          "height": 323
        }
      },
      "source": [
        "Xtrain.info()"
      ],
      "execution_count": null,
      "outputs": [
        {
          "output_type": "stream",
          "text": [
            "<class 'pandas.core.frame.DataFrame'>\n",
            "Int64Index: 209 entries, 122 to 12\n",
            "Data columns (total 11 columns):\n",
            " #   Column                    Non-Null Count  Dtype  \n",
            "---  ------                    --------------  -----  \n",
            " 0   age                       209 non-null    float64\n",
            " 1   anaemia                   209 non-null    int64  \n",
            " 2   creatinine_phosphokinase  209 non-null    int64  \n",
            " 3   diabetes                  209 non-null    int64  \n",
            " 4   ejection_fraction         209 non-null    int64  \n",
            " 5   high_blood_pressure       209 non-null    int64  \n",
            " 6   platelets                 209 non-null    float64\n",
            " 7   serum_creatinine          209 non-null    float64\n",
            " 8   serum_sodium              209 non-null    int64  \n",
            " 9   sex                       209 non-null    int64  \n",
            " 10  smoking                   209 non-null    int64  \n",
            "dtypes: float64(3), int64(8)\n",
            "memory usage: 19.6 KB\n"
          ],
          "name": "stdout"
        }
      ]
    },
    {
      "cell_type": "code",
      "metadata": {
        "id": "JiP5sp9pHJPS"
      },
      "source": [
        "from sklearn.decomposition import PCA \n",
        "from sklearn.preprocessing import StandardScaler\n",
        "sca = StandardScaler()\n",
        "Xtrain_pre_z = sca.fit_transform(Xtrain)"
      ],
      "execution_count": null,
      "outputs": []
    },
    {
      "cell_type": "code",
      "metadata": {
        "id": "amYJv4tYHO9T",
        "outputId": "9f828ac3-6bb0-46fe-a91f-2da58576669d",
        "colab": {
          "base_uri": "https://localhost:8080/",
          "height": 34
        }
      },
      "source": [
        "Xtrain_pre_z.var(axis=0)"
      ],
      "execution_count": null,
      "outputs": [
        {
          "output_type": "execute_result",
          "data": {
            "text/plain": [
              "array([1., 1., 1., 1., 1., 1., 1., 1., 1., 1., 1.])"
            ]
          },
          "metadata": {
            "tags": []
          },
          "execution_count": 202
        }
      ]
    },
    {
      "cell_type": "code",
      "metadata": {
        "id": "VBdy4MIXHVjt",
        "outputId": "3f6d9e7e-b4c9-421a-b497-fd2a0a4e0e63",
        "colab": {
          "base_uri": "https://localhost:8080/",
          "height": 221
        }
      },
      "source": [
        "Xtrain.var(axis=0)"
      ],
      "execution_count": null,
      "outputs": [
        {
          "output_type": "execute_result",
          "data": {
            "text/plain": [
              "age                         1.431764e+02\n",
              "anaemia                     2.433290e-01\n",
              "creatinine_phosphokinase    9.521129e+05\n",
              "diabetes                    2.470096e-01\n",
              "ejection_fraction           1.407284e+02\n",
              "high_blood_pressure         2.269047e-01\n",
              "platelets                   5.996337e+09\n",
              "serum_creatinine            1.045800e+00\n",
              "serum_sodium                2.192602e+01\n",
              "sex                         2.298031e-01\n",
              "smoking                     2.096522e-01\n",
              "dtype: float64"
            ]
          },
          "metadata": {
            "tags": []
          },
          "execution_count": 203
        }
      ]
    },
    {
      "cell_type": "code",
      "metadata": {
        "id": "14bsUAyPIDRf"
      },
      "source": [
        "red = PCA()\n",
        "zz = red.fit_transform(Xtrain_pre_z)"
      ],
      "execution_count": null,
      "outputs": []
    },
    {
      "cell_type": "code",
      "metadata": {
        "id": "4NrhwL9BIHdX",
        "outputId": "93aa5a34-c8bb-43f4-b56d-d7a51dde940f",
        "colab": {
          "base_uri": "https://localhost:8080/",
          "height": 269
        }
      },
      "source": [
        "plt.scatter(zz[:,0],zz[:,1],c=ytrain,s = 100*Xtrain['age']/(Xtrain['age'].max()))\n",
        "plt.colorbar()\n",
        "plt.savefig('results/Xtrain.pdf', format='pdf', dpi=300)\n",
        "plt.show()"
      ],
      "execution_count": null,
      "outputs": [
        {
          "output_type": "display_data",
          "data": {
            "image/png": "[encoded data removed]",
            "text/plain": [
              "<Figure size 432x288 with 2 Axes>"
            ]
          },
          "metadata": {
            "tags": [],
            "needs_background": "light"
          }
        }
      ]
    },
    {
      "cell_type": "markdown",
      "metadata": {
        "id": "JfwTRa_uQVhy"
      },
      "source": [
        "* "
      ]
    },
    {
      "cell_type": "code",
      "metadata": {
        "id": "19xacueuQtqV",
        "outputId": "b264c005-71bf-4495-9117-85fb2e06c130",
        "colab": {
          "base_uri": "https://localhost:8080/",
          "height": 221
        }
      },
      "source": [
        "# proceso con test\n",
        "Xtest['age']"
      ],
      "execution_count": null,
      "outputs": [
        {
          "output_type": "execute_result",
          "data": {
            "text/plain": [
              "135    75.0\n",
              "152    50.0\n",
              "212    78.0\n",
              "109    45.0\n",
              "40     70.0\n",
              "       ... \n",
              "252    50.0\n",
              "180    40.0\n",
              "223    47.0\n",
              "105    72.0\n",
              "44     60.0\n",
              "Name: age, Length: 90, dtype: float64"
            ]
          },
          "metadata": {
            "tags": []
          },
          "execution_count": 206
        }
      ]
    },
    {
      "cell_type": "code",
      "metadata": {
        "id": "xG61IfdnSJlW",
        "outputId": "91f8bfc3-8df1-41de-a88d-58ac1a99e6f3",
        "colab": {
          "base_uri": "https://localhost:8080/",
          "height": 323
        }
      },
      "source": [
        "Xtest.info()"
      ],
      "execution_count": null,
      "outputs": [
        {
          "output_type": "stream",
          "text": [
            "<class 'pandas.core.frame.DataFrame'>\n",
            "Int64Index: 90 entries, 135 to 44\n",
            "Data columns (total 11 columns):\n",
            " #   Column                    Non-Null Count  Dtype  \n",
            "---  ------                    --------------  -----  \n",
            " 0   age                       90 non-null     float64\n",
            " 1   anaemia                   90 non-null     int64  \n",
            " 2   creatinine_phosphokinase  90 non-null     int64  \n",
            " 3   diabetes                  90 non-null     int64  \n",
            " 4   ejection_fraction         90 non-null     int64  \n",
            " 5   high_blood_pressure       90 non-null     int64  \n",
            " 6   platelets                 90 non-null     float64\n",
            " 7   serum_creatinine          90 non-null     float64\n",
            " 8   serum_sodium              90 non-null     int64  \n",
            " 9   sex                       90 non-null     int64  \n",
            " 10  smoking                   90 non-null     int64  \n",
            "dtypes: float64(3), int64(8)\n",
            "memory usage: 8.4 KB\n"
          ],
          "name": "stdout"
        }
      ]
    },
    {
      "cell_type": "code",
      "metadata": {
        "id": "O-RsxOULSQ9L"
      },
      "source": [
        "zztest = red.transform(sca.transform(Xtest)) # una sola linea"
      ],
      "execution_count": null,
      "outputs": []
    },
    {
      "cell_type": "code",
      "metadata": {
        "id": "IJ0aq16pSUYB",
        "outputId": "5388814a-46ff-4995-f656-b94063868247",
        "colab": {
          "base_uri": "https://localhost:8080/",
          "height": 269
        }
      },
      "source": [
        "plt.scatter(zz[:,0],zz[:,1],c=ytrain,s = 100*Xtrain['age']/(Xtrain['age'].max()),label='train')\n",
        "plt.colorbar()\n",
        "plt.scatter(zztest[:,0],zztest[:,1],c=ytest,s=100*Xtest['age']/Xtest['age'].max(),marker='d',label='test')\n",
        "plt.legend()\n",
        "plt.savefig('results/Xtest.pdf', format='pdf', dpi=300)\n",
        "plt.show()"
      ],
      "execution_count": null,
      "outputs": [
        {
          "output_type": "display_data",
          "data": {
            "image/png": "[encoded data removed]",
            "text/plain": [
              "<Figure size 432x288 with 2 Axes>"
            ]
          },
          "metadata": {
            "tags": [],
            "needs_background": "light"
          }
        }
      ]
    },
    {
      "cell_type": "markdown",
      "metadata": {
        "id": "iQm7bQmDTF8A"
      },
      "source": [
        "# definir modelos de predicción"
      ]
    },
    {
      "cell_type": "code",
      "metadata": {
        "id": "AHkNan00TCtW"
      },
      "source": [
        ""
      ],
      "execution_count": null,
      "outputs": []
    }
  ]
}